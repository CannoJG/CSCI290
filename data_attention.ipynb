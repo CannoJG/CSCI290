{
 "cells": [
  {
   "cell_type": "markdown",
   "id": "b645fdbb",
   "metadata": {},
   "source": [
    "## Coding Assignment Two"
   ]
  },
  {
   "cell_type": "code",
   "execution_count": 1,
   "id": "28e5744c",
   "metadata": {},
   "outputs": [],
   "source": [
    "import torch\n",
    "import tiktoken\n"
   ]
  },
  {
   "cell_type": "code",
   "execution_count": 4,
   "id": "10db67c2",
   "metadata": {},
   "outputs": [
    {
     "name": "stdout",
     "output_type": "stream",
     "text": [
      "[1212, 318, 616, 3290, 11595, 417]\n"
     ]
    }
   ],
   "source": [
    "tokenizer= tiktoken.get_encoding(\"gpt2\")\n",
    "enc_text = tokenizer.encode(raw_text)\n",
    "print (enc_text)"
   ]
  },
  {
   "cell_type": "code",
   "execution_count": null,
   "id": "792b9108",
   "metadata": {},
   "outputs": [],
   "source": []
  }
 ],
 "metadata": {
  "kernelspec": {
   "display_name": "Python 3",
   "language": "python",
   "name": "python3"
  },
  "language_info": {
   "codemirror_mode": {
    "name": "ipython",
    "version": 3
   },
   "file_extension": ".py",
   "mimetype": "text/x-python",
   "name": "python",
   "nbconvert_exporter": "python",
   "pygments_lexer": "ipython3",
   "version": "3.13.1"
  }
 },
 "nbformat": 4,
 "nbformat_minor": 5
}
