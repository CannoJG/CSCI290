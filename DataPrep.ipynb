{
 "cells": [
  {
   "cell_type": "code",
   "execution_count": 2,
   "id": "d8698211",
   "metadata": {},
   "outputs": [],
   "source": [
    "import torch\n",
    "import tiktoken"
   ]
  },
  {
   "cell_type": "code",
   "execution_count": 3,
   "id": "247e2814",
   "metadata": {},
   "outputs": [
    {
     "data": {
      "text/plain": [
       "'The thousand injuries of Fortunato I had borne as '"
      ]
     },
     "execution_count": 3,
     "metadata": {},
     "output_type": "execute_result"
    }
   ],
   "source": [
    "with open (\"Amontillado.txt\", \"r\") as f:\n",
    "    raw_text = f.read()\n",
    "\n",
    "raw_text[:50]"
   ]
  },
  {
   "cell_type": "code",
   "execution_count": 4,
   "id": "6d561dc9",
   "metadata": {},
   "outputs": [],
   "source": [
    "tokenizer = tiktoken.get_encoding(\"gpt2\")\n"
   ]
  },
  {
   "cell_type": "code",
   "execution_count": 5,
   "id": "67d12f24",
   "metadata": {},
   "outputs": [],
   "source": [
    "enc_text = tokenizer.encode(raw_text)"
   ]
  },
  {
   "cell_type": "code",
   "execution_count": 6,
   "id": "dc95cc10",
   "metadata": {},
   "outputs": [
    {
     "name": "stdout",
     "output_type": "stream",
     "text": [
      "[464, 7319, 6821, 286, 376, 1922, 5549, 314, 550, 28068, 355, 314, 1266, 714, 26, 475, 618, 339, 44716, 2402]\n"
     ]
    }
   ],
   "source": [
    "print(enc_text[:20])"
   ]
  },
  {
   "cell_type": "code",
   "execution_count": 7,
   "id": "a63416ca",
   "metadata": {},
   "outputs": [
    {
     "name": "stdout",
     "output_type": "stream",
     "text": [
      "The thousand injuries of Fortunato I had borne as I best could; but when he ventured upon\n"
     ]
    }
   ],
   "source": [
    "print(tokenizer.decode(enc_text[:20]))"
   ]
  },
  {
   "cell_type": "code",
   "execution_count": 8,
   "id": "34be9f64",
   "metadata": {},
   "outputs": [
    {
     "name": "stdout",
     "output_type": "stream",
     "text": [
      "INPUT: The TARGET:  thousand\n",
      "INPUT: The thousand TARGET:  injuries\n",
      "INPUT: The thousand injuries TARGET:  of\n",
      "INPUT: The thousand injuries of TARGET:  F\n",
      "INPUT: The thousand injuries of F TARGET: ortun\n",
      "INPUT: The thousand injuries of Fortun TARGET: ato\n",
      "INPUT: The thousand injuries of Fortunato TARGET:  I\n",
      "INPUT: The thousand injuries of Fortunato I TARGET:  had\n",
      "INPUT: The thousand injuries of Fortunato I had TARGET:  borne\n"
     ]
    }
   ],
   "source": [
    "for i in range(1,10):\n",
    "    print(\"INPUT:\", tokenizer.decode(enc_text[:i]), \"TARGET:\", tokenizer.decode([enc_text[i]]))"
   ]
  },
  {
   "cell_type": "markdown",
   "id": "75a90c89",
   "metadata": {},
   "source": [
    "## Data Set "
   ]
  },
  {
   "cell_type": "code",
   "execution_count": 9,
   "id": "afaea70b",
   "metadata": {},
   "outputs": [],
   "source": [
    "from torch.utils.data import Dataset, DataLoader\n",
    "\n",
    "\n",
    "class GPTDatasetV1(Dataset):\n",
    "    def __init__(self, txt, tokenizer, max_length, stride):\n",
    "        self.input_ids = []\n",
    "        self.target_ids = []\n",
    "\n",
    "        # Tokenize the entire text\n",
    "        token_ids = tokenizer.encode(txt, allowed_special={\"<|endoftext|>\"})\n",
    "        assert len(token_ids) > max_length, \"Number of tokenized inputs must at least be equal to max_length+1\"\n",
    "\n",
    "        # Use a sliding window to chunk the book into overlapping sequences of max_length\n",
    "        for i in range(0, len(token_ids) - max_length, stride):\n",
    "            input_chunk = token_ids[i:i + max_length]\n",
    "            target_chunk = token_ids[i + 1: i + max_length + 1]\n",
    "            self.input_ids.append(torch.tensor(input_chunk))\n",
    "            self.target_ids.append(torch.tensor(target_chunk))\n",
    "\n",
    "    def __len__(self):\n",
    "        return len(self.input_ids)\n",
    "\n",
    "    def __getitem__(self, idx):\n",
    "        return self.input_ids[idx], self.target_ids[idx]\n",
    "\n"
   ]
  },
  {
   "cell_type": "markdown",
   "id": "8c6ff7f8",
   "metadata": {},
   "source": [
    "## Dataloader"
   ]
  },
  {
   "cell_type": "code",
   "execution_count": 10,
   "id": "e6f54fff",
   "metadata": {},
   "outputs": [],
   "source": [
    "def create_dataloader_v1(txt, batch_size=4, max_length=256, \n",
    "                         stride=128, shuffle=True, drop_last=True,\n",
    "                         num_workers=0):\n",
    "\n",
    "    # Initialize the tokenizer\n",
    "    tokenizer = tiktoken.get_encoding(\"gpt2\")\n",
    "\n",
    "    # Create dataset\n",
    "    dataset = GPTDatasetV1(txt, tokenizer, max_length, stride)\n",
    "\n",
    "    # Create dataloader\n",
    "    dataloader = DataLoader(\n",
    "        dataset,\n",
    "        batch_size=batch_size,\n",
    "        shuffle=shuffle,\n",
    "        drop_last=drop_last,\n",
    "        num_workers=num_workers\n",
    "    )\n",
    "\n",
    "    return dataloader"
   ]
  },
  {
   "cell_type": "code",
   "execution_count": 15,
   "id": "26fbeb6f",
   "metadata": {},
   "outputs": [
    {
     "name": "stdout",
     "output_type": "stream",
     "text": [
      "Inputs:\n",
      " tensor([[  464,  7319,  6821,   286],\n",
      "        [  376,  1922,  5549,   314],\n",
      "        [  550, 28068,   355,   314],\n",
      "        [ 1266,   714,    26,   475],\n",
      "        [  618,   339, 44716,  2402],\n",
      "        [13277,    11,   314, 19982],\n",
      "        [15827,    13,   921,    11],\n",
      "        [  508,   523,   880,   760]])\n",
      "\n",
      "Targets:\n",
      " tensor([[ 7319,  6821,   286,   376],\n",
      "        [ 1922,  5549,   314,   550],\n",
      "        [28068,   355,   314,  1266],\n",
      "        [  714,    26,   475,   618],\n",
      "        [  339, 44716,  2402, 13277],\n",
      "        [   11,   314, 19982, 15827],\n",
      "        [   13,   921,    11,   508],\n",
      "        [  523,   880,   760,   262]])\n"
     ]
    }
   ],
   "source": [
    "dataloader = create_dataloader_v1(raw_text, batch_size=8, max_length=4, stride=4, shuffle=False)\n",
    "\n",
    "data_iter = iter(dataloader)\n",
    "inputs, targets = next(data_iter)\n",
    "print(\"Inputs:\\n\", inputs)\n",
    "print(\"\\nTargets:\\n\", targets)\n"
   ]
  },
  {
   "cell_type": "code",
   "execution_count": 18,
   "id": "7669c17e",
   "metadata": {},
   "outputs": [
    {
     "data": {
      "text/plain": [
       "torch.Tensor"
      ]
     },
     "execution_count": 18,
     "metadata": {},
     "output_type": "execute_result"
    }
   ],
   "source": [
    "type(inputs)"
   ]
  },
  {
   "cell_type": "code",
   "execution_count": null,
   "id": "e824a7fb",
   "metadata": {},
   "outputs": [
    {
     "data": {
      "text/plain": [
       "torch.Size([8, 4])"
      ]
     },
     "execution_count": 19,
     "metadata": {},
     "output_type": "execute_result"
    }
   ],
   "source": [
    "#Gives dimensions of the tensor\n",
    "inputs.shape"
   ]
  },
  {
   "cell_type": "code",
   "execution_count": null,
   "id": "4f7b1eaa",
   "metadata": {},
   "outputs": [
    {
     "data": {
      "text/plain": [
       "tensor([ 376, 1922, 5549,  314])"
      ]
     },
     "execution_count": 20,
     "metadata": {},
     "output_type": "execute_result"
    }
   ],
   "source": [
    "#Look at the 2nd row\n",
    "inputs[1]"
   ]
  },
  {
   "cell_type": "code",
   "execution_count": null,
   "id": "8f38f336",
   "metadata": {},
   "outputs": [
    {
     "data": {
      "text/plain": [
       "tensor([  464,   376,   550,  1266,   618, 13277, 15827,   508])"
      ]
     },
     "execution_count": 21,
     "metadata": {},
     "output_type": "execute_result"
    }
   ],
   "source": [
    "# Look at the first column, first element of each row\n",
    "inputs[:,0]"
   ]
  },
  {
   "cell_type": "code",
   "execution_count": null,
   "id": "03d7bca4",
   "metadata": {},
   "outputs": [
    {
     "data": {
      "text/plain": [
       "tensor(5549)"
      ]
     },
     "execution_count": 22,
     "metadata": {},
     "output_type": "execute_result"
    }
   ],
   "source": [
    "# Look at the ID in the 2nd row and 3rd column\n",
    "inputs[1,2]"
   ]
  },
  {
   "cell_type": "code",
   "execution_count": null,
   "id": "23ec0314",
   "metadata": {},
   "outputs": [
    {
     "name": "stdout",
     "output_type": "stream",
     "text": [
      "The thousand injuries of\n",
      " Fortunato I\n",
      " had borne as I\n",
      " best could; but\n",
      " when he ventured upon\n",
      " insult, I vowed\n",
      " revenge. You,\n",
      " who so well know\n"
     ]
    }
   ],
   "source": [
    "#Print tensor row by row, converting to list so tokenizer can decode\n",
    "for row in inputs:\n",
    "    print(tokenizer.decode(row.tolist()))"
   ]
  },
  {
   "cell_type": "markdown",
   "id": "1e1b26d6",
   "metadata": {},
   "source": [
    "## Example of Generating Embedding Vectors"
   ]
  },
  {
   "cell_type": "code",
   "execution_count": null,
   "id": "73f9853f",
   "metadata": {},
   "outputs": [],
   "source": [
    "#illustrative example of how to generate the vectors of length 3 for the 6 word vocabular\n",
    "vocab_size = 6\n",
    "output_dim = 3"
   ]
  },
  {
   "cell_type": "code",
   "execution_count": null,
   "id": "7c3bb203",
   "metadata": {},
   "outputs": [],
   "source": [
    "#nn is a sub-module for nueral networks in torch which contains Embedding\n",
    "#Embedding created embedding vectors of a certain length for a certain vocab size\n",
    "embedding = torch.nn.Embedding(vocab_size, output_dim)"
   ]
  },
  {
   "cell_type": "code",
   "execution_count": 32,
   "id": "29601ae7",
   "metadata": {},
   "outputs": [
    {
     "name": "stdout",
     "output_type": "stream",
     "text": [
      "Parameter containing:\n",
      "tensor([[-0.8602, -0.3075, -0.8975],\n",
      "        [-0.5788, -0.9593,  0.5439],\n",
      "        [ 0.2293,  0.3508, -0.3485],\n",
      "        [ 1.3905,  0.6468,  0.6557],\n",
      "        [ 1.1201, -0.1762,  0.6243],\n",
      "        [ 0.4526,  0.7582,  0.6036]], requires_grad=True)\n"
     ]
    }
   ],
   "source": [
    "print(embedding.weight)"
   ]
  },
  {
   "cell_type": "code",
   "execution_count": 33,
   "id": "12d7c23e",
   "metadata": {},
   "outputs": [
    {
     "data": {
      "text/plain": [
       "tensor([-0.8602, -0.3075, -0.8975], grad_fn=<SelectBackward0>)"
      ]
     },
     "execution_count": 33,
     "metadata": {},
     "output_type": "execute_result"
    }
   ],
   "source": [
    "embedding.weight[0]"
   ]
  },
  {
   "cell_type": "code",
   "execution_count": null,
   "id": "880fb710",
   "metadata": {},
   "outputs": [
    {
     "data": {
      "text/plain": [
       "tensor([[-0.8602, -0.3075, -0.8975],\n",
       "        [-0.5788, -0.9593,  0.5439],\n",
       "        [ 0.2293,  0.3508, -0.3485],\n",
       "        [ 1.3905,  0.6468,  0.6557],\n",
       "        [ 1.1201, -0.1762,  0.6243],\n",
       "        [ 0.4526,  0.7582,  0.6036]])"
      ]
     },
     "execution_count": 34,
     "metadata": {},
     "output_type": "execute_result"
    }
   ],
   "source": [
    "#get rid of reqires_grad bit of text\n",
    "embedding.weight.data"
   ]
  },
  {
   "cell_type": "code",
   "execution_count": null,
   "id": "32d935c1",
   "metadata": {},
   "outputs": [
    {
     "name": "stdout",
     "output_type": "stream",
     "text": [
      "tensor([[-0.8602, -0.3075, -0.8975],\n",
      "        [-0.5788, -0.9593,  0.5439],\n",
      "        [ 0.2293,  0.3508, -0.3485],\n",
      "        [ 1.3905,  0.6468,  0.6557],\n",
      "        [ 1.1201, -0.1762,  0.6243],\n",
      "        [ 0.4526,  0.7582,  0.6036]])\n"
     ]
    }
   ],
   "source": [
    "# Or get rid of it using detach()\n",
    "print(embedding.weight.detach())"
   ]
  },
  {
   "cell_type": "code",
   "execution_count": 36,
   "id": "394fef7a",
   "metadata": {},
   "outputs": [],
   "source": [
    "#What it would really look like with the correct sizes\n",
    "#embedding = torch.nn.Embedding(tokenizer.n_vocab, 256)"
   ]
  },
  {
   "cell_type": "code",
   "execution_count": 40,
   "id": "de48422a",
   "metadata": {},
   "outputs": [
    {
     "data": {
      "text/plain": [
       "tensor([[-0.8602, -0.3075, -0.8975],\n",
       "        [-0.5788, -0.9593,  0.5439],\n",
       "        [ 0.2293,  0.3508, -0.3485],\n",
       "        [ 1.3905,  0.6468,  0.6557],\n",
       "        [ 1.1201, -0.1762,  0.6243],\n",
       "        [ 0.4526,  0.7582,  0.6036]])"
      ]
     },
     "execution_count": 40,
     "metadata": {},
     "output_type": "execute_result"
    }
   ],
   "source": [
    "A = embedding.weight.data\n",
    "A"
   ]
  },
  {
   "cell_type": "code",
   "execution_count": 44,
   "id": "af4a766b",
   "metadata": {},
   "outputs": [
    {
     "name": "stdout",
     "output_type": "stream",
     "text": [
      "tensor([2.1000, 1.3000]) tensor([1.5000, 2.7000])\n"
     ]
    }
   ],
   "source": [
    "#making tensors from scratch-- just put in the elements\n",
    "x = torch.tensor([2.1,1.3])\n",
    "y = torch.tensor([1.5,2.7])\n",
    "print(x,y)"
   ]
  },
  {
   "cell_type": "code",
   "execution_count": null,
   "id": "6a6d8c17",
   "metadata": {},
   "outputs": [
    {
     "data": {
      "text/plain": [
       "tensor(6.6600)"
      ]
     },
     "execution_count": 45,
     "metadata": {},
     "output_type": "execute_result"
    }
   ],
   "source": [
    "#computing the dot product if two tensors\n",
    "torch.dot(x,y)"
   ]
  },
  {
   "cell_type": "code",
   "execution_count": null,
   "id": "a8c2378b",
   "metadata": {},
   "outputs": [],
   "source": []
  }
 ],
 "metadata": {
  "kernelspec": {
   "display_name": "Python 3",
   "language": "python",
   "name": "python3"
  },
  "language_info": {
   "codemirror_mode": {
    "name": "ipython",
    "version": 3
   },
   "file_extension": ".py",
   "mimetype": "text/x-python",
   "name": "python",
   "nbconvert_exporter": "python",
   "pygments_lexer": "ipython3",
   "version": "3.13.1"
  }
 },
 "nbformat": 4,
 "nbformat_minor": 5
}
