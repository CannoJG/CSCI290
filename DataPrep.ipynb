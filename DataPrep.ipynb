{
 "cells": [
  {
   "cell_type": "code",
   "execution_count": 3,
   "id": "d8698211",
   "metadata": {},
   "outputs": [],
   "source": [
    "import torch\n",
    "import tiktoken"
   ]
  },
  {
   "cell_type": "code",
   "execution_count": 4,
   "id": "247e2814",
   "metadata": {},
   "outputs": [
    {
     "data": {
      "text/plain": [
       "'The thousand injuries of Fortunato I had borne as '"
      ]
     },
     "execution_count": 4,
     "metadata": {},
     "output_type": "execute_result"
    }
   ],
   "source": [
    "with open (\"Amontillado.txt\", \"r\") as f:\n",
    "    raw_text = f.read()\n",
    "\n",
    "raw_text[:50]"
   ]
  },
  {
   "cell_type": "code",
   "execution_count": 5,
   "id": "6d561dc9",
   "metadata": {},
   "outputs": [],
   "source": [
    "tokenizer = tiktoken.get_encoding(\"gpt2\")\n"
   ]
  },
  {
   "cell_type": "code",
   "execution_count": 6,
   "id": "67d12f24",
   "metadata": {},
   "outputs": [],
   "source": [
    "enc_text = tokenizer.encode(raw_text)"
   ]
  },
  {
   "cell_type": "code",
   "execution_count": 7,
   "id": "dc95cc10",
   "metadata": {},
   "outputs": [
    {
     "name": "stdout",
     "output_type": "stream",
     "text": [
      "[464, 7319, 6821, 286, 376, 1922, 5549, 314, 550, 28068, 355, 314, 1266, 714, 26, 475, 618, 339, 44716, 2402]\n"
     ]
    }
   ],
   "source": [
    "print(enc_text[:20])"
   ]
  },
  {
   "cell_type": "code",
   "execution_count": 8,
   "id": "a63416ca",
   "metadata": {},
   "outputs": [
    {
     "name": "stdout",
     "output_type": "stream",
     "text": [
      "The thousand injuries of Fortunato I had borne as I best could; but when he ventured upon\n"
     ]
    }
   ],
   "source": [
    "print(tokenizer.decode(enc_text[:20]))"
   ]
  },
  {
   "cell_type": "code",
   "execution_count": 9,
   "id": "34be9f64",
   "metadata": {},
   "outputs": [
    {
     "name": "stdout",
     "output_type": "stream",
     "text": [
      "INPUT: The TARGET:  thousand\n",
      "INPUT: The thousand TARGET:  injuries\n",
      "INPUT: The thousand injuries TARGET:  of\n",
      "INPUT: The thousand injuries of TARGET:  F\n",
      "INPUT: The thousand injuries of F TARGET: ortun\n",
      "INPUT: The thousand injuries of Fortun TARGET: ato\n",
      "INPUT: The thousand injuries of Fortunato TARGET:  I\n",
      "INPUT: The thousand injuries of Fortunato I TARGET:  had\n",
      "INPUT: The thousand injuries of Fortunato I had TARGET:  borne\n"
     ]
    }
   ],
   "source": [
    "for i in range(1,10):\n",
    "    print(\"INPUT:\", tokenizer.decode(enc_text[:i]), \"TARGET:\", tokenizer.decode([enc_text[i]]))"
   ]
  },
  {
   "cell_type": "markdown",
   "id": "75a90c89",
   "metadata": {},
   "source": [
    "## Data Set "
   ]
  },
  {
   "cell_type": "code",
   "execution_count": 10,
   "id": "afaea70b",
   "metadata": {},
   "outputs": [],
   "source": [
    "from torch.utils.data import Dataset, DataLoader\n",
    "\n",
    "\n",
    "class GPTDatasetV1(Dataset):\n",
    "    def __init__(self, txt, tokenizer, max_length, stride):\n",
    "        self.input_ids = []\n",
    "        self.target_ids = []\n",
    "\n",
    "        # Tokenize the entire text\n",
    "        token_ids = tokenizer.encode(txt, allowed_special={\"<|endoftext|>\"})\n",
    "        assert len(token_ids) > max_length, \"Number of tokenized inputs must at least be equal to max_length+1\"\n",
    "\n",
    "        # Use a sliding window to chunk the book into overlapping sequences of max_length\n",
    "        for i in range(0, len(token_ids) - max_length, stride):\n",
    "            input_chunk = token_ids[i:i + max_length]\n",
    "            target_chunk = token_ids[i + 1: i + max_length + 1]\n",
    "            self.input_ids.append(torch.tensor(input_chunk))\n",
    "            self.target_ids.append(torch.tensor(target_chunk))\n",
    "\n",
    "    def __len__(self):\n",
    "        return len(self.input_ids)\n",
    "\n",
    "    def __getitem__(self, idx):\n",
    "        return self.input_ids[idx], self.target_ids[idx]\n",
    "\n"
   ]
  },
  {
   "cell_type": "markdown",
   "id": "8c6ff7f8",
   "metadata": {},
   "source": [
    "## Dataloader"
   ]
  },
  {
   "cell_type": "code",
   "execution_count": 11,
   "id": "e6f54fff",
   "metadata": {},
   "outputs": [],
   "source": [
    "def create_dataloader_v1(txt, batch_size=4, max_length=256, \n",
    "                         stride=128, shuffle=True, drop_last=True,\n",
    "                         num_workers=0):\n",
    "\n",
    "    # Initialize the tokenizer\n",
    "    tokenizer = tiktoken.get_encoding(\"gpt2\")\n",
    "\n",
    "    # Create dataset\n",
    "    dataset = GPTDatasetV1(txt, tokenizer, max_length, stride)\n",
    "\n",
    "    # Create dataloader\n",
    "    dataloader = DataLoader(\n",
    "        dataset,\n",
    "        batch_size=batch_size,\n",
    "        shuffle=shuffle,\n",
    "        drop_last=drop_last,\n",
    "        num_workers=num_workers\n",
    "    )\n",
    "\n",
    "    return dataloader"
   ]
  },
  {
   "cell_type": "code",
   "execution_count": 12,
   "id": "26fbeb6f",
   "metadata": {},
   "outputs": [
    {
     "name": "stdout",
     "output_type": "stream",
     "text": [
      "Inputs:\n",
      " tensor([[  464,  7319,  6821,   286],\n",
      "        [  376,  1922,  5549,   314],\n",
      "        [  550, 28068,   355,   314],\n",
      "        [ 1266,   714,    26,   475],\n",
      "        [  618,   339, 44716,  2402],\n",
      "        [13277,    11,   314, 19982],\n",
      "        [15827,    13,   921,    11],\n",
      "        [  508,   523,   880,   760]])\n",
      "\n",
      "Targets:\n",
      " tensor([[ 7319,  6821,   286,   376],\n",
      "        [ 1922,  5549,   314,   550],\n",
      "        [28068,   355,   314,  1266],\n",
      "        [  714,    26,   475,   618],\n",
      "        [  339, 44716,  2402, 13277],\n",
      "        [   11,   314, 19982, 15827],\n",
      "        [   13,   921,    11,   508],\n",
      "        [  523,   880,   760,   262]])\n"
     ]
    }
   ],
   "source": [
    "dataloader = create_dataloader_v1(raw_text, batch_size=8, max_length=4, stride=4, shuffle=False)\n",
    "\n",
    "data_iter = iter(dataloader)\n",
    "inputs, targets = next(data_iter)\n",
    "print(\"Inputs:\\n\", inputs)\n",
    "print(\"\\nTargets:\\n\", targets)\n"
   ]
  },
  {
   "cell_type": "code",
   "execution_count": 13,
   "id": "7669c17e",
   "metadata": {},
   "outputs": [
    {
     "data": {
      "text/plain": [
       "torch.Tensor"
      ]
     },
     "execution_count": 13,
     "metadata": {},
     "output_type": "execute_result"
    }
   ],
   "source": [
    "type(inputs)"
   ]
  },
  {
   "cell_type": "code",
   "execution_count": 14,
   "id": "e824a7fb",
   "metadata": {},
   "outputs": [
    {
     "data": {
      "text/plain": [
       "torch.Size([8, 4])"
      ]
     },
     "execution_count": 14,
     "metadata": {},
     "output_type": "execute_result"
    }
   ],
   "source": [
    "#Gives dimensions of the tensor\n",
    "inputs.shape"
   ]
  },
  {
   "cell_type": "code",
   "execution_count": 15,
   "id": "4f7b1eaa",
   "metadata": {},
   "outputs": [
    {
     "data": {
      "text/plain": [
       "tensor([ 376, 1922, 5549,  314])"
      ]
     },
     "execution_count": 15,
     "metadata": {},
     "output_type": "execute_result"
    }
   ],
   "source": [
    "#Look at the 2nd row\n",
    "inputs[1]"
   ]
  },
  {
   "cell_type": "code",
   "execution_count": 16,
   "id": "8f38f336",
   "metadata": {},
   "outputs": [
    {
     "data": {
      "text/plain": [
       "tensor([  464,   376,   550,  1266,   618, 13277, 15827,   508])"
      ]
     },
     "execution_count": 16,
     "metadata": {},
     "output_type": "execute_result"
    }
   ],
   "source": [
    "# Look at the first column, first element of each row\n",
    "inputs[:,0]"
   ]
  },
  {
   "cell_type": "code",
   "execution_count": 17,
   "id": "03d7bca4",
   "metadata": {},
   "outputs": [
    {
     "data": {
      "text/plain": [
       "tensor(5549)"
      ]
     },
     "execution_count": 17,
     "metadata": {},
     "output_type": "execute_result"
    }
   ],
   "source": [
    "# Look at the ID in the 2nd row and 3rd column\n",
    "inputs[1,2]"
   ]
  },
  {
   "cell_type": "code",
   "execution_count": 18,
   "id": "23ec0314",
   "metadata": {},
   "outputs": [
    {
     "name": "stdout",
     "output_type": "stream",
     "text": [
      "The thousand injuries of\n",
      " Fortunato I\n",
      " had borne as I\n",
      " best could; but\n",
      " when he ventured upon\n",
      " insult, I vowed\n",
      " revenge. You,\n",
      " who so well know\n"
     ]
    }
   ],
   "source": [
    "#Print tensor row by row, converting to list so tokenizer can decode\n",
    "for row in inputs:\n",
    "    print(tokenizer.decode(row.tolist()))"
   ]
  },
  {
   "cell_type": "markdown",
   "id": "1e1b26d6",
   "metadata": {},
   "source": [
    "## Example of Generating Embedding Vectors"
   ]
  },
  {
   "cell_type": "code",
   "execution_count": 19,
   "id": "73f9853f",
   "metadata": {},
   "outputs": [],
   "source": [
    "#illustrative example of how to generate the vectors of length 3 for the 6 word vocabular\n",
    "vocab_size = 6\n",
    "output_dim = 3"
   ]
  },
  {
   "cell_type": "code",
   "execution_count": 20,
   "id": "7c3bb203",
   "metadata": {},
   "outputs": [],
   "source": [
    "#nn is a sub-module for nueral networks in torch which contains Embedding\n",
    "#Embedding created embedding vectors of a certain length for a certain vocab size\n",
    "embedding = torch.nn.Embedding(vocab_size, output_dim)"
   ]
  },
  {
   "cell_type": "code",
   "execution_count": 21,
   "id": "29601ae7",
   "metadata": {},
   "outputs": [
    {
     "name": "stdout",
     "output_type": "stream",
     "text": [
      "Parameter containing:\n",
      "tensor([[-2.2555,  0.7974,  1.6821],\n",
      "        [-0.6824,  0.7153, -1.8959],\n",
      "        [-0.2384, -0.0368,  0.6202],\n",
      "        [ 0.0414,  0.4130,  0.5008],\n",
      "        [-1.8873, -1.8476, -0.5438],\n",
      "        [-0.7476, -0.4821,  0.9682]], requires_grad=True)\n"
     ]
    }
   ],
   "source": [
    "print(embedding.weight)"
   ]
  },
  {
   "cell_type": "code",
   "execution_count": 22,
   "id": "12d7c23e",
   "metadata": {},
   "outputs": [
    {
     "data": {
      "text/plain": [
       "tensor([-2.2555,  0.7974,  1.6821], grad_fn=<SelectBackward0>)"
      ]
     },
     "execution_count": 22,
     "metadata": {},
     "output_type": "execute_result"
    }
   ],
   "source": [
    "embedding.weight[0]"
   ]
  },
  {
   "cell_type": "code",
   "execution_count": 23,
   "id": "880fb710",
   "metadata": {},
   "outputs": [
    {
     "data": {
      "text/plain": [
       "tensor([[-2.2555,  0.7974,  1.6821],\n",
       "        [-0.6824,  0.7153, -1.8959],\n",
       "        [-0.2384, -0.0368,  0.6202],\n",
       "        [ 0.0414,  0.4130,  0.5008],\n",
       "        [-1.8873, -1.8476, -0.5438],\n",
       "        [-0.7476, -0.4821,  0.9682]])"
      ]
     },
     "execution_count": 23,
     "metadata": {},
     "output_type": "execute_result"
    }
   ],
   "source": [
    "#get rid of reqires_grad bit of text\n",
    "embedding.weight.data"
   ]
  },
  {
   "cell_type": "code",
   "execution_count": 24,
   "id": "32d935c1",
   "metadata": {},
   "outputs": [
    {
     "name": "stdout",
     "output_type": "stream",
     "text": [
      "tensor([[-2.2555,  0.7974,  1.6821],\n",
      "        [-0.6824,  0.7153, -1.8959],\n",
      "        [-0.2384, -0.0368,  0.6202],\n",
      "        [ 0.0414,  0.4130,  0.5008],\n",
      "        [-1.8873, -1.8476, -0.5438],\n",
      "        [-0.7476, -0.4821,  0.9682]])\n"
     ]
    }
   ],
   "source": [
    "# Or get rid of it using detach()\n",
    "print(embedding.weight.detach())"
   ]
  },
  {
   "cell_type": "code",
   "execution_count": 25,
   "id": "394fef7a",
   "metadata": {},
   "outputs": [],
   "source": [
    "#What it would really look like with the correct sizes\n",
    "#embedding = torch.nn.Embedding(tokenizer.n_vocab, 256)"
   ]
  },
  {
   "cell_type": "code",
   "execution_count": 26,
   "id": "de48422a",
   "metadata": {},
   "outputs": [
    {
     "data": {
      "text/plain": [
       "tensor([[-2.2555,  0.7974,  1.6821],\n",
       "        [-0.6824,  0.7153, -1.8959],\n",
       "        [-0.2384, -0.0368,  0.6202],\n",
       "        [ 0.0414,  0.4130,  0.5008],\n",
       "        [-1.8873, -1.8476, -0.5438],\n",
       "        [-0.7476, -0.4821,  0.9682]])"
      ]
     },
     "execution_count": 26,
     "metadata": {},
     "output_type": "execute_result"
    }
   ],
   "source": [
    "A = embedding.weight.data\n",
    "A"
   ]
  },
  {
   "cell_type": "code",
   "execution_count": 27,
   "id": "af4a766b",
   "metadata": {},
   "outputs": [
    {
     "name": "stdout",
     "output_type": "stream",
     "text": [
      "tensor([2.1000, 1.3000]) tensor([1.5000, 2.7000])\n"
     ]
    }
   ],
   "source": [
    "#making tensors from scratch-- just put in the elements\n",
    "x = torch.tensor([2.1,1.3])\n",
    "y = torch.tensor([1.5,2.7])\n",
    "print(x,y)"
   ]
  },
  {
   "cell_type": "code",
   "execution_count": 28,
   "id": "6a6d8c17",
   "metadata": {},
   "outputs": [
    {
     "data": {
      "text/plain": [
       "tensor(6.6600)"
      ]
     },
     "execution_count": 28,
     "metadata": {},
     "output_type": "execute_result"
    }
   ],
   "source": [
    "#computing the dot product if two tensors\n",
    "torch.dot(x,y)"
   ]
  },
  {
   "cell_type": "markdown",
   "id": "91261536",
   "metadata": {},
   "source": [
    "## Some More Practice Stuff on Attention Mechanisms"
   ]
  },
  {
   "cell_type": "code",
   "execution_count": 51,
   "id": "a8c2378b",
   "metadata": {},
   "outputs": [],
   "source": [
    "raw_text= \"This is my dog Hazel\"\n"
   ]
  },
  {
   "cell_type": "code",
   "execution_count": 52,
   "id": "b24f7de6",
   "metadata": {},
   "outputs": [
    {
     "name": "stdout",
     "output_type": "stream",
     "text": [
      "[1212, 318, 616, 3290, 42805]\n"
     ]
    }
   ],
   "source": [
    "tokenizer= tiktoken.get_encoding(\"gpt2\")\n",
    "enc_text = tokenizer.encode(raw_text)\n",
    "print (enc_text)"
   ]
  },
  {
   "cell_type": "code",
   "execution_count": 53,
   "id": "308f483d",
   "metadata": {},
   "outputs": [
    {
     "name": "stdout",
     "output_type": "stream",
     "text": [
      "Parameter containing:\n",
      "tensor([[-0.3221,  0.8238, -0.9973,  0.7913],\n",
      "        [ 0.2629, -0.0547,  0.7496,  0.0915],\n",
      "        [ 0.2904, -0.3321, -1.1076, -0.0044],\n",
      "        [ 0.7869,  0.5415, -0.0379,  0.4674],\n",
      "        [-0.8365, -2.8908,  2.1387,  0.5873]], requires_grad=True)\n"
     ]
    }
   ],
   "source": [
    "vocab_size = 5\n",
    "output_dim = 4\n",
    "inputs = torch.nn.Embedding(vocab_size, output_dim)\n",
    "print(inputs.weight)"
   ]
  },
  {
   "cell_type": "code",
   "execution_count": 54,
   "id": "100c3c95",
   "metadata": {},
   "outputs": [
    {
     "data": {
      "text/plain": [
       "tensor([[-0.3221,  0.8238, -0.9973,  0.7913],\n",
       "        [ 0.2629, -0.0547,  0.7496,  0.0915],\n",
       "        [ 0.2904, -0.3321, -1.1076, -0.0044],\n",
       "        [ 0.7869,  0.5415, -0.0379,  0.4674],\n",
       "        [-0.8365, -2.8908,  2.1387,  0.5873]])"
      ]
     },
     "execution_count": 54,
     "metadata": {},
     "output_type": "execute_result"
    }
   ],
   "source": [
    "#This gets rid of the grad=True thing\n",
    "inputs = inputs.weight.data\n",
    "inputs"
   ]
  },
  {
   "cell_type": "code",
   "execution_count": 55,
   "id": "3a70dfdb",
   "metadata": {},
   "outputs": [
    {
     "data": {
      "text/plain": [
       "torch.Size([5, 4])"
      ]
     },
     "execution_count": 55,
     "metadata": {},
     "output_type": "execute_result"
    }
   ],
   "source": [
    "inputs.shape"
   ]
  },
  {
   "cell_type": "code",
   "execution_count": 56,
   "id": "73c0e948",
   "metadata": {},
   "outputs": [
    {
     "name": "stdout",
     "output_type": "stream",
     "text": [
      "[-0.32212430238723755, 0.8237895369529724, -0.9973262548446655, 0.7912711501121521]\n",
      "[0.262864351272583, -0.0546538382768631, 0.7495768070220947, 0.09148071706295013]\n",
      "[0.29040059447288513, -0.3321409523487091, -1.1075810194015503, -0.0043955701403319836]\n",
      "[0.7868971824645996, 0.5414729714393616, -0.03785805404186249, 0.4673885703086853]\n",
      "[-0.8364709615707397, -2.8908259868621826, 2.138699769973755, 0.5872803926467896]\n"
     ]
    }
   ],
   "source": [
    "for row in inputs:\n",
    "    print(row.tolist())"
   ]
  },
  {
   "cell_type": "code",
   "execution_count": 57,
   "id": "9a914685",
   "metadata": {},
   "outputs": [],
   "source": [
    "#Example to do dot product\n",
    "x = torch.Tensor([1.1, 2.3])\n",
    "y = torch.Tensor([3.4,-2.1])"
   ]
  },
  {
   "cell_type": "code",
   "execution_count": 58,
   "id": "e2ebda04",
   "metadata": {},
   "outputs": [
    {
     "data": {
      "text/plain": [
       "-1.0899999999999999"
      ]
     },
     "execution_count": 58,
     "metadata": {},
     "output_type": "execute_result"
    }
   ],
   "source": [
    "#Calculate the dot product... annoying by hand\n",
    "1.1*3.4 + 2.3*(-2.1)"
   ]
  },
  {
   "cell_type": "code",
   "execution_count": 59,
   "id": "3cf62b1b",
   "metadata": {},
   "outputs": [
    {
     "data": {
      "text/plain": [
       "tensor(-1.0900)"
      ]
     },
     "execution_count": 59,
     "metadata": {},
     "output_type": "execute_result"
    }
   ],
   "source": [
    "#Built in dot product method!\n",
    "torch.dot(x,y)"
   ]
  },
  {
   "cell_type": "code",
   "execution_count": 69,
   "id": "dc5beedb",
   "metadata": {},
   "outputs": [
    {
     "name": "stdout",
     "output_type": "stream",
     "text": [
      "tensor([ 0.2904, -0.3321, -1.1076, -0.0044])\n"
     ]
    }
   ],
   "source": [
    "#The important one\n",
    "query = inputs[2]\n",
    "print(query)"
   ]
  },
  {
   "cell_type": "code",
   "execution_count": 70,
   "id": "02063f8c",
   "metadata": {},
   "outputs": [
    {
     "name": "stdout",
     "output_type": "stream",
     "text": [
      "tensor(0.7340)\n",
      "tensor(-0.7361)\n",
      "tensor(1.4214)\n",
      "tensor(0.0885)\n",
      "tensor(-1.6541)\n"
     ]
    }
   ],
   "source": [
    "# gives the dot products of the 3rd embedding vector with all the other vectors (vector 3 x vector 1, vector 3 x vector 2 ...)\n",
    "for i in range(len(inputs)):\n",
    "    print(torch.dot(query, inputs[i]))"
   ]
  },
  {
   "cell_type": "code",
   "execution_count": 71,
   "id": "9dbe5209",
   "metadata": {},
   "outputs": [
    {
     "name": "stdout",
     "output_type": "stream",
     "text": [
      "tensor([ 0.7340, -0.7361,  1.4214,  0.0885, -1.6541])\n"
     ]
    }
   ],
   "source": [
    "#Want the dot products (attention scores) in a tensor of their own\n",
    "#torch.zeros creates a tensor of zeros so that you can fill them in\n",
    "\n",
    "attention_scores_2 = torch.zeros(len(inputs))\n",
    "for i in range(len(inputs)):\n",
    "    attention_scores_2[i] = (torch.dot(query, inputs[i]))\n",
    "print(attention_scores_2)"
   ]
  },
  {
   "cell_type": "code",
   "execution_count": null,
   "id": "eb1e05e2",
   "metadata": {},
   "outputs": [],
   "source": [
    "# Normaling the attention scores using softmax function-- basically makes everything positive in a complicated way\n",
    "#def softmax(x):\n",
    "    #torch.exp(x) / torch.exp(x).sum()"
   ]
  },
  {
   "cell_type": "code",
   "execution_count": 72,
   "id": "7160071e",
   "metadata": {},
   "outputs": [],
   "source": [
    "#use the real torch function!\n",
    "# Make sure you add the dimension\n",
    "attention_scores_2 = torch.softmax(attention_scores_2, dim = 0)"
   ]
  },
  {
   "cell_type": "code",
   "execution_count": 73,
   "id": "0fe80183",
   "metadata": {},
   "outputs": [
    {
     "data": {
      "text/plain": [
       "tensor(1.0000)"
      ]
     },
     "execution_count": 73,
     "metadata": {},
     "output_type": "execute_result"
    }
   ],
   "source": [
    "attention_scores_2.sum()"
   ]
  },
  {
   "cell_type": "code",
   "execution_count": null,
   "id": "ee59991b",
   "metadata": {},
   "outputs": [
    {
     "data": {
      "text/plain": [
       "tensor([ 0.1699,  0.0442, -0.7435,  0.2875])"
      ]
     },
     "execution_count": 76,
     "metadata": {},
     "output_type": "execute_result"
    }
   ],
   "source": [
    "# Making the actual context vector ...\n",
    "context_vector_2 = torch.zeros(query.shape)\n",
    "for i in range(len(attention_scores_2)):\n",
    "    context_vector_2 += attention_scores_2[i]*inputs[i]\n",
    "context_vector_2"
   ]
  },
  {
   "cell_type": "code",
   "execution_count": null,
   "id": "245322c7",
   "metadata": {},
   "outputs": [],
   "source": []
  }
 ],
 "metadata": {
  "kernelspec": {
   "display_name": "Python 3",
   "language": "python",
   "name": "python3"
  },
  "language_info": {
   "codemirror_mode": {
    "name": "ipython",
    "version": 3
   },
   "file_extension": ".py",
   "mimetype": "text/x-python",
   "name": "python",
   "nbconvert_exporter": "python",
   "pygments_lexer": "ipython3",
   "version": "3.13.1"
  }
 },
 "nbformat": 4,
 "nbformat_minor": 5
}
