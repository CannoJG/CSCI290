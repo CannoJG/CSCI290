{
 "cells": [
  {
   "cell_type": "code",
   "execution_count": 1,
   "id": "d8698211",
   "metadata": {},
   "outputs": [],
   "source": [
    "import torch\n",
    "import tiktoken"
   ]
  },
  {
   "cell_type": "code",
   "execution_count": 2,
   "id": "247e2814",
   "metadata": {},
   "outputs": [
    {
     "data": {
      "text/plain": [
       "'The thousand injuries of Fortunato I had borne as '"
      ]
     },
     "execution_count": 2,
     "metadata": {},
     "output_type": "execute_result"
    }
   ],
   "source": [
    "with open (\"Amontillado.txt\", \"r\") as f:\n",
    "    raw_text = f.read()\n",
    "\n",
    "raw_text[:50]"
   ]
  },
  {
   "cell_type": "code",
   "execution_count": 3,
   "id": "6d561dc9",
   "metadata": {},
   "outputs": [],
   "source": [
    "tokenizer = tiktoken.get_encoding(\"gpt2\")\n"
   ]
  },
  {
   "cell_type": "code",
   "execution_count": 4,
   "id": "67d12f24",
   "metadata": {},
   "outputs": [],
   "source": [
    "enc_text = tokenizer.encode(raw_text)"
   ]
  },
  {
   "cell_type": "code",
   "execution_count": 5,
   "id": "dc95cc10",
   "metadata": {},
   "outputs": [
    {
     "name": "stdout",
     "output_type": "stream",
     "text": [
      "[464, 7319, 6821, 286, 376, 1922, 5549, 314, 550, 28068, 355, 314, 1266, 714, 26, 475, 618, 339, 44716, 2402]\n"
     ]
    }
   ],
   "source": [
    "print(enc_text[:20])"
   ]
  },
  {
   "cell_type": "code",
   "execution_count": 6,
   "id": "a63416ca",
   "metadata": {},
   "outputs": [
    {
     "name": "stdout",
     "output_type": "stream",
     "text": [
      "The thousand injuries of Fortunato I had borne as I best could; but when he ventured upon\n"
     ]
    }
   ],
   "source": [
    "print(tokenizer.decode(enc_text[:20]))"
   ]
  },
  {
   "cell_type": "code",
   "execution_count": 13,
   "id": "34be9f64",
   "metadata": {},
   "outputs": [
    {
     "name": "stdout",
     "output_type": "stream",
     "text": [
      "INPUT: The TARGET:  thousand\n",
      "INPUT: The thousand TARGET:  injuries\n",
      "INPUT: The thousand injuries TARGET:  of\n",
      "INPUT: The thousand injuries of TARGET:  F\n",
      "INPUT: The thousand injuries of F TARGET: ortun\n",
      "INPUT: The thousand injuries of Fortun TARGET: ato\n",
      "INPUT: The thousand injuries of Fortunato TARGET:  I\n",
      "INPUT: The thousand injuries of Fortunato I TARGET:  had\n",
      "INPUT: The thousand injuries of Fortunato I had TARGET:  borne\n"
     ]
    }
   ],
   "source": [
    "for i in range(1,10):\n",
    "    print(\"INPUT:\", tokenizer.decode(enc_text[:i]), \"TARGET:\", tokenizer.decode([enc_text[i]]))"
   ]
  },
  {
   "cell_type": "markdown",
   "id": "75a90c89",
   "metadata": {},
   "source": [
    "## Data Set "
   ]
  },
  {
   "cell_type": "code",
   "execution_count": 9,
   "id": "afaea70b",
   "metadata": {},
   "outputs": [],
   "source": [
    "from torch.utils.data import Dataset, DataLoader\n",
    "\n",
    "\n",
    "class GPTDatasetV1(Dataset):\n",
    "    def __init__(self, txt, tokenizer, max_length, stride):\n",
    "        self.input_ids = []\n",
    "        self.target_ids = []\n",
    "\n",
    "        # Tokenize the entire text\n",
    "        token_ids = tokenizer.encode(txt, allowed_special={\"<|endoftext|>\"})\n",
    "        assert len(token_ids) > max_length, \"Number of tokenized inputs must at least be equal to max_length+1\"\n",
    "\n",
    "        # Use a sliding window to chunk the book into overlapping sequences of max_length\n",
    "        for i in range(0, len(token_ids) - max_length, stride):\n",
    "            input_chunk = token_ids[i:i + max_length]\n",
    "            target_chunk = token_ids[i + 1: i + max_length + 1]\n",
    "            self.input_ids.append(torch.tensor(input_chunk))\n",
    "            self.target_ids.append(torch.tensor(target_chunk))\n",
    "\n",
    "    def __len__(self):\n",
    "        return len(self.input_ids)\n",
    "\n",
    "    def __getitem__(self, idx):\n",
    "        return self.input_ids[idx], self.target_ids[idx]\n",
    "\n"
   ]
  },
  {
   "cell_type": "markdown",
   "id": "8c6ff7f8",
   "metadata": {},
   "source": [
    "## Dataloader"
   ]
  },
  {
   "cell_type": "code",
   "execution_count": 14,
   "id": "e6f54fff",
   "metadata": {},
   "outputs": [],
   "source": [
    "def create_dataloader_v1(txt, batch_size=4, max_length=256, \n",
    "                         stride=128, shuffle=True, drop_last=True,\n",
    "                         num_workers=0):\n",
    "\n",
    "    # Initialize the tokenizer\n",
    "    tokenizer = tiktoken.get_encoding(\"gpt2\")\n",
    "\n",
    "    # Create dataset\n",
    "    dataset = GPTDatasetV1(txt, tokenizer, max_length, stride)\n",
    "\n",
    "    # Create dataloader\n",
    "    dataloader = DataLoader(\n",
    "        dataset,\n",
    "        batch_size=batch_size,\n",
    "        shuffle=shuffle,\n",
    "        drop_last=drop_last,\n",
    "        num_workers=num_workers\n",
    "    )\n",
    "\n",
    "    return dataloader"
   ]
  },
  {
   "cell_type": "code",
   "execution_count": 11,
   "id": "26fbeb6f",
   "metadata": {},
   "outputs": [
    {
     "name": "stdout",
     "output_type": "stream",
     "text": [
      "Inputs:\n",
      " tensor([[  464,  7319,  6821,   286],\n",
      "        [  376,  1922,  5549,   314],\n",
      "        [  550, 28068,   355,   314],\n",
      "        [ 1266,   714,    26,   475],\n",
      "        [  618,   339, 44716,  2402],\n",
      "        [13277,    11,   314, 19982],\n",
      "        [15827,    13,   921,    11],\n",
      "        [  508,   523,   880,   760]])\n",
      "\n",
      "Targets:\n",
      " tensor([[ 7319,  6821,   286,   376],\n",
      "        [ 1922,  5549,   314,   550],\n",
      "        [28068,   355,   314,  1266],\n",
      "        [  714,    26,   475,   618],\n",
      "        [  339, 44716,  2402, 13277],\n",
      "        [   11,   314, 19982, 15827],\n",
      "        [   13,   921,    11,   508],\n",
      "        [  523,   880,   760,   262]])\n"
     ]
    }
   ],
   "source": [
    "dataloader = create_dataloader_v1(raw_text, batch_size=8, max_length=4, stride=4, shuffle=False)\n",
    "\n",
    "data_iter = iter(dataloader)\n",
    "inputs, targets = next(data_iter)\n",
    "print(\"Inputs:\\n\", inputs)\n",
    "print(\"\\nTargets:\\n\", targets)\n"
   ]
  },
  {
   "cell_type": "markdown",
   "id": "faf15581",
   "metadata": {},
   "source": [
    "## Token Embeddings (Vectors)"
   ]
  },
  {
   "cell_type": "code",
   "execution_count": null,
   "id": "7e5c7147",
   "metadata": {},
   "outputs": [],
   "source": [
    "#Tiktoken vocab size is 100256\n"
   ]
  }
 ],
 "metadata": {
  "kernelspec": {
   "display_name": "Python 3",
   "language": "python",
   "name": "python3"
  },
  "language_info": {
   "codemirror_mode": {
    "name": "ipython",
    "version": 3
   },
   "file_extension": ".py",
   "mimetype": "text/x-python",
   "name": "python",
   "nbconvert_exporter": "python",
   "pygments_lexer": "ipython3",
   "version": "3.13.1"
  }
 },
 "nbformat": 4,
 "nbformat_minor": 5
}
