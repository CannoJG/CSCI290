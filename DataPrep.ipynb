{
 "cells": [
  {
   "cell_type": "code",
   "execution_count": 1,
   "id": "d8698211",
   "metadata": {},
   "outputs": [],
   "source": [
    "import torch\n",
    "import tiktoken"
   ]
  },
  {
   "cell_type": "code",
   "execution_count": 2,
   "id": "247e2814",
   "metadata": {},
   "outputs": [
    {
     "data": {
      "text/plain": [
       "'The thousand injuries of Fortunato I had borne as '"
      ]
     },
     "execution_count": 2,
     "metadata": {},
     "output_type": "execute_result"
    }
   ],
   "source": [
    "with open (\"Amontillado.txt\", \"r\") as f:\n",
    "    raw_text = f.read()\n",
    "\n",
    "raw_text[:50]"
   ]
  },
  {
   "cell_type": "code",
   "execution_count": 3,
   "id": "6d561dc9",
   "metadata": {},
   "outputs": [],
   "source": [
    "tokenizer = tiktoken.get_encoding(\"gpt2\")\n"
   ]
  },
  {
   "cell_type": "code",
   "execution_count": 4,
   "id": "67d12f24",
   "metadata": {},
   "outputs": [],
   "source": [
    "enc_text = tokenizer.encode(raw_text)"
   ]
  },
  {
   "cell_type": "code",
   "execution_count": 5,
   "id": "dc95cc10",
   "metadata": {},
   "outputs": [
    {
     "name": "stdout",
     "output_type": "stream",
     "text": [
      "[464, 7319, 6821, 286, 376, 1922, 5549, 314, 550, 28068, 355, 314, 1266, 714, 26, 475, 618, 339, 44716, 2402]\n"
     ]
    }
   ],
   "source": [
    "print(enc_text[:20])"
   ]
  },
  {
   "cell_type": "code",
   "execution_count": 6,
   "id": "a63416ca",
   "metadata": {},
   "outputs": [
    {
     "name": "stdout",
     "output_type": "stream",
     "text": [
      "The thousand injuries of Fortunato I had borne as I best could; but when he ventured upon\n"
     ]
    }
   ],
   "source": [
    "print(tokenizer.decode(enc_text[:20]))"
   ]
  },
  {
   "cell_type": "code",
   "execution_count": 7,
   "id": "34be9f64",
   "metadata": {},
   "outputs": [
    {
     "name": "stdout",
     "output_type": "stream",
     "text": [
      "INPUT: The TARGET:  thousand\n",
      "INPUT: The thousand TARGET:  injuries\n",
      "INPUT: The thousand injuries TARGET:  of\n",
      "INPUT: The thousand injuries of TARGET:  F\n",
      "INPUT: The thousand injuries of F TARGET: ortun\n",
      "INPUT: The thousand injuries of Fortun TARGET: ato\n",
      "INPUT: The thousand injuries of Fortunato TARGET:  I\n",
      "INPUT: The thousand injuries of Fortunato I TARGET:  had\n",
      "INPUT: The thousand injuries of Fortunato I had TARGET:  borne\n"
     ]
    }
   ],
   "source": [
    "for i in range(1,10):\n",
    "    print(\"INPUT:\", tokenizer.decode(enc_text[:i]), \"TARGET:\", tokenizer.decode([enc_text[i]]))"
   ]
  },
  {
   "cell_type": "markdown",
   "id": "75a90c89",
   "metadata": {},
   "source": [
    "## Data Set "
   ]
  },
  {
   "cell_type": "code",
   "execution_count": 8,
   "id": "afaea70b",
   "metadata": {},
   "outputs": [],
   "source": [
    "from torch.utils.data import Dataset, DataLoader\n",
    "\n",
    "\n",
    "class GPTDatasetV1(Dataset):\n",
    "    def __init__(self, txt, tokenizer, max_length, stride):\n",
    "        self.input_ids = []\n",
    "        self.target_ids = []\n",
    "\n",
    "        # Tokenize the entire text\n",
    "        token_ids = tokenizer.encode(txt, allowed_special={\"<|endoftext|>\"})\n",
    "        assert len(token_ids) > max_length, \"Number of tokenized inputs must at least be equal to max_length+1\"\n",
    "\n",
    "        # Use a sliding window to chunk the book into overlapping sequences of max_length\n",
    "        for i in range(0, len(token_ids) - max_length, stride):\n",
    "            input_chunk = token_ids[i:i + max_length]\n",
    "            target_chunk = token_ids[i + 1: i + max_length + 1]\n",
    "            self.input_ids.append(torch.tensor(input_chunk))\n",
    "            self.target_ids.append(torch.tensor(target_chunk))\n",
    "\n",
    "    def __len__(self):\n",
    "        return len(self.input_ids)\n",
    "\n",
    "    def __getitem__(self, idx):\n",
    "        return self.input_ids[idx], self.target_ids[idx]\n",
    "\n"
   ]
  },
  {
   "cell_type": "markdown",
   "id": "8c6ff7f8",
   "metadata": {},
   "source": [
    "## Dataloader"
   ]
  },
  {
   "cell_type": "code",
   "execution_count": 9,
   "id": "e6f54fff",
   "metadata": {},
   "outputs": [],
   "source": [
    "def create_dataloader_v1(txt, batch_size=4, max_length=256, \n",
    "                         stride=128, shuffle=True, drop_last=True,\n",
    "                         num_workers=0):\n",
    "\n",
    "    # Initialize the tokenizer\n",
    "    tokenizer = tiktoken.get_encoding(\"gpt2\")\n",
    "\n",
    "    # Create dataset\n",
    "    dataset = GPTDatasetV1(txt, tokenizer, max_length, stride)\n",
    "\n",
    "    # Create dataloader\n",
    "    dataloader = DataLoader(\n",
    "        dataset,\n",
    "        batch_size=batch_size,\n",
    "        shuffle=shuffle,\n",
    "        drop_last=drop_last,\n",
    "        num_workers=num_workers\n",
    "    )\n",
    "\n",
    "    return dataloader"
   ]
  },
  {
   "cell_type": "code",
   "execution_count": 10,
   "id": "26fbeb6f",
   "metadata": {},
   "outputs": [
    {
     "name": "stdout",
     "output_type": "stream",
     "text": [
      "Inputs:\n",
      " tensor([[  464,  7319,  6821,   286],\n",
      "        [  376,  1922,  5549,   314],\n",
      "        [  550, 28068,   355,   314],\n",
      "        [ 1266,   714,    26,   475],\n",
      "        [  618,   339, 44716,  2402],\n",
      "        [13277,    11,   314, 19982],\n",
      "        [15827,    13,   921,    11],\n",
      "        [  508,   523,   880,   760]])\n",
      "\n",
      "Targets:\n",
      " tensor([[ 7319,  6821,   286,   376],\n",
      "        [ 1922,  5549,   314,   550],\n",
      "        [28068,   355,   314,  1266],\n",
      "        [  714,    26,   475,   618],\n",
      "        [  339, 44716,  2402, 13277],\n",
      "        [   11,   314, 19982, 15827],\n",
      "        [   13,   921,    11,   508],\n",
      "        [  523,   880,   760,   262]])\n"
     ]
    }
   ],
   "source": [
    "dataloader = create_dataloader_v1(raw_text, batch_size=8, max_length=4, stride=4, shuffle=False)\n",
    "\n",
    "data_iter = iter(dataloader)\n",
    "inputs, targets = next(data_iter)\n",
    "print(\"Inputs:\\n\", inputs)\n",
    "print(\"\\nTargets:\\n\", targets)\n"
   ]
  },
  {
   "cell_type": "code",
   "execution_count": 11,
   "id": "7669c17e",
   "metadata": {},
   "outputs": [
    {
     "data": {
      "text/plain": [
       "torch.Tensor"
      ]
     },
     "execution_count": 11,
     "metadata": {},
     "output_type": "execute_result"
    }
   ],
   "source": [
    "type(inputs)"
   ]
  },
  {
   "cell_type": "code",
   "execution_count": 12,
   "id": "e824a7fb",
   "metadata": {},
   "outputs": [
    {
     "data": {
      "text/plain": [
       "torch.Size([8, 4])"
      ]
     },
     "execution_count": 12,
     "metadata": {},
     "output_type": "execute_result"
    }
   ],
   "source": [
    "#Gives dimensions of the tensor\n",
    "inputs.shape"
   ]
  },
  {
   "cell_type": "code",
   "execution_count": 13,
   "id": "4f7b1eaa",
   "metadata": {},
   "outputs": [
    {
     "data": {
      "text/plain": [
       "tensor([ 376, 1922, 5549,  314])"
      ]
     },
     "execution_count": 13,
     "metadata": {},
     "output_type": "execute_result"
    }
   ],
   "source": [
    "#Look at the 2nd row\n",
    "inputs[1]"
   ]
  },
  {
   "cell_type": "code",
   "execution_count": 14,
   "id": "8f38f336",
   "metadata": {},
   "outputs": [
    {
     "data": {
      "text/plain": [
       "tensor([  464,   376,   550,  1266,   618, 13277, 15827,   508])"
      ]
     },
     "execution_count": 14,
     "metadata": {},
     "output_type": "execute_result"
    }
   ],
   "source": [
    "# Look at the first column, first element of each row\n",
    "inputs[:,0]"
   ]
  },
  {
   "cell_type": "code",
   "execution_count": 15,
   "id": "03d7bca4",
   "metadata": {},
   "outputs": [
    {
     "data": {
      "text/plain": [
       "tensor(5549)"
      ]
     },
     "execution_count": 15,
     "metadata": {},
     "output_type": "execute_result"
    }
   ],
   "source": [
    "# Look at the ID in the 2nd row and 3rd column\n",
    "inputs[1,2]"
   ]
  },
  {
   "cell_type": "code",
   "execution_count": 16,
   "id": "23ec0314",
   "metadata": {},
   "outputs": [
    {
     "name": "stdout",
     "output_type": "stream",
     "text": [
      "The thousand injuries of\n",
      " Fortunato I\n",
      " had borne as I\n",
      " best could; but\n",
      " when he ventured upon\n",
      " insult, I vowed\n",
      " revenge. You,\n",
      " who so well know\n"
     ]
    }
   ],
   "source": [
    "#Print tensor row by row, converting to list so tokenizer can decode\n",
    "for row in inputs:\n",
    "    print(tokenizer.decode(row.tolist()))"
   ]
  },
  {
   "cell_type": "markdown",
   "id": "1e1b26d6",
   "metadata": {},
   "source": [
    "## Example of Generating Embedding Vectors"
   ]
  },
  {
   "cell_type": "code",
   "execution_count": 17,
   "id": "73f9853f",
   "metadata": {},
   "outputs": [],
   "source": [
    "#illustrative example of how to generate the vectors of length 3 for the 6 word vocabular\n",
    "vocab_size = 6\n",
    "output_dim = 3"
   ]
  },
  {
   "cell_type": "code",
   "execution_count": 18,
   "id": "7c3bb203",
   "metadata": {},
   "outputs": [],
   "source": [
    "#nn is a sub-module for nueral networks in torch which contains Embedding\n",
    "#Embedding created embedding vectors of a certain length for a certain vocab size\n",
    "embedding = torch.nn.Embedding(vocab_size, output_dim)"
   ]
  },
  {
   "cell_type": "code",
   "execution_count": 19,
   "id": "29601ae7",
   "metadata": {},
   "outputs": [
    {
     "name": "stdout",
     "output_type": "stream",
     "text": [
      "Parameter containing:\n",
      "tensor([[ 2.1105, -0.3783,  0.5331],\n",
      "        [-0.0432,  0.2590,  0.3422],\n",
      "        [ 0.7260,  0.2596, -1.8951],\n",
      "        [ 0.1433,  0.2822, -1.3152],\n",
      "        [ 0.9741, -0.5730,  2.7245],\n",
      "        [ 1.0162, -1.2116,  0.3251]], requires_grad=True)\n"
     ]
    }
   ],
   "source": [
    "print(embedding.weight)"
   ]
  },
  {
   "cell_type": "code",
   "execution_count": 20,
   "id": "12d7c23e",
   "metadata": {},
   "outputs": [
    {
     "data": {
      "text/plain": [
       "tensor([ 2.1105, -0.3783,  0.5331], grad_fn=<SelectBackward0>)"
      ]
     },
     "execution_count": 20,
     "metadata": {},
     "output_type": "execute_result"
    }
   ],
   "source": [
    "embedding.weight[0]"
   ]
  },
  {
   "cell_type": "code",
   "execution_count": 21,
   "id": "880fb710",
   "metadata": {},
   "outputs": [
    {
     "data": {
      "text/plain": [
       "tensor([[ 2.1105, -0.3783,  0.5331],\n",
       "        [-0.0432,  0.2590,  0.3422],\n",
       "        [ 0.7260,  0.2596, -1.8951],\n",
       "        [ 0.1433,  0.2822, -1.3152],\n",
       "        [ 0.9741, -0.5730,  2.7245],\n",
       "        [ 1.0162, -1.2116,  0.3251]])"
      ]
     },
     "execution_count": 21,
     "metadata": {},
     "output_type": "execute_result"
    }
   ],
   "source": [
    "#get rid of reqires_grad bit of text\n",
    "embedding.weight.data"
   ]
  },
  {
   "cell_type": "code",
   "execution_count": 22,
   "id": "32d935c1",
   "metadata": {},
   "outputs": [
    {
     "name": "stdout",
     "output_type": "stream",
     "text": [
      "tensor([[ 2.1105, -0.3783,  0.5331],\n",
      "        [-0.0432,  0.2590,  0.3422],\n",
      "        [ 0.7260,  0.2596, -1.8951],\n",
      "        [ 0.1433,  0.2822, -1.3152],\n",
      "        [ 0.9741, -0.5730,  2.7245],\n",
      "        [ 1.0162, -1.2116,  0.3251]])\n"
     ]
    }
   ],
   "source": [
    "# Or get rid of it using detach()\n",
    "print(embedding.weight.detach())"
   ]
  },
  {
   "cell_type": "code",
   "execution_count": 23,
   "id": "394fef7a",
   "metadata": {},
   "outputs": [],
   "source": [
    "#What it would really look like with the correct sizes\n",
    "#embedding = torch.nn.Embedding(tokenizer.n_vocab, 256)"
   ]
  },
  {
   "cell_type": "code",
   "execution_count": 24,
   "id": "de48422a",
   "metadata": {},
   "outputs": [
    {
     "data": {
      "text/plain": [
       "tensor([[ 2.1105, -0.3783,  0.5331],\n",
       "        [-0.0432,  0.2590,  0.3422],\n",
       "        [ 0.7260,  0.2596, -1.8951],\n",
       "        [ 0.1433,  0.2822, -1.3152],\n",
       "        [ 0.9741, -0.5730,  2.7245],\n",
       "        [ 1.0162, -1.2116,  0.3251]])"
      ]
     },
     "execution_count": 24,
     "metadata": {},
     "output_type": "execute_result"
    }
   ],
   "source": [
    "A = embedding.weight.data\n",
    "A"
   ]
  },
  {
   "cell_type": "code",
   "execution_count": 25,
   "id": "af4a766b",
   "metadata": {},
   "outputs": [
    {
     "name": "stdout",
     "output_type": "stream",
     "text": [
      "tensor([2.1000, 1.3000]) tensor([1.5000, 2.7000])\n"
     ]
    }
   ],
   "source": [
    "#making tensors from scratch-- just put in the elements\n",
    "x = torch.tensor([2.1,1.3])\n",
    "y = torch.tensor([1.5,2.7])\n",
    "print(x,y)"
   ]
  },
  {
   "cell_type": "code",
   "execution_count": 26,
   "id": "6a6d8c17",
   "metadata": {},
   "outputs": [
    {
     "data": {
      "text/plain": [
       "tensor(6.6600)"
      ]
     },
     "execution_count": 26,
     "metadata": {},
     "output_type": "execute_result"
    }
   ],
   "source": [
    "#computing the dot product if two tensors\n",
    "torch.dot(x,y)"
   ]
  },
  {
   "cell_type": "markdown",
   "id": "91261536",
   "metadata": {},
   "source": [
    "## Some More Practice Stuff on Attention Mechanisms"
   ]
  },
  {
   "cell_type": "code",
   "execution_count": 27,
   "id": "a8c2378b",
   "metadata": {},
   "outputs": [],
   "source": [
    "raw_text= \"This is my dog Hazel\""
   ]
  },
  {
   "cell_type": "code",
   "execution_count": 58,
   "id": "b24f7de6",
   "metadata": {},
   "outputs": [
    {
     "name": "stdout",
     "output_type": "stream",
     "text": [
      "[1212, 318, 616, 3290, 42805]\n"
     ]
    }
   ],
   "source": [
    "tokenizer= tiktoken.get_encoding(\"gpt2\")\n",
    "enc_text = tokenizer.encode(raw_text)\n",
    "print (enc_text)"
   ]
  },
  {
   "cell_type": "code",
   "execution_count": 59,
   "id": "308f483d",
   "metadata": {},
   "outputs": [
    {
     "name": "stdout",
     "output_type": "stream",
     "text": [
      "Parameter containing:\n",
      "tensor([[-1.2155,  1.9469, -0.4953, -2.5550, -0.0844,  0.2847,  1.5802,  0.9100],\n",
      "        [ 0.6381,  1.3723,  0.5784,  1.1823, -0.5780,  2.5947,  1.6177,  0.3148],\n",
      "        [-0.7139, -1.5165,  1.2933,  0.9406,  0.0263,  0.7339, -1.1206, -0.9787],\n",
      "        [-0.0267,  0.2666, -0.5321, -0.8025, -2.3368,  1.1187,  1.6303,  0.5704]],\n",
      "       requires_grad=True)\n"
     ]
    }
   ],
   "source": [
    "vocab_size = 4\n",
    "output_dim = 8\n",
    "inputs = torch.nn.Embedding(vocab_size, output_dim)\n",
    "print(inputs.weight)"
   ]
  },
  {
   "cell_type": "code",
   "execution_count": 60,
   "id": "100c3c95",
   "metadata": {},
   "outputs": [
    {
     "data": {
      "text/plain": [
       "tensor([[-1.2155,  1.9469, -0.4953, -2.5550, -0.0844,  0.2847,  1.5802,  0.9100],\n",
       "        [ 0.6381,  1.3723,  0.5784,  1.1823, -0.5780,  2.5947,  1.6177,  0.3148],\n",
       "        [-0.7139, -1.5165,  1.2933,  0.9406,  0.0263,  0.7339, -1.1206, -0.9787],\n",
       "        [-0.0267,  0.2666, -0.5321, -0.8025, -2.3368,  1.1187,  1.6303,  0.5704]])"
      ]
     },
     "execution_count": 60,
     "metadata": {},
     "output_type": "execute_result"
    }
   ],
   "source": [
    "#This gets rid of the grad = True thing\n",
    "inputs = inputs.weight.data\n",
    "inputs"
   ]
  },
  {
   "cell_type": "code",
   "execution_count": 61,
   "id": "3a70dfdb",
   "metadata": {},
   "outputs": [
    {
     "data": {
      "text/plain": [
       "torch.Size([4, 8])"
      ]
     },
     "execution_count": 61,
     "metadata": {},
     "output_type": "execute_result"
    }
   ],
   "source": [
    "inputs.shape"
   ]
  },
  {
   "cell_type": "code",
   "execution_count": 62,
   "id": "73c0e948",
   "metadata": {},
   "outputs": [
    {
     "name": "stdout",
     "output_type": "stream",
     "text": [
      "[-1.2155163288116455, 1.9468598365783691, -0.4952908158302307, -2.5550310611724854, -0.08435238897800446, 0.28469333052635193, 1.580206036567688, 0.9099704623222351]\n",
      "[0.6380577087402344, 1.3723042011260986, 0.5784104466438293, 1.1822501420974731, -0.5779953598976135, 2.5946590900421143, 1.6177409887313843, 0.31481605768203735]\n",
      "[-0.713903546333313, -1.5164538621902466, 1.2932689189910889, 0.9406096339225769, 0.02626447193324566, 0.7339489459991455, -1.1205947399139404, -0.9786593914031982]\n",
      "[-0.026710473001003265, 0.26656144857406616, -0.5321037173271179, -0.8024697303771973, -2.3367929458618164, 1.1186763048171997, 1.630319595336914, 0.5703837275505066]\n"
     ]
    }
   ],
   "source": [
    "for row in inputs:\n",
    "    print(row.tolist())"
   ]
  },
  {
   "cell_type": "code",
   "execution_count": 63,
   "id": "9a914685",
   "metadata": {},
   "outputs": [],
   "source": [
    "#Example to do dot product\n",
    "x = torch.Tensor([1.1, 2.3])\n",
    "y = torch.Tensor([3.4,-2.1])"
   ]
  },
  {
   "cell_type": "code",
   "execution_count": 64,
   "id": "e2ebda04",
   "metadata": {},
   "outputs": [
    {
     "data": {
      "text/plain": [
       "-1.0899999999999999"
      ]
     },
     "execution_count": 64,
     "metadata": {},
     "output_type": "execute_result"
    }
   ],
   "source": [
    "#Calculate the dot product... annoying by hand\n",
    "1.1*3.4 + 2.3*(-2.1)"
   ]
  },
  {
   "cell_type": "code",
   "execution_count": 65,
   "id": "3cf62b1b",
   "metadata": {},
   "outputs": [
    {
     "data": {
      "text/plain": [
       "tensor(-1.0900)"
      ]
     },
     "execution_count": 65,
     "metadata": {},
     "output_type": "execute_result"
    }
   ],
   "source": [
    "#Built in dot product method!\n",
    "torch.dot(x,y)"
   ]
  },
  {
   "cell_type": "code",
   "execution_count": 66,
   "id": "dc5beedb",
   "metadata": {},
   "outputs": [
    {
     "name": "stdout",
     "output_type": "stream",
     "text": [
      "tensor([-0.7139, -1.5165,  1.2933,  0.9406,  0.0263,  0.7339, -1.1206, -0.9787])\n"
     ]
    }
   ],
   "source": [
    "#The important one is called the \"query\"\n",
    "query = inputs[2]\n",
    "print(query)"
   ]
  },
  {
   "cell_type": "code",
   "execution_count": 67,
   "id": "02063f8c",
   "metadata": {},
   "outputs": [
    {
     "name": "stdout",
     "output_type": "stream",
     "text": [
      "tensor(-7.5830)\n",
      "tensor(-0.9082)\n",
      "tensor(8.1195)\n",
      "tensor(-3.4536)\n"
     ]
    }
   ],
   "source": [
    "# gives the dot products of the 3rd embedding vector with all the other vectors (vector 3 x vector 1, vector 3 x vector 2 ...)\n",
    "for i in range(len(inputs)):\n",
    "    print(torch.dot(query, inputs[i]))"
   ]
  },
  {
   "cell_type": "code",
   "execution_count": 68,
   "id": "9dbe5209",
   "metadata": {},
   "outputs": [
    {
     "name": "stdout",
     "output_type": "stream",
     "text": [
      "tensor([-7.5830, -0.9082,  8.1195, -3.4536])\n"
     ]
    }
   ],
   "source": [
    "#Want the dot products (attention scores) in a tensor of their own\n",
    "#torch.zeros creates a tensor of zeros so that you can fill them in\n",
    "\n",
    "attention_scores_2 = torch.zeros(len(inputs))\n",
    "for i in range(len(inputs)):\n",
    "    attention_scores_2[i] = (torch.dot(query, inputs[i]))\n",
    "print(attention_scores_2)"
   ]
  },
  {
   "cell_type": "code",
   "execution_count": 69,
   "id": "eb1e05e2",
   "metadata": {},
   "outputs": [],
   "source": [
    "# Normaling the attention scores using softmax function-- basically makes everything positive in a complicated way\n",
    "#def softmax(x):\n",
    "    #torch.exp(x, dim=0) / torch.exp(x).sum()"
   ]
  },
  {
   "cell_type": "code",
   "execution_count": 70,
   "id": "7160071e",
   "metadata": {},
   "outputs": [
    {
     "data": {
      "text/plain": [
       "tensor([1.5152e-07, 1.2002e-04, 9.9987e-01, 9.4153e-06])"
      ]
     },
     "execution_count": 70,
     "metadata": {},
     "output_type": "execute_result"
    }
   ],
   "source": [
    "#use the real torch function!\n",
    "# Make sure you add the dimension\n",
    "attention_weights_2 = torch.softmax(attention_scores_2, dim = 0)\n",
    "attention_weights_2"
   ]
  },
  {
   "cell_type": "code",
   "execution_count": 71,
   "id": "0fe80183",
   "metadata": {},
   "outputs": [
    {
     "data": {
      "text/plain": [
       "tensor(1.)"
      ]
     },
     "execution_count": 71,
     "metadata": {},
     "output_type": "execute_result"
    }
   ],
   "source": [
    "attention_weights_2.sum()"
   ]
  },
  {
   "cell_type": "code",
   "execution_count": 72,
   "id": "ee59991b",
   "metadata": {},
   "outputs": [
    {
     "data": {
      "text/plain": [
       "tensor([-0.7137, -1.5161,  1.2932,  0.9406,  0.0262,  0.7342, -1.1202, -0.9785])"
      ]
     },
     "execution_count": 72,
     "metadata": {},
     "output_type": "execute_result"
    }
   ],
   "source": [
    "# Making the actual context vector ...\n",
    "context_vector_2 = torch.zeros(query.shape)\n",
    "for i in range(len(attention_weights_2)):\n",
    "    context_vector_2 += attention_weights_2[i]*inputs[i]\n",
    "context_vector_2"
   ]
  },
  {
   "cell_type": "code",
   "execution_count": 73,
   "id": "245322c7",
   "metadata": {},
   "outputs": [
    {
     "data": {
      "text/plain": [
       "tensor([[15.4545,  2.2192, -7.5830,  6.4762],\n",
       "        [ 2.2192, 13.8051, -0.9082,  6.1625],\n",
       "        [-7.5830, -0.9082,  8.1195, -3.4536],\n",
       "        [ 6.4762,  6.1625, -3.4536, 10.6942]])"
      ]
     },
     "execution_count": 73,
     "metadata": {},
     "output_type": "execute_result"
    }
   ],
   "source": [
    "#Get all attention scores for all input vectors via matrix multiplication (@) easier than by for loops\n",
    "attention_scores = inputs @ inputs.T\n",
    "attention_scores"
   ]
  },
  {
   "cell_type": "code",
   "execution_count": 74,
   "id": "af0c7349",
   "metadata": {},
   "outputs": [
    {
     "data": {
      "text/plain": [
       "tensor([[9.9987e-01, 1.7862e-06, 9.8831e-11, 1.2610e-04],\n",
       "        [9.2915e-06, 9.9951e-01, 4.0724e-07, 4.7933e-04],\n",
       "        [1.5152e-07, 1.2002e-04, 9.9987e-01, 9.4153e-06],\n",
       "        [1.4362e-02, 1.0495e-02, 6.9948e-07, 9.7514e-01]])"
      ]
     },
     "execution_count": 74,
     "metadata": {},
     "output_type": "execute_result"
    }
   ],
   "source": [
    "#Normalize them \n",
    "attention_weights = torch.softmax(attention_scores, dim = -1)\n",
    "attention_weights"
   ]
  },
  {
   "cell_type": "code",
   "execution_count": 75,
   "id": "927cf440",
   "metadata": {},
   "outputs": [
    {
     "data": {
      "text/plain": [
       "tensor(1.)"
      ]
     },
     "execution_count": 75,
     "metadata": {},
     "output_type": "execute_result"
    }
   ],
   "source": [
    "attention_weights[0].sum()"
   ]
  },
  {
   "cell_type": "code",
   "execution_count": 76,
   "id": "b1af0df8",
   "metadata": {},
   "outputs": [
    {
     "data": {
      "text/plain": [
       "tensor([[-1.2154,  1.9466, -0.4953, -2.5548, -0.0846,  0.2848,  1.5802,  0.9099],\n",
       "        [ 0.6377,  1.3718,  0.5779,  1.1813, -0.5788,  2.5939,  1.6177,  0.3149],\n",
       "        [-0.7137, -1.5161,  1.2932,  0.9406,  0.0262,  0.7342, -1.1202, -0.9785],\n",
       "        [-0.0368,  0.3023, -0.5199, -0.8068, -2.2860,  1.1222,  1.6295,  0.5726]])"
      ]
     },
     "execution_count": 76,
     "metadata": {},
     "output_type": "execute_result"
    }
   ],
   "source": [
    "context_vectors = attention_weights @ inputs\n",
    "context_vectors"
   ]
  },
  {
   "cell_type": "code",
   "execution_count": null,
   "id": "7d4f5024",
   "metadata": {},
   "outputs": [],
   "source": []
  }
 ],
 "metadata": {
  "kernelspec": {
   "display_name": "Python 3",
   "language": "python",
   "name": "python3"
  },
  "language_info": {
   "codemirror_mode": {
    "name": "ipython",
    "version": 3
   },
   "file_extension": ".py",
   "mimetype": "text/x-python",
   "name": "python",
   "nbconvert_exporter": "python",
   "pygments_lexer": "ipython3",
   "version": "3.13.1"
  }
 },
 "nbformat": 4,
 "nbformat_minor": 5
}
