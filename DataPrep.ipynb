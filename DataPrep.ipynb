{
 "cells": [
  {
   "cell_type": "code",
   "execution_count": 2,
   "id": "d8698211",
   "metadata": {},
   "outputs": [],
   "source": [
    "import torch\n",
    "import tiktoken"
   ]
  },
  {
   "cell_type": "code",
   "execution_count": 3,
   "id": "247e2814",
   "metadata": {},
   "outputs": [
    {
     "data": {
      "text/plain": [
       "'The thousand injuries of Fortunato I had borne as '"
      ]
     },
     "execution_count": 3,
     "metadata": {},
     "output_type": "execute_result"
    }
   ],
   "source": [
    "with open (\"Amontillado.txt\", \"r\") as f:\n",
    "    raw_text = f.read()\n",
    "\n",
    "raw_text[:50]"
   ]
  },
  {
   "cell_type": "code",
   "execution_count": 4,
   "id": "6d561dc9",
   "metadata": {},
   "outputs": [],
   "source": [
    "tokenizer = tiktoken.get_encoding(\"gpt2\")\n"
   ]
  },
  {
   "cell_type": "code",
   "execution_count": 5,
   "id": "67d12f24",
   "metadata": {},
   "outputs": [],
   "source": [
    "enc_text = tokenizer.encode(raw_text)"
   ]
  },
  {
   "cell_type": "code",
   "execution_count": 6,
   "id": "dc95cc10",
   "metadata": {},
   "outputs": [
    {
     "name": "stdout",
     "output_type": "stream",
     "text": [
      "[464, 7319, 6821, 286, 376, 1922, 5549, 314, 550, 28068, 355, 314, 1266, 714, 26, 475, 618, 339, 44716, 2402]\n"
     ]
    }
   ],
   "source": [
    "print(enc_text[:20])"
   ]
  },
  {
   "cell_type": "code",
   "execution_count": 7,
   "id": "a63416ca",
   "metadata": {},
   "outputs": [
    {
     "name": "stdout",
     "output_type": "stream",
     "text": [
      "The thousand injuries of Fortunato I had borne as I best could; but when he ventured upon\n"
     ]
    }
   ],
   "source": [
    "print(tokenizer.decode(enc_text[:20]))"
   ]
  },
  {
   "cell_type": "code",
   "execution_count": 8,
   "id": "34be9f64",
   "metadata": {},
   "outputs": [
    {
     "name": "stdout",
     "output_type": "stream",
     "text": [
      "INPUT: The TARGET:  thousand\n",
      "INPUT: The thousand TARGET:  injuries\n",
      "INPUT: The thousand injuries TARGET:  of\n",
      "INPUT: The thousand injuries of TARGET:  F\n",
      "INPUT: The thousand injuries of F TARGET: ortun\n",
      "INPUT: The thousand injuries of Fortun TARGET: ato\n",
      "INPUT: The thousand injuries of Fortunato TARGET:  I\n",
      "INPUT: The thousand injuries of Fortunato I TARGET:  had\n",
      "INPUT: The thousand injuries of Fortunato I had TARGET:  borne\n"
     ]
    }
   ],
   "source": [
    "for i in range(1,10):\n",
    "    print(\"INPUT:\", tokenizer.decode(enc_text[:i]), \"TARGET:\", tokenizer.decode([enc_text[i]]))"
   ]
  },
  {
   "cell_type": "markdown",
   "id": "75a90c89",
   "metadata": {},
   "source": [
    "## Data Set "
   ]
  },
  {
   "cell_type": "code",
   "execution_count": 9,
   "id": "afaea70b",
   "metadata": {},
   "outputs": [],
   "source": [
    "from torch.utils.data import Dataset, DataLoader\n",
    "\n",
    "\n",
    "class GPTDatasetV1(Dataset):\n",
    "    def __init__(self, txt, tokenizer, max_length, stride):\n",
    "        self.input_ids = []\n",
    "        self.target_ids = []\n",
    "\n",
    "        # Tokenize the entire text\n",
    "        token_ids = tokenizer.encode(txt, allowed_special={\"<|endoftext|>\"})\n",
    "        assert len(token_ids) > max_length, \"Number of tokenized inputs must at least be equal to max_length+1\"\n",
    "\n",
    "        # Use a sliding window to chunk the book into overlapping sequences of max_length\n",
    "        for i in range(0, len(token_ids) - max_length, stride):\n",
    "            input_chunk = token_ids[i:i + max_length]\n",
    "            target_chunk = token_ids[i + 1: i + max_length + 1]\n",
    "            self.input_ids.append(torch.tensor(input_chunk))\n",
    "            self.target_ids.append(torch.tensor(target_chunk))\n",
    "\n",
    "    def __len__(self):\n",
    "        return len(self.input_ids)\n",
    "\n",
    "    def __getitem__(self, idx):\n",
    "        return self.input_ids[idx], self.target_ids[idx]\n",
    "\n"
   ]
  },
  {
   "cell_type": "markdown",
   "id": "8c6ff7f8",
   "metadata": {},
   "source": [
    "## Dataloader"
   ]
  },
  {
   "cell_type": "code",
   "execution_count": 10,
   "id": "e6f54fff",
   "metadata": {},
   "outputs": [],
   "source": [
    "def create_dataloader_v1(txt, batch_size=4, max_length=256, \n",
    "                         stride=128, shuffle=True, drop_last=True,\n",
    "                         num_workers=0):\n",
    "\n",
    "    # Initialize the tokenizer\n",
    "    tokenizer = tiktoken.get_encoding(\"gpt2\")\n",
    "\n",
    "    # Create dataset\n",
    "    dataset = GPTDatasetV1(txt, tokenizer, max_length, stride)\n",
    "\n",
    "    # Create dataloader\n",
    "    dataloader = DataLoader(\n",
    "        dataset,\n",
    "        batch_size=batch_size,\n",
    "        shuffle=shuffle,\n",
    "        drop_last=drop_last,\n",
    "        num_workers=num_workers\n",
    "    )\n",
    "\n",
    "    return dataloader"
   ]
  },
  {
   "cell_type": "code",
   "execution_count": 11,
   "id": "26fbeb6f",
   "metadata": {},
   "outputs": [
    {
     "name": "stdout",
     "output_type": "stream",
     "text": [
      "Inputs:\n",
      " tensor([[  464,  7319,  6821,   286],\n",
      "        [  376,  1922,  5549,   314],\n",
      "        [  550, 28068,   355,   314],\n",
      "        [ 1266,   714,    26,   475],\n",
      "        [  618,   339, 44716,  2402],\n",
      "        [13277,    11,   314, 19982],\n",
      "        [15827,    13,   921,    11],\n",
      "        [  508,   523,   880,   760]])\n",
      "\n",
      "Targets:\n",
      " tensor([[ 7319,  6821,   286,   376],\n",
      "        [ 1922,  5549,   314,   550],\n",
      "        [28068,   355,   314,  1266],\n",
      "        [  714,    26,   475,   618],\n",
      "        [  339, 44716,  2402, 13277],\n",
      "        [   11,   314, 19982, 15827],\n",
      "        [   13,   921,    11,   508],\n",
      "        [  523,   880,   760,   262]])\n"
     ]
    }
   ],
   "source": [
    "dataloader = create_dataloader_v1(raw_text, batch_size=8, max_length=4, stride=4, shuffle=False)\n",
    "\n",
    "data_iter = iter(dataloader)\n",
    "inputs, targets = next(data_iter)\n",
    "print(\"Inputs:\\n\", inputs)\n",
    "print(\"\\nTargets:\\n\", targets)\n"
   ]
  },
  {
   "cell_type": "code",
   "execution_count": 12,
   "id": "7669c17e",
   "metadata": {},
   "outputs": [
    {
     "data": {
      "text/plain": [
       "torch.Tensor"
      ]
     },
     "execution_count": 12,
     "metadata": {},
     "output_type": "execute_result"
    }
   ],
   "source": [
    "type(inputs)"
   ]
  },
  {
   "cell_type": "code",
   "execution_count": 13,
   "id": "e824a7fb",
   "metadata": {},
   "outputs": [
    {
     "data": {
      "text/plain": [
       "torch.Size([8, 4])"
      ]
     },
     "execution_count": 13,
     "metadata": {},
     "output_type": "execute_result"
    }
   ],
   "source": [
    "#Gives dimensions of the tensor\n",
    "inputs.shape"
   ]
  },
  {
   "cell_type": "code",
   "execution_count": 14,
   "id": "4f7b1eaa",
   "metadata": {},
   "outputs": [
    {
     "data": {
      "text/plain": [
       "tensor([ 376, 1922, 5549,  314])"
      ]
     },
     "execution_count": 14,
     "metadata": {},
     "output_type": "execute_result"
    }
   ],
   "source": [
    "#Look at the 2nd row\n",
    "inputs[1]"
   ]
  },
  {
   "cell_type": "code",
   "execution_count": 15,
   "id": "8f38f336",
   "metadata": {},
   "outputs": [
    {
     "data": {
      "text/plain": [
       "tensor([  464,   376,   550,  1266,   618, 13277, 15827,   508])"
      ]
     },
     "execution_count": 15,
     "metadata": {},
     "output_type": "execute_result"
    }
   ],
   "source": [
    "# Look at the first column, first element of each row\n",
    "inputs[:,0]"
   ]
  },
  {
   "cell_type": "code",
   "execution_count": 16,
   "id": "03d7bca4",
   "metadata": {},
   "outputs": [
    {
     "data": {
      "text/plain": [
       "tensor(5549)"
      ]
     },
     "execution_count": 16,
     "metadata": {},
     "output_type": "execute_result"
    }
   ],
   "source": [
    "# Look at the ID in the 2nd row and 3rd column\n",
    "inputs[1,2]"
   ]
  },
  {
   "cell_type": "code",
   "execution_count": 17,
   "id": "23ec0314",
   "metadata": {},
   "outputs": [
    {
     "name": "stdout",
     "output_type": "stream",
     "text": [
      "The thousand injuries of\n",
      " Fortunato I\n",
      " had borne as I\n",
      " best could; but\n",
      " when he ventured upon\n",
      " insult, I vowed\n",
      " revenge. You,\n",
      " who so well know\n"
     ]
    }
   ],
   "source": [
    "#Print tensor row by row, converting to list so tokenizer can decode\n",
    "for row in inputs:\n",
    "    print(tokenizer.decode(row.tolist()))"
   ]
  },
  {
   "cell_type": "markdown",
   "id": "1e1b26d6",
   "metadata": {},
   "source": [
    "## Example of Generating Embedding Vectors"
   ]
  },
  {
   "cell_type": "code",
   "execution_count": 18,
   "id": "73f9853f",
   "metadata": {},
   "outputs": [],
   "source": [
    "#illustrative example of how to generate the vectors of length 3 for the 6 word vocabular\n",
    "vocab_size = 6\n",
    "output_dim = 3"
   ]
  },
  {
   "cell_type": "code",
   "execution_count": 19,
   "id": "7c3bb203",
   "metadata": {},
   "outputs": [],
   "source": [
    "#nn is a sub-module for nueral networks in torch which contains Embedding\n",
    "#Embedding created embedding vectors of a certain length for a certain vocab size\n",
    "embedding = torch.nn.Embedding(vocab_size, output_dim)"
   ]
  },
  {
   "cell_type": "code",
   "execution_count": 20,
   "id": "29601ae7",
   "metadata": {},
   "outputs": [
    {
     "name": "stdout",
     "output_type": "stream",
     "text": [
      "Parameter containing:\n",
      "tensor([[ 0.3842, -0.8694, -1.5476],\n",
      "        [-0.1058, -0.0901, -0.2716],\n",
      "        [-0.6403, -0.3490,  0.6016],\n",
      "        [-0.9512,  1.3040, -0.7873],\n",
      "        [ 0.6833,  0.7670, -0.6327],\n",
      "        [-0.6543, -0.4101,  0.9935]], requires_grad=True)\n"
     ]
    }
   ],
   "source": [
    "print(embedding.weight)"
   ]
  },
  {
   "cell_type": "code",
   "execution_count": 21,
   "id": "12d7c23e",
   "metadata": {},
   "outputs": [
    {
     "data": {
      "text/plain": [
       "tensor([ 0.3842, -0.8694, -1.5476], grad_fn=<SelectBackward0>)"
      ]
     },
     "execution_count": 21,
     "metadata": {},
     "output_type": "execute_result"
    }
   ],
   "source": [
    "embedding.weight[0]"
   ]
  },
  {
   "cell_type": "code",
   "execution_count": 22,
   "id": "880fb710",
   "metadata": {},
   "outputs": [
    {
     "data": {
      "text/plain": [
       "tensor([[ 0.3842, -0.8694, -1.5476],\n",
       "        [-0.1058, -0.0901, -0.2716],\n",
       "        [-0.6403, -0.3490,  0.6016],\n",
       "        [-0.9512,  1.3040, -0.7873],\n",
       "        [ 0.6833,  0.7670, -0.6327],\n",
       "        [-0.6543, -0.4101,  0.9935]])"
      ]
     },
     "execution_count": 22,
     "metadata": {},
     "output_type": "execute_result"
    }
   ],
   "source": [
    "#get rid of reqires_grad bit of text\n",
    "embedding.weight.data"
   ]
  },
  {
   "cell_type": "code",
   "execution_count": 23,
   "id": "32d935c1",
   "metadata": {},
   "outputs": [
    {
     "name": "stdout",
     "output_type": "stream",
     "text": [
      "tensor([[ 0.3842, -0.8694, -1.5476],\n",
      "        [-0.1058, -0.0901, -0.2716],\n",
      "        [-0.6403, -0.3490,  0.6016],\n",
      "        [-0.9512,  1.3040, -0.7873],\n",
      "        [ 0.6833,  0.7670, -0.6327],\n",
      "        [-0.6543, -0.4101,  0.9935]])\n"
     ]
    }
   ],
   "source": [
    "# Or get rid of it using detach()\n",
    "print(embedding.weight.detach())"
   ]
  },
  {
   "cell_type": "code",
   "execution_count": 24,
   "id": "394fef7a",
   "metadata": {},
   "outputs": [],
   "source": [
    "#What it would really look like with the correct sizes\n",
    "#embedding = torch.nn.Embedding(tokenizer.n_vocab, 256)"
   ]
  },
  {
   "cell_type": "code",
   "execution_count": 25,
   "id": "de48422a",
   "metadata": {},
   "outputs": [
    {
     "data": {
      "text/plain": [
       "tensor([[ 0.3842, -0.8694, -1.5476],\n",
       "        [-0.1058, -0.0901, -0.2716],\n",
       "        [-0.6403, -0.3490,  0.6016],\n",
       "        [-0.9512,  1.3040, -0.7873],\n",
       "        [ 0.6833,  0.7670, -0.6327],\n",
       "        [-0.6543, -0.4101,  0.9935]])"
      ]
     },
     "execution_count": 25,
     "metadata": {},
     "output_type": "execute_result"
    }
   ],
   "source": [
    "A = embedding.weight.data\n",
    "A"
   ]
  },
  {
   "cell_type": "code",
   "execution_count": 26,
   "id": "af4a766b",
   "metadata": {},
   "outputs": [
    {
     "name": "stdout",
     "output_type": "stream",
     "text": [
      "tensor([2.1000, 1.3000]) tensor([1.5000, 2.7000])\n"
     ]
    }
   ],
   "source": [
    "#making tensors from scratch-- just put in the elements\n",
    "x = torch.tensor([2.1,1.3])\n",
    "y = torch.tensor([1.5,2.7])\n",
    "print(x,y)"
   ]
  },
  {
   "cell_type": "code",
   "execution_count": 27,
   "id": "6a6d8c17",
   "metadata": {},
   "outputs": [
    {
     "data": {
      "text/plain": [
       "tensor(6.6600)"
      ]
     },
     "execution_count": 27,
     "metadata": {},
     "output_type": "execute_result"
    }
   ],
   "source": [
    "#computing the dot product if two tensors\n",
    "torch.dot(x,y)"
   ]
  },
  {
   "cell_type": "markdown",
   "id": "91261536",
   "metadata": {},
   "source": [
    "## Some More Practice Stuff on Attention Mechanisms"
   ]
  },
  {
   "cell_type": "code",
   "execution_count": 28,
   "id": "a8c2378b",
   "metadata": {},
   "outputs": [],
   "source": [
    "raw_text= \"This is my dog Hazel\""
   ]
  },
  {
   "cell_type": "code",
   "execution_count": 29,
   "id": "b24f7de6",
   "metadata": {},
   "outputs": [
    {
     "name": "stdout",
     "output_type": "stream",
     "text": [
      "[1212, 318, 616, 3290, 42805]\n"
     ]
    }
   ],
   "source": [
    "tokenizer= tiktoken.get_encoding(\"gpt2\")\n",
    "enc_text = tokenizer.encode(raw_text)\n",
    "print (enc_text)"
   ]
  },
  {
   "cell_type": "code",
   "execution_count": 30,
   "id": "308f483d",
   "metadata": {},
   "outputs": [
    {
     "name": "stdout",
     "output_type": "stream",
     "text": [
      "Parameter containing:\n",
      "tensor([[-0.0855, -1.0564, -0.4305,  0.7069, -0.8617,  0.0992, -1.6274, -2.1438],\n",
      "        [ 2.8522,  1.4012, -0.7497, -1.5911,  0.2721, -0.5609,  0.6640, -0.7666],\n",
      "        [-0.7643,  0.3051, -0.6697,  0.3432,  0.5046,  0.9810, -0.2262,  1.1889],\n",
      "        [ 0.2676, -0.0646, -0.2281, -0.4881, -1.2655,  1.9061,  0.0154,  0.0075]],\n",
      "       requires_grad=True)\n"
     ]
    }
   ],
   "source": [
    "vocab_size = 4\n",
    "output_dim = 8\n",
    "inputs = torch.nn.Embedding(vocab_size, output_dim)\n",
    "print(inputs.weight)"
   ]
  },
  {
   "cell_type": "code",
   "execution_count": 31,
   "id": "100c3c95",
   "metadata": {},
   "outputs": [
    {
     "data": {
      "text/plain": [
       "tensor([[-0.0855, -1.0564, -0.4305,  0.7069, -0.8617,  0.0992, -1.6274, -2.1438],\n",
       "        [ 2.8522,  1.4012, -0.7497, -1.5911,  0.2721, -0.5609,  0.6640, -0.7666],\n",
       "        [-0.7643,  0.3051, -0.6697,  0.3432,  0.5046,  0.9810, -0.2262,  1.1889],\n",
       "        [ 0.2676, -0.0646, -0.2281, -0.4881, -1.2655,  1.9061,  0.0154,  0.0075]])"
      ]
     },
     "execution_count": 31,
     "metadata": {},
     "output_type": "execute_result"
    }
   ],
   "source": [
    "#This gets rid of the grad = True thing\n",
    "inputs = inputs.weight.data\n",
    "inputs"
   ]
  },
  {
   "cell_type": "code",
   "execution_count": 32,
   "id": "3a70dfdb",
   "metadata": {},
   "outputs": [
    {
     "data": {
      "text/plain": [
       "torch.Size([4, 8])"
      ]
     },
     "execution_count": 32,
     "metadata": {},
     "output_type": "execute_result"
    }
   ],
   "source": [
    "inputs.shape"
   ]
  },
  {
   "cell_type": "code",
   "execution_count": 33,
   "id": "73c0e948",
   "metadata": {},
   "outputs": [
    {
     "name": "stdout",
     "output_type": "stream",
     "text": [
      "[-0.08552072197198868, -1.0564051866531372, -0.4305046796798706, 0.7069157958030701, -0.8616750836372375, 0.09924129396677017, -1.6274216175079346, -2.1437814235687256]\n",
      "[2.852158546447754, 1.4011563062667847, -0.749657928943634, -1.5911266803741455, 0.2721112370491028, -0.5608687996864319, 0.6639871001243591, -0.7666245102882385]\n",
      "[-0.764258861541748, 0.30506432056427, -0.6697277426719666, 0.3432409465312958, 0.5045517683029175, 0.9810091257095337, -0.2261744886636734, 1.1888693571090698]\n",
      "[0.2675808072090149, -0.06460964679718018, -0.22806188464164734, -0.48808732628822327, -1.265477180480957, 1.906104326248169, 0.01543920487165451, 0.007537121884524822]\n"
     ]
    }
   ],
   "source": [
    "for row in inputs:\n",
    "    print(row.tolist())"
   ]
  },
  {
   "cell_type": "code",
   "execution_count": 34,
   "id": "9a914685",
   "metadata": {},
   "outputs": [],
   "source": [
    "#Example to do dot product\n",
    "x = torch.Tensor([1.1, 2.3])\n",
    "y = torch.Tensor([3.4,-2.1])"
   ]
  },
  {
   "cell_type": "code",
   "execution_count": 35,
   "id": "e2ebda04",
   "metadata": {},
   "outputs": [
    {
     "data": {
      "text/plain": [
       "-1.0899999999999999"
      ]
     },
     "execution_count": 35,
     "metadata": {},
     "output_type": "execute_result"
    }
   ],
   "source": [
    "#Calculate the dot product... annoying by hand\n",
    "1.1*3.4 + 2.3*(-2.1)"
   ]
  },
  {
   "cell_type": "code",
   "execution_count": 36,
   "id": "3cf62b1b",
   "metadata": {},
   "outputs": [
    {
     "data": {
      "text/plain": [
       "tensor(-1.0900)"
      ]
     },
     "execution_count": 36,
     "metadata": {},
     "output_type": "execute_result"
    }
   ],
   "source": [
    "#Built in dot product method!\n",
    "torch.dot(x,y)"
   ]
  },
  {
   "cell_type": "code",
   "execution_count": 37,
   "id": "dc5beedb",
   "metadata": {},
   "outputs": [
    {
     "name": "stdout",
     "output_type": "stream",
     "text": [
      "tensor([-0.7643,  0.3051, -0.6697,  0.3432,  0.5046,  0.9810, -0.2262,  1.1889])\n"
     ]
    }
   ],
   "source": [
    "#The important one is called the \"query\"\n",
    "query = inputs[2]\n",
    "print(query)"
   ]
  },
  {
   "cell_type": "code",
   "execution_count": 38,
   "id": "02063f8c",
   "metadata": {},
   "outputs": [
    {
     "name": "stdout",
     "output_type": "stream",
     "text": [
      "tensor(-2.2439)\n",
      "tensor(-3.2709)\n",
      "tensor(3.9250)\n",
      "tensor(0.9979)\n"
     ]
    }
   ],
   "source": [
    "# gives the dot products of the 3rd embedding vector with all the other vectors (vector 3 x vector 1, vector 3 x vector 2 ...)\n",
    "for i in range(len(inputs)):\n",
    "    print(torch.dot(query, inputs[i]))"
   ]
  },
  {
   "cell_type": "code",
   "execution_count": 39,
   "id": "9dbe5209",
   "metadata": {},
   "outputs": [
    {
     "name": "stdout",
     "output_type": "stream",
     "text": [
      "tensor([-2.2439, -3.2709,  3.9250,  0.9979])\n"
     ]
    }
   ],
   "source": [
    "#Want the dot products (attention scores) in a tensor of their own\n",
    "#torch.zeros creates a tensor of zeros so that you can fill them in\n",
    "\n",
    "attention_scores_2 = torch.zeros(len(inputs))\n",
    "for i in range(len(inputs)):\n",
    "    attention_scores_2[i] = (torch.dot(query, inputs[i]))\n",
    "print(attention_scores_2)"
   ]
  },
  {
   "cell_type": "code",
   "execution_count": 40,
   "id": "eb1e05e2",
   "metadata": {},
   "outputs": [],
   "source": [
    "# Normaling the attention scores using softmax function-- basically makes everything positive in a complicated way\n",
    "#def softmax(x):\n",
    "    #torch.exp(x, dim=0) / torch.exp(x).sum()"
   ]
  },
  {
   "cell_type": "code",
   "execution_count": 41,
   "id": "7160071e",
   "metadata": {},
   "outputs": [
    {
     "data": {
      "text/plain": [
       "tensor([1.9816e-03, 7.0960e-04, 9.4662e-01, 5.0691e-02])"
      ]
     },
     "execution_count": 41,
     "metadata": {},
     "output_type": "execute_result"
    }
   ],
   "source": [
    "#use the real torch function!\n",
    "# Make sure you add the dimension\n",
    "attention_weights_2 = torch.softmax(attention_scores_2, dim = 0)\n",
    "attention_weights_2"
   ]
  },
  {
   "cell_type": "code",
   "execution_count": 42,
   "id": "0fe80183",
   "metadata": {},
   "outputs": [
    {
     "data": {
      "text/plain": [
       "tensor(1.0000)"
      ]
     },
     "execution_count": 42,
     "metadata": {},
     "output_type": "execute_result"
    }
   ],
   "source": [
    "attention_weights_2.sum()"
   ]
  },
  {
   "cell_type": "code",
   "execution_count": 43,
   "id": "ee59991b",
   "metadata": {},
   "outputs": [
    {
     "data": {
      "text/plain": [
       "tensor([-0.7080,  0.2844, -0.6469,  0.3004,  0.4120,  1.0251, -0.2161,  1.1210])"
      ]
     },
     "execution_count": 43,
     "metadata": {},
     "output_type": "execute_result"
    }
   ],
   "source": [
    "# Making the actual context vector ...\n",
    "context_vector_2 = torch.zeros(query.shape)\n",
    "for i in range(len(attention_weights_2)):\n",
    "    context_vector_2 += attention_weights_2[i]*inputs[i]\n",
    "context_vector_2"
   ]
  },
  {
   "cell_type": "code",
   "execution_count": 48,
   "id": "245322c7",
   "metadata": {},
   "outputs": [
    {
     "data": {
      "text/plain": [
       "tensor([[ 9.8050, -2.2534, -2.2439,  1.0368],\n",
       "        [-2.2534, 14.6089, -3.2709,  0.2113],\n",
       "        [-2.2439, -3.2709,  3.9250,  0.9979],\n",
       "        [ 1.0368,  0.2113,  0.9979,  5.6010]])"
      ]
     },
     "execution_count": 48,
     "metadata": {},
     "output_type": "execute_result"
    }
   ],
   "source": [
    "#Get all attention scores (dot products) for all input vectors w each other via matrix multiplication (@) \n",
    "attention_scores = inputs @ inputs.T\n",
    "#inputs x tranverse inputs\n",
    "attention_scores"
   ]
  },
  {
   "cell_type": "code",
   "execution_count": null,
   "id": "af0c7349",
   "metadata": {},
   "outputs": [
    {
     "data": {
      "text/plain": [
       "tensor([[9.9983e-01, 5.7946e-06, 5.8497e-06, 1.5558e-04],\n",
       "        [4.7509e-08, 1.0000e+00, 1.7174e-08, 5.5870e-07],\n",
       "        [1.9816e-03, 7.0960e-04, 9.4662e-01, 5.0691e-02],\n",
       "        [1.0165e-02, 4.4520e-03, 9.7762e-03, 9.7561e-01]])"
      ]
     },
     "execution_count": 45,
     "metadata": {},
     "output_type": "execute_result"
    }
   ],
   "source": [
    "#Normalize the attention scores = attention weights\n",
    "attention_weights = torch.softmax(attention_scores, dim = -1)\n",
    "attention_weights"
   ]
  },
  {
   "cell_type": "code",
   "execution_count": 46,
   "id": "927cf440",
   "metadata": {},
   "outputs": [
    {
     "data": {
      "text/plain": [
       "tensor(1.0000)"
      ]
     },
     "execution_count": 46,
     "metadata": {},
     "output_type": "execute_result"
    }
   ],
   "source": [
    "attention_weights[0].sum()"
   ]
  },
  {
   "cell_type": "code",
   "execution_count": 47,
   "id": "b1af0df8",
   "metadata": {},
   "outputs": [
    {
     "data": {
      "text/plain": [
       "tensor([[-8.5453e-02, -1.0562e+00, -4.3048e-01,  7.0671e-01, -8.6172e-01,\n",
       "          9.9524e-02, -1.6271e+00, -2.1434e+00],\n",
       "        [ 2.8522e+00,  1.4012e+00, -7.4966e-01, -1.5911e+00,  2.7211e-01,\n",
       "         -5.6087e-01,  6.6399e-01, -7.6662e-01],\n",
       "        [-7.0804e-01,  2.8441e-01, -6.4692e-01,  3.0045e-01,  4.1196e-01,\n",
       "          1.0251e+00, -2.1607e-01,  1.1210e+00],\n",
       "        [ 2.6541e-01, -6.4551e-02, -2.3676e-01, -4.7272e-01, -1.2372e+00,\n",
       "          1.8677e+00, -7.3449e-04, -6.2277e-03]])"
      ]
     },
     "execution_count": 47,
     "metadata": {},
     "output_type": "execute_result"
    }
   ],
   "source": [
    "context_vectors = attention_weights @ inputs\n",
    "context_vectors"
   ]
  },
  {
   "cell_type": "code",
   "execution_count": null,
   "id": "7d4f5024",
   "metadata": {},
   "outputs": [],
   "source": []
  }
 ],
 "metadata": {
  "kernelspec": {
   "display_name": "Python 3",
   "language": "python",
   "name": "python3"
  },
  "language_info": {
   "codemirror_mode": {
    "name": "ipython",
    "version": 3
   },
   "file_extension": ".py",
   "mimetype": "text/x-python",
   "name": "python",
   "nbconvert_exporter": "python",
   "pygments_lexer": "ipython3",
   "version": "3.13.1"
  }
 },
 "nbformat": 4,
 "nbformat_minor": 5
}
