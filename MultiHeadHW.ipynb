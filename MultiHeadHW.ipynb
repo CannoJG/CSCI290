{
 "cells": [
  {
   "cell_type": "markdown",
   "id": "28a69834",
   "metadata": {},
   "source": [
    "## Multi-Head Attention Breakdown"
   ]
  },
  {
   "cell_type": "code",
   "execution_count": 2,
   "id": "b491987a",
   "metadata": {},
   "outputs": [],
   "source": [
    "import torch\n",
    "import torch.nn as nn"
   ]
  },
  {
   "cell_type": "markdown",
   "id": "2fe5cbc8",
   "metadata": {},
   "source": [
    "### Creating Batches"
   ]
  },
  {
   "cell_type": "code",
   "execution_count": 3,
   "id": "0b85517e",
   "metadata": {},
   "outputs": [],
   "source": [
    "inputs = torch.nn.Embedding(4,8)\n",
    "inputs = inputs.weight.data\n",
    "batches = torch.stack((inputs, inputs), dim=0)\n"
   ]
  },
  {
   "cell_type": "code",
   "execution_count": 4,
   "id": "b66ab20b",
   "metadata": {},
   "outputs": [
    {
     "data": {
      "text/plain": [
       "tensor([[[-0.3816, -0.1771, -0.3567, -0.9938,  0.2858, -0.7467,  0.9492,\n",
       "           1.1943],\n",
       "         [ 0.6929, -0.7397,  1.4993,  0.4912, -0.2721,  1.3577,  1.2200,\n",
       "           1.0504],\n",
       "         [-0.8440, -1.6643, -0.3135,  1.4853,  0.0741, -0.5431,  0.9064,\n",
       "          -0.3066],\n",
       "         [ 1.0305, -0.9251, -1.8062, -0.2235, -0.1915, -1.6031,  0.3357,\n",
       "          -1.5593]],\n",
       "\n",
       "        [[-0.3816, -0.1771, -0.3567, -0.9938,  0.2858, -0.7467,  0.9492,\n",
       "           1.1943],\n",
       "         [ 0.6929, -0.7397,  1.4993,  0.4912, -0.2721,  1.3577,  1.2200,\n",
       "           1.0504],\n",
       "         [-0.8440, -1.6643, -0.3135,  1.4853,  0.0741, -0.5431,  0.9064,\n",
       "          -0.3066],\n",
       "         [ 1.0305, -0.9251, -1.8062, -0.2235, -0.1915, -1.6031,  0.3357,\n",
       "          -1.5593]]])"
      ]
     },
     "execution_count": 4,
     "metadata": {},
     "output_type": "execute_result"
    }
   ],
   "source": [
    "batches"
   ]
  },
  {
   "cell_type": "code",
   "execution_count": null,
   "id": "c00cd091",
   "metadata": {},
   "outputs": [],
   "source": []
  }
 ],
 "metadata": {
  "kernelspec": {
   "display_name": "Python 3",
   "language": "python",
   "name": "python3"
  },
  "language_info": {
   "codemirror_mode": {
    "name": "ipython",
    "version": 3
   },
   "file_extension": ".py",
   "mimetype": "text/x-python",
   "name": "python",
   "nbconvert_exporter": "python",
   "pygments_lexer": "ipython3",
   "version": "3.13.1"
  }
 },
 "nbformat": 4,
 "nbformat_minor": 5
}
