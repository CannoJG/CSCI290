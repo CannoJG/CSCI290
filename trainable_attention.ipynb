{
 "cells": [
  {
   "cell_type": "markdown",
   "id": "3880b57c",
   "metadata": {},
   "source": [
    "## Attention With Trainable Weights"
   ]
  },
  {
   "cell_type": "code",
   "execution_count": 1,
   "id": "e78633be",
   "metadata": {},
   "outputs": [],
   "source": [
    "import torch"
   ]
  },
  {
   "cell_type": "code",
   "execution_count": 2,
   "id": "eb5b0b49",
   "metadata": {},
   "outputs": [],
   "source": [
    "inputs = torch.nn.Embedding(4,8)"
   ]
  },
  {
   "cell_type": "code",
   "execution_count": 3,
   "id": "6c2fdbe2",
   "metadata": {},
   "outputs": [
    {
     "data": {
      "text/plain": [
       "tensor([[ 0.3476,  1.0008,  1.4503,  0.3622,  0.7486, -0.0103, -0.4972, -2.9958],\n",
       "        [-0.4068, -0.5580, -0.1595, -0.7773, -0.5482, -0.2031,  0.2543,  1.1040],\n",
       "        [-0.8071,  0.7434,  0.9972, -0.2365,  0.6343,  0.2737, -0.2480,  2.2735],\n",
       "        [ 0.8415, -1.1536,  1.2855,  0.5882,  0.3148, -0.2748, -1.1443,  2.0168]])"
      ]
     },
     "execution_count": 3,
     "metadata": {},
     "output_type": "execute_result"
    }
   ],
   "source": [
    "inputs = inputs.weight.data\n",
    "inputs"
   ]
  },
  {
   "cell_type": "code",
   "execution_count": 4,
   "id": "fb047287",
   "metadata": {},
   "outputs": [],
   "source": [
    "# Set dimensions\n",
    "d_in = 8\n",
    "d_out = 6\n",
    "# Create Weight Matricies query, key, value with random entries\n",
    "W_q = torch.nn.Parameter(torch.rand(d_in, d_out), requires_grad=False)\n",
    "W_k = torch.nn.Parameter(torch.rand(d_in, d_out), requires_grad=False)\n",
    "W_v = torch.nn.Parameter(torch.rand(d_in, d_out), requires_grad=False)"
   ]
  },
  {
   "cell_type": "code",
   "execution_count": 5,
   "id": "cbbaa6f5",
   "metadata": {},
   "outputs": [
    {
     "data": {
      "text/plain": [
       "tensor([2.1511, 1.3342, 1.9950, 2.2145, 3.2097, 1.1408])"
      ]
     },
     "execution_count": 5,
     "metadata": {},
     "output_type": "execute_result"
    }
   ],
   "source": [
    "#choose an input vector (we're using 2) and transform it into our query vector using using W_q\n",
    "query = inputs[2] @ W_q\n",
    "query\n"
   ]
  },
  {
   "cell_type": "code",
   "execution_count": 6,
   "id": "37c209fa",
   "metadata": {},
   "outputs": [
    {
     "name": "stdout",
     "output_type": "stream",
     "text": [
      "tensor([[-0.3760,  1.0337, -1.1583, -0.2894, -0.4050,  1.6662],\n",
      "        [-0.4264, -0.8371, -0.4320, -0.0674, -0.6597, -1.5198],\n",
      "        [ 1.3435,  0.7114,  3.0836,  2.1317,  1.5462,  1.1950],\n",
      "        [-0.8361, -0.5026,  1.9398,  1.9284,  1.8886, -0.0835]])\n",
      "tensor([[ 0.3589,  1.2143, -0.6569,  0.8759,  1.0961, -0.6289],\n",
      "        [-0.6003, -1.1869, -0.3515, -0.9751, -1.3323, -0.0853],\n",
      "        [ 2.9386,  0.3470,  2.3401,  1.7831,  0.8412,  2.7903],\n",
      "        [ 2.5762, -1.2917,  1.0480,  1.4931,  1.0715,  1.5268]])\n"
     ]
    }
   ],
   "source": [
    "#Calculate keys and values matrices\n",
    "keys = inputs @ W_k\n",
    "values = inputs @ W_v\n",
    "print(keys)\n",
    "print(values)"
   ]
  },
  {
   "cell_type": "code",
   "execution_count": 7,
   "id": "ff2cbbaa",
   "metadata": {},
   "outputs": [
    {
     "data": {
      "text/plain": [
       "tensor([-1.7802, -6.8963, 21.0379, 11.6379])"
      ]
     },
     "execution_count": 7,
     "metadata": {},
     "output_type": "execute_result"
    }
   ],
   "source": [
    "attention_scores = query @ keys.T\n",
    "attention_scores"
   ]
  },
  {
   "cell_type": "code",
   "execution_count": 8,
   "id": "1e3eb9bc",
   "metadata": {},
   "outputs": [
    {
     "data": {
      "text/plain": [
       "tensor([8.8114e-05, 1.0913e-05, 9.7881e-01, 2.1090e-02])"
      ]
     },
     "execution_count": 8,
     "metadata": {},
     "output_type": "execute_result"
    }
   ],
   "source": [
    "#normalize the scores to get the weights\n",
    "# denominator is just because that's what the researchers figured out worked best for training \n",
    "attention_weights = torch.softmax(attention_scores / keys.shape[-1]**0.5, dim= -1)\n",
    "attention_weights"
   ]
  },
  {
   "cell_type": "code",
   "execution_count": 9,
   "id": "b59bf510",
   "metadata": {},
   "outputs": [
    {
     "data": {
      "text/plain": [
       "tensor(1.0000)"
      ]
     },
     "execution_count": 9,
     "metadata": {},
     "output_type": "execute_result"
    }
   ],
   "source": [
    "#Make sure you did it right\n",
    "attention_weights.sum()"
   ]
  },
  {
   "cell_type": "code",
   "execution_count": 10,
   "id": "013b4dd5",
   "metadata": {},
   "outputs": [
    {
     "data": {
      "text/plain": [
       "tensor([2.9307, 0.3125, 2.3125, 1.7769, 0.8460, 2.7633])"
      ]
     },
     "execution_count": 10,
     "metadata": {},
     "output_type": "execute_result"
    }
   ],
   "source": [
    "# make the context vector\n",
    "context_vector = attention_weights @ values\n",
    "context_vector"
   ]
  },
  {
   "cell_type": "markdown",
   "id": "851252b0",
   "metadata": {},
   "source": [
    "## Making the Simple Attention Class Using Parameter "
   ]
  },
  {
   "cell_type": "code",
   "execution_count": 11,
   "id": "18e31084",
   "metadata": {},
   "outputs": [],
   "source": [
    "import torch.nn as nn"
   ]
  },
  {
   "cell_type": "code",
   "execution_count": 12,
   "id": "5e74bc98",
   "metadata": {},
   "outputs": [],
   "source": [
    "#Create a simple attention class v1\n",
    "class SimpleAttention(nn.Module):\n",
    "    #Constructor, initialize those matrix dimensions\n",
    "    def __init__(self, d_in, d_out):\n",
    "        super().__init__()\n",
    "        #Create weight matrices\n",
    "        self.W_q = nn.Parameter(torch.rand(d_in, d_out), requires_grad=False)\n",
    "        self.W_k = nn.Parameter(torch.rand(d_in, d_out), requires_grad=False)\n",
    "        self.W_v = nn.Parameter(torch.rand(d_in, d_out), requires_grad=False)\n",
    "\n",
    "    #   x = embedding vectors (inputs)\n",
    "    def forward(self,x):\n",
    "        #Make the queries, keys and values\n",
    "        queries = x @ self.W_q\n",
    "        keys = x @ self.W_k\n",
    "        values = x @ self.W_v\n",
    "        #Compute scores, then normalize into weights\n",
    "        scores = queries @ keys.T\n",
    "        weights = torch.softmax(scores / keys.shape[-1]**0.5, dim= -1)\n",
    "        #Compute context vector using weights and values\n",
    "        context = weights @ values\n",
    "        return context\n"
   ]
  },
  {
   "cell_type": "code",
   "execution_count": 13,
   "id": "8f7212fe",
   "metadata": {},
   "outputs": [],
   "source": [
    "#Using the class example\n",
    "#instatiate an instance\n",
    "simple = SimpleAttention(d_in = 8, d_out = 6)\n"
   ]
  },
  {
   "cell_type": "code",
   "execution_count": 14,
   "id": "3314d6bf",
   "metadata": {},
   "outputs": [
    {
     "data": {
      "text/plain": [
       "Parameter containing:\n",
       "tensor([[0.9237, 0.6093, 0.1456, 0.4082, 0.4097, 0.6360],\n",
       "        [0.7457, 0.0569, 0.3666, 0.2114, 0.4545, 0.4032],\n",
       "        [0.9186, 0.6230, 0.0799, 0.5688, 0.5827, 0.2930],\n",
       "        [0.9995, 0.6606, 0.4155, 0.4434, 0.5952, 0.9104],\n",
       "        [0.2912, 0.7817, 0.8116, 0.6722, 0.2601, 0.3147],\n",
       "        [0.2672, 0.2461, 0.2986, 0.3389, 0.9953, 0.3255],\n",
       "        [0.0884, 0.8030, 0.1776, 0.0880, 0.7437, 0.5777],\n",
       "        [0.1080, 0.9056, 0.7430, 0.6177, 0.7764, 0.7794]])"
      ]
     },
     "execution_count": 14,
     "metadata": {},
     "output_type": "execute_result"
    }
   ],
   "source": [
    "#It has attributes!\n",
    "simple.W_k"
   ]
  },
  {
   "cell_type": "code",
   "execution_count": 15,
   "id": "2bddbb82",
   "metadata": {},
   "outputs": [
    {
     "data": {
      "text/plain": [
       "tensor([[ 0.5131, -0.9164, -0.1836,  1.5753, -0.6551,  0.4312],\n",
       "        [-0.2766,  0.0189, -0.2676, -0.2599, -0.0839, -0.4699],\n",
       "        [ 0.1757,  1.4299,  0.8559,  2.2200,  1.6469,  2.4665],\n",
       "        [ 0.0137,  1.4395,  0.8817,  2.1822,  1.5771,  2.3379]])"
      ]
     },
     "execution_count": 15,
     "metadata": {},
     "output_type": "execute_result"
    }
   ],
   "source": [
    "#Class returns the context vector\n",
    "context_vectors = simple(inputs)\n",
    "context_vectors"
   ]
  },
  {
   "cell_type": "markdown",
   "id": "8c9fcedc",
   "metadata": {},
   "source": [
    "## Making the Simple Attention Class Again using nn.Linear"
   ]
  },
  {
   "cell_type": "code",
   "execution_count": 24,
   "id": "849378f0",
   "metadata": {},
   "outputs": [],
   "source": [
    "#Create a simple attention class v2\n",
    "#Using nn.Linear to be more efficient\n",
    "\n",
    "class SimpleAttention(nn.Module):\n",
    "    #Constructor, initialize those matrix dimensions\n",
    "    def __init__(self, d_in, d_out):\n",
    "        super().__init__()\n",
    "        #Create weight matrices\n",
    "        self.W_q = nn.Linear(d_in, d_out, bias=False)\n",
    "        self.W_k = nn.Linear(d_in, d_out, bias=False)\n",
    "        self.W_v = nn.Linear(d_in, d_out, bias=False)\n",
    "\n",
    "    #   x = embedding vectors (inputs)\n",
    "    def forward(self,x):\n",
    "        #Make the queries, keys and values\n",
    "        #Still just muktiplying the matrices\n",
    "        queries = self.W_q(x)\n",
    "        keys = self.W_k(x)\n",
    "        values = self.W_v (x)\n",
    "        #Compute scores, then normalize into weights\n",
    "        scores = queries @ keys.T\n",
    "        weights = torch.softmax(scores / keys.shape[-1]**0.5, dim= -1)\n",
    "        #Compute context vector using weights and values\n",
    "        context = weights @ values\n",
    "        return context\n"
   ]
  },
  {
   "cell_type": "code",
   "execution_count": 25,
   "id": "66b88466",
   "metadata": {},
   "outputs": [],
   "source": [
    "simple = SimpleAttention(d_in = 8, d_out = 4)"
   ]
  },
  {
   "cell_type": "code",
   "execution_count": 26,
   "id": "dc53ab56",
   "metadata": {},
   "outputs": [
    {
     "data": {
      "text/plain": [
       "tensor([[ 0.0883,  0.5871,  0.1271,  0.0613],\n",
       "        [-0.1756,  0.3361,  0.1367, -0.2108],\n",
       "        [-0.1097,  0.3380,  0.1416, -0.1644],\n",
       "        [-0.1760,  0.3377,  0.1179, -0.1991]], grad_fn=<MmBackward0>)"
      ]
     },
     "execution_count": 26,
     "metadata": {},
     "output_type": "execute_result"
    }
   ],
   "source": [
    "context_vectors = simple(inputs)\n",
    "context_vectors"
   ]
  },
  {
   "cell_type": "code",
   "execution_count": 19,
   "id": "fa90eed7",
   "metadata": {},
   "outputs": [],
   "source": [
    "# the problem here is that each context vector uses information from ALL of the embedding vectors\n",
    "#In practice, we should only use information about preceeding vectors\n",
    "# To do so, implement causal attention AKA masked attention"
   ]
  },
  {
   "cell_type": "markdown",
   "id": "cbf49ae0",
   "metadata": {},
   "source": [
    "### Simple Masked Attention (1.0)"
   ]
  },
  {
   "cell_type": "code",
   "execution_count": null,
   "id": "7a84f031",
   "metadata": {},
   "outputs": [
    {
     "data": {
      "text/plain": [
       "tensor([[-0.2313, -0.4622, -0.3702,  0.2098],\n",
       "        [-0.0081, -0.1016, -0.1492, -0.1211],\n",
       "        [-0.1679, -0.3332, -0.2500,  0.0806],\n",
       "        [-0.1755, -0.3499, -0.2763,  0.1009]], grad_fn=<MmBackward0>)"
      ]
     },
     "execution_count": 22,
     "metadata": {},
     "output_type": "execute_result"
    }
   ],
   "source": [
    "#Hack to get some weights\n",
    "#weights = simple(inputs)\n",
    "weights"
   ]
  },
  {
   "cell_type": "code",
   "execution_count": 27,
   "id": "4c1c06c4",
   "metadata": {},
   "outputs": [
    {
     "data": {
      "text/plain": [
       "tensor([-0.8540, -0.3801, -0.6706, -0.7008], grad_fn=<SumBackward1>)"
      ]
     },
     "execution_count": 27,
     "metadata": {},
     "output_type": "execute_result"
    }
   ],
   "source": [
    "#Note that these are already normalized\n",
    "weights.sum(dim=-1)"
   ]
  },
  {
   "cell_type": "code",
   "execution_count": 28,
   "id": "c0fa77ae",
   "metadata": {},
   "outputs": [
    {
     "data": {
      "text/plain": [
       "tensor([[1., 0., 0., 0.],\n",
       "        [1., 1., 0., 0.],\n",
       "        [1., 1., 1., 0.],\n",
       "        [1., 1., 1., 1.]])"
      ]
     },
     "execution_count": 28,
     "metadata": {},
     "output_type": "execute_result"
    }
   ],
   "source": [
    "#tril returns the lower triangular parts of the matrix (and the diagonal), turns the rest to zero\n",
    "simple_mask = torch.tril(torch.ones(weights.shape[0], weights.shape[0]))\n",
    "simple_mask"
   ]
  },
  {
   "cell_type": "code",
   "execution_count": 29,
   "id": "43678b4b",
   "metadata": {},
   "outputs": [
    {
     "data": {
      "text/plain": [
       "tensor([[-0.2313, -0.0000, -0.0000,  0.0000],\n",
       "        [-0.0081, -0.1016, -0.0000, -0.0000],\n",
       "        [-0.1679, -0.3332, -0.2500,  0.0000],\n",
       "        [-0.1755, -0.3499, -0.2763,  0.1009]], grad_fn=<MulBackward0>)"
      ]
     },
     "execution_count": 29,
     "metadata": {},
     "output_type": "execute_result"
    }
   ],
   "source": [
    "# * is a cell by cell product\n",
    "masked_weights = weights*simple_mask\n",
    "masked_weights"
   ]
  },
  {
   "cell_type": "code",
   "execution_count": 30,
   "id": "efbd431a",
   "metadata": {},
   "outputs": [
    {
     "data": {
      "text/plain": [
       "tensor([-0.2313, -0.1098, -0.7512, -0.7008], grad_fn=<SumBackward1>)"
      ]
     },
     "execution_count": 30,
     "metadata": {},
     "output_type": "execute_result"
    }
   ],
   "source": [
    "#no longer normalized...\n",
    "masked_weights.sum(dim=-1)"
   ]
  },
  {
   "cell_type": "code",
   "execution_count": 31,
   "id": "f16722fd",
   "metadata": {},
   "outputs": [
    {
     "data": {
      "text/plain": [
       "tensor([[-0.2313],\n",
       "        [-0.1098],\n",
       "        [-0.7512],\n",
       "        [-0.7008]], grad_fn=<SumBackward1>)"
      ]
     },
     "execution_count": 31,
     "metadata": {},
     "output_type": "execute_result"
    }
   ],
   "source": [
    "#Need to normalize masked weights\n",
    "row_sums = masked_weights.sum(dim=-1, keepdim=True)\n",
    "row_sums"
   ]
  },
  {
   "cell_type": "code",
   "execution_count": 32,
   "id": "db15db85",
   "metadata": {},
   "outputs": [
    {
     "data": {
      "text/plain": [
       "tensor([1., 1., 1., 1.], grad_fn=<SumBackward1>)"
      ]
     },
     "execution_count": 32,
     "metadata": {},
     "output_type": "execute_result"
    }
   ],
   "source": [
    "#Dividing by row sums normalizes\n",
    "masked_weights = masked_weights / row_sums\n",
    "masked_weights.sum(dim=-1)"
   ]
  },
  {
   "cell_type": "markdown",
   "id": "6180b3bf",
   "metadata": {},
   "source": [
    "### More Efficient Masking Method (1.1)"
   ]
  },
  {
   "cell_type": "code",
   "execution_count": 33,
   "id": "1a44b47c",
   "metadata": {},
   "outputs": [
    {
     "data": {
      "text/plain": [
       "tensor([[0., 1., 1., 1.],\n",
       "        [0., 0., 1., 1.],\n",
       "        [0., 0., 0., 1.],\n",
       "        [0., 0., 0., 0.]])"
      ]
     },
     "execution_count": 33,
     "metadata": {},
     "output_type": "execute_result"
    }
   ],
   "source": [
    "# Masking method 2\n",
    "# triu() returns the upper triangular part of the matrix, puts zeros on the diagonal\n",
    "mask = torch.triu(torch.ones(weights.shape[0], weights.shape[0]), diagonal=1)\n",
    "mask"
   ]
  },
  {
   "cell_type": "code",
   "execution_count": 34,
   "id": "0925012a",
   "metadata": {},
   "outputs": [
    {
     "data": {
      "text/plain": [
       "tensor([[False,  True,  True,  True],\n",
       "        [False, False,  True,  True],\n",
       "        [False, False, False,  True],\n",
       "        [False, False, False, False]])"
      ]
     },
     "execution_count": 34,
     "metadata": {},
     "output_type": "execute_result"
    }
   ],
   "source": [
    "mask.bool()"
   ]
  },
  {
   "cell_type": "code",
   "execution_count": 35,
   "id": "035acb32",
   "metadata": {},
   "outputs": [
    {
     "data": {
      "text/plain": [
       "tensor([[-0.2313, -0.4622, -0.3702,  0.2098],\n",
       "        [-0.0081, -0.1016, -0.1492, -0.1211],\n",
       "        [-0.1679, -0.3332, -0.2500,  0.0806],\n",
       "        [-0.1755, -0.3499, -0.2763,  0.1009]], grad_fn=<MmBackward0>)"
      ]
     },
     "execution_count": 35,
     "metadata": {},
     "output_type": "execute_result"
    }
   ],
   "source": [
    "weights"
   ]
  },
  {
   "cell_type": "code",
   "execution_count": 36,
   "id": "fb57a8eb",
   "metadata": {},
   "outputs": [
    {
     "data": {
      "text/plain": [
       "tensor([[-0.2313,    -inf,    -inf,    -inf],\n",
       "        [-0.0081, -0.1016,    -inf,    -inf],\n",
       "        [-0.1679, -0.3332, -0.2500,    -inf],\n",
       "        [-0.1755, -0.3499, -0.2763,  0.1009]], grad_fn=<MaskedFillBackward0>)"
      ]
     },
     "execution_count": 36,
     "metadata": {},
     "output_type": "execute_result"
    }
   ],
   "source": [
    "#Need a matrix of true/false to fill in, fills the true spots with the given value (-inf)\n",
    "weights = weights.masked_fill(mask.bool(), -torch.inf, )\n",
    "weights"
   ]
  },
  {
   "cell_type": "code",
   "execution_count": 37,
   "id": "68c54035",
   "metadata": {},
   "outputs": [
    {
     "data": {
      "text/plain": [
       "tensor([[1.0000, 0.0000, 0.0000, 0.0000],\n",
       "        [0.5234, 0.4766, 0.0000, 0.0000],\n",
       "        [0.3612, 0.3061, 0.3327, 0.0000],\n",
       "        [0.2462, 0.2068, 0.2226, 0.3245]], grad_fn=<SoftmaxBackward0>)"
      ]
     },
     "execution_count": 37,
     "metadata": {},
     "output_type": "execute_result"
    }
   ],
   "source": [
    "masked_weights = torch.softmax(weights, dim=-1)\n",
    "masked_weights"
   ]
  },
  {
   "cell_type": "markdown",
   "id": "8834b832",
   "metadata": {},
   "source": [
    "### Dropout Explanation"
   ]
  },
  {
   "cell_type": "code",
   "execution_count": 38,
   "id": "0489bbab",
   "metadata": {},
   "outputs": [],
   "source": [
    "## Dropout helps us avoid overfitting during training \n",
    "# (don't want to overfit to training set bc then model cannot generalize)\n",
    "# Randomly and uniformly ignoring certain data points\n",
    "# we must set a dropout rate\n",
    "dropout = nn.Dropout(0.5)"
   ]
  },
  {
   "cell_type": "code",
   "execution_count": 39,
   "id": "b9cdd322",
   "metadata": {},
   "outputs": [
    {
     "data": {
      "text/plain": [
       "tensor([[0.0000, 0.0000, 0.0000, 0.0000],\n",
       "        [1.0467, 0.9533, 0.0000, 0.0000],\n",
       "        [0.0000, 0.0000, 0.0000, 0.0000],\n",
       "        [0.0000, 0.4135, 0.0000, 0.6490]], grad_fn=<MulBackward0>)"
      ]
     },
     "execution_count": 39,
     "metadata": {},
     "output_type": "execute_result"
    }
   ],
   "source": [
    "# It removes around half of the data points ...\n",
    "dropout(masked_weights)"
   ]
  },
  {
   "cell_type": "markdown",
   "id": "65b13733",
   "metadata": {},
   "source": [
    "## Causal Attenion Class"
   ]
  },
  {
   "cell_type": "code",
   "execution_count": 40,
   "id": "7e668c92",
   "metadata": {},
   "outputs": [],
   "source": [
    "# we need to be able to give our LLM batches of input\n",
    "# For example:\n",
    "# Concatenates two tensors\n",
    "batches = torch.stack((inputs, inputs), dim=0)"
   ]
  },
  {
   "cell_type": "code",
   "execution_count": 41,
   "id": "42b59aab",
   "metadata": {},
   "outputs": [
    {
     "data": {
      "text/plain": [
       "tensor([[[ 0.3476,  1.0008,  1.4503,  0.3622,  0.7486, -0.0103, -0.4972,\n",
       "          -2.9958],\n",
       "         [-0.4068, -0.5580, -0.1595, -0.7773, -0.5482, -0.2031,  0.2543,\n",
       "           1.1040],\n",
       "         [-0.8071,  0.7434,  0.9972, -0.2365,  0.6343,  0.2737, -0.2480,\n",
       "           2.2735],\n",
       "         [ 0.8415, -1.1536,  1.2855,  0.5882,  0.3148, -0.2748, -1.1443,\n",
       "           2.0168]],\n",
       "\n",
       "        [[ 0.3476,  1.0008,  1.4503,  0.3622,  0.7486, -0.0103, -0.4972,\n",
       "          -2.9958],\n",
       "         [-0.4068, -0.5580, -0.1595, -0.7773, -0.5482, -0.2031,  0.2543,\n",
       "           1.1040],\n",
       "         [-0.8071,  0.7434,  0.9972, -0.2365,  0.6343,  0.2737, -0.2480,\n",
       "           2.2735],\n",
       "         [ 0.8415, -1.1536,  1.2855,  0.5882,  0.3148, -0.2748, -1.1443,\n",
       "           2.0168]]])"
      ]
     },
     "execution_count": 41,
     "metadata": {},
     "output_type": "execute_result"
    }
   ],
   "source": [
    "batches"
   ]
  },
  {
   "cell_type": "code",
   "execution_count": 42,
   "id": "02db0023",
   "metadata": {},
   "outputs": [],
   "source": [
    "#this class needs to handle batches of input\n",
    "class CausalAttention(nn.Module):\n",
    "    def __init__(self, d_in, d_out, context_length, dropout, qkv_bias=False):\n",
    "        super().__init__()\n",
    "        self.d_out = d_out\n",
    "        #Create weight matrices\n",
    "        self.W_q = nn.Linear(d_in, d_out, bias=False)\n",
    "        self.W_k = nn.Linear(d_in, d_out, bias=False)\n",
    "        self.W_v = nn.Linear(d_in, d_out, bias=False)\n",
    "        # include dropout\n",
    "        self.dropout = nn.Dropout(dropout)\n",
    "        #Use the following to manage memory efficiently:\n",
    "        self.register_buffer(\n",
    "            'mask', \n",
    "            torch.triu(torch.ones(context_length, context_length), diagonal=1)\n",
    "            )\n",
    "\n",
    "    #   x = embedding vectors (inputs)\n",
    "    def forward(self,x):\n",
    "        b, num_tokens, d_in = x.shape\n",
    "        #Make the queries, keys and values\n",
    "        #Still just muktiplying the matrices\n",
    "        queries = self.W_q(x)\n",
    "        keys = self.W_k(x)\n",
    "        values = self.W_v (x)\n",
    "        #Compute scores, then normalize into weights (doing dot products of queries and keys)\n",
    "        scores = queries @ keys.transpose(1,2)\n",
    "        #masking process: turns into trues/falses then converts some into -inf which is normalized to 0 in next step\n",
    "        scores.masked_fill_(self.mask.bool()[:num_tokens, :num_tokens], -torch.inf)\n",
    "        #Normalize, -inf turns into zeros\n",
    "        weights = torch.softmax(scores / keys.shape[-1]**0.5, dim= -1)\n",
    "        weights = self.dropout(weights)\n",
    "        #Compute context vector using weights and values\n",
    "        context = weights @ values\n",
    "        return context"
   ]
  },
  {
   "cell_type": "code",
   "execution_count": 43,
   "id": "7a915b37",
   "metadata": {},
   "outputs": [],
   "source": [
    "#Instantiate a causal attention mechanism\n",
    "causal = CausalAttention(d_in=8, d_out=4, context_length= 4, dropout=0)"
   ]
  },
  {
   "cell_type": "code",
   "execution_count": 44,
   "id": "747b63e4",
   "metadata": {},
   "outputs": [
    {
     "data": {
      "text/plain": [
       "tensor([[[ 0.1315, -0.0068, -0.5639, -1.1360],\n",
       "         [ 0.0835, -0.0535, -0.2836, -0.3171],\n",
       "         [-0.0576, -0.1803, -0.1704, -0.1978],\n",
       "         [-0.1245, -0.3059,  0.0398,  0.0690]],\n",
       "\n",
       "        [[ 0.1315, -0.0068, -0.5639, -1.1360],\n",
       "         [ 0.0835, -0.0535, -0.2836, -0.3171],\n",
       "         [-0.0576, -0.1803, -0.1704, -0.1978],\n",
       "         [-0.1245, -0.3059,  0.0398,  0.0690]]], grad_fn=<UnsafeViewBackward0>)"
      ]
     },
     "execution_count": 44,
     "metadata": {},
     "output_type": "execute_result"
    }
   ],
   "source": [
    "causal(batches)"
   ]
  },
  {
   "cell_type": "markdown",
   "id": "360252c5",
   "metadata": {},
   "source": [
    "### an example of how to transpose batches correctly"
   ]
  },
  {
   "cell_type": "code",
   "execution_count": 45,
   "id": "50be6192",
   "metadata": {},
   "outputs": [],
   "source": [
    "W_q = nn.Linear(d_in, d_out, bias=False)\n",
    "W_k = nn.Linear(d_in, d_out, bias=False)\n",
    "W_v = nn.Linear(d_in, d_out, bias=False)"
   ]
  },
  {
   "cell_type": "code",
   "execution_count": 46,
   "id": "d91ad457",
   "metadata": {},
   "outputs": [
    {
     "data": {
      "text/plain": [
       "tensor([[[ 0.0670,  0.2508, -0.4446, -0.4527, -0.3071,  1.5719],\n",
       "         [ 0.0319, -0.0357,  0.3191,  0.1176,  0.1593, -0.5529],\n",
       "         [-0.7918, -0.4235,  0.8298,  0.1500,  0.4593,  0.1080],\n",
       "         [-0.9608, -0.2707,  0.7450, -0.3383,  0.9127, -0.4438]],\n",
       "\n",
       "        [[ 0.0670,  0.2508, -0.4446, -0.4527, -0.3071,  1.5719],\n",
       "         [ 0.0319, -0.0357,  0.3191,  0.1176,  0.1593, -0.5529],\n",
       "         [-0.7918, -0.4235,  0.8298,  0.1500,  0.4593,  0.1080],\n",
       "         [-0.9608, -0.2707,  0.7450, -0.3383,  0.9127, -0.4438]]],\n",
       "       grad_fn=<UnsafeViewBackward0>)"
      ]
     },
     "execution_count": 46,
     "metadata": {},
     "output_type": "execute_result"
    }
   ],
   "source": [
    "queries = W_q(batches)\n",
    "queries"
   ]
  },
  {
   "cell_type": "code",
   "execution_count": 47,
   "id": "8999fa2d",
   "metadata": {},
   "outputs": [
    {
     "data": {
      "text/plain": [
       "tensor([[[-0.4463, -0.8833, -0.9793,  0.5838, -0.1625,  1.1621],\n",
       "         [ 0.0057,  0.2712,  0.3750, -0.0250,  0.2763, -0.4203],\n",
       "         [ 0.2456, -0.4015,  0.7905, -0.4507,  0.7702, -0.4926],\n",
       "         [ 0.3099, -0.4570,  0.4964, -0.6015,  0.0530, -0.3242]],\n",
       "\n",
       "        [[-0.4463, -0.8833, -0.9793,  0.5838, -0.1625,  1.1621],\n",
       "         [ 0.0057,  0.2712,  0.3750, -0.0250,  0.2763, -0.4203],\n",
       "         [ 0.2456, -0.4015,  0.7905, -0.4507,  0.7702, -0.4926],\n",
       "         [ 0.3099, -0.4570,  0.4964, -0.6015,  0.0530, -0.3242]]],\n",
       "       grad_fn=<UnsafeViewBackward0>)"
      ]
     },
     "execution_count": 47,
     "metadata": {},
     "output_type": "execute_result"
    }
   ],
   "source": [
    "keys = W_k(batches)\n",
    "keys"
   ]
  },
  {
   "cell_type": "code",
   "execution_count": 48,
   "id": "0b71b6e3",
   "metadata": {},
   "outputs": [
    {
     "data": {
      "text/plain": [
       "tensor([[[-0.4463,  0.0057,  0.2456,  0.3099],\n",
       "         [-0.8833,  0.2712, -0.4015, -0.4570],\n",
       "         [-0.9793,  0.3750,  0.7905,  0.4964],\n",
       "         [ 0.5838, -0.0250, -0.4507, -0.6015],\n",
       "         [-0.1625,  0.2763,  0.7702,  0.0530],\n",
       "         [ 1.1621, -0.4203, -0.4926, -0.3242]],\n",
       "\n",
       "        [[-0.4463,  0.0057,  0.2456,  0.3099],\n",
       "         [-0.8833,  0.2712, -0.4015, -0.4570],\n",
       "         [-0.9793,  0.3750,  0.7905,  0.4964],\n",
       "         [ 0.5838, -0.0250, -0.4507, -0.6015],\n",
       "         [-0.1625,  0.2763,  0.7702,  0.0530],\n",
       "         [ 1.1621, -0.4203, -0.4926, -0.3242]]], grad_fn=<TransposeBackward0>)"
      ]
     },
     "execution_count": 48,
     "metadata": {},
     "output_type": "execute_result"
    }
   ],
   "source": [
    "#This transposes without mixing up the batches\n",
    "keys.transpose(1,2)"
   ]
  },
  {
   "cell_type": "markdown",
   "id": "225971c5",
   "metadata": {},
   "source": [
    "##  Multi-Head Attention 1.0 (not efficient)"
   ]
  },
  {
   "cell_type": "code",
   "execution_count": 68,
   "id": "d780bb76",
   "metadata": {},
   "outputs": [],
   "source": [
    "# Different attention heads (above is one attention head) pay attention to different things\n",
    "# A bunch of causal attention instances together\n",
    "\n",
    "class MultiHeadAttentionWrapper(nn.Module):\n",
    "\n",
    "    def __init__(self, d_in, d_out, context_length, dropout, num_heads, qkv_bias=False):\n",
    "        super().__init__()\n",
    "        self.heads = nn.ModuleList(\n",
    "            [CausalAttention(d_in, d_out, context_length, dropout, qkv_bias) \n",
    "             for _ in range(num_heads)]\n",
    "        )\n",
    "\n",
    "    def forward(self, x):\n",
    "        return torch.cat([head(x) for head in self.heads], dim=-1)\n"
   ]
  },
  {
   "cell_type": "code",
   "execution_count": 69,
   "id": "1bfb43ad",
   "metadata": {},
   "outputs": [],
   "source": [
    "mha = MultiHeadAttention(d_in=8, d_out= 4, context_length= 4, dropout= 0, num_heads=3)"
   ]
  },
  {
   "cell_type": "markdown",
   "id": "199a474a",
   "metadata": {},
   "source": [
    "## Real Multi-Head Attention Mechanism"
   ]
  },
  {
   "cell_type": "code",
   "execution_count": null,
   "id": "6c570e26",
   "metadata": {},
   "outputs": [],
   "source": [
    "# Much more efficient, only one matrix multiplicaiton step (all multiplication for all attention heads once)\n",
    "\n",
    "class MultiHeadAttention(nn.Module):\n",
    "    def __init__(self, d_in, d_out, context_length, dropout, num_heads, qkv_bias=False):\n",
    "        super().__init__()\n",
    "        assert (d_out % num_heads == 0), \\\n",
    "            \"d_out must be divisible by num_heads\"\n",
    "\n",
    "        self.d_out = d_out\n",
    "        self.num_heads = num_heads\n",
    "        self.head_dim = d_out // num_heads # Reduce the projection dim to match desired output dim\n",
    "\n",
    "        self.W_query = nn.Linear(d_in, d_out, bias=qkv_bias)\n",
    "        self.W_key = nn.Linear(d_in, d_out, bias=qkv_bias)\n",
    "        self.W_value = nn.Linear(d_in, d_out, bias=qkv_bias)\n",
    "        self.out_proj = nn.Linear(d_out, d_out)  # Linear layer to combine head outputs\n",
    "        self.dropout = nn.Dropout(dropout)\n",
    "        self.register_buffer(\n",
    "            \"mask\",\n",
    "            torch.triu(torch.ones(context_length, context_length),\n",
    "                       diagonal=1)\n",
    "        )\n",
    "\n",
    "    def forward(self, x):\n",
    "        b, num_tokens, d_in = x.shape\n",
    "        # As in `CausalAttention`, for inputs where `num_tokens` exceeds `context_length`, \n",
    "        # this will result in errors in the mask creation further below. \n",
    "        # In practice, this is not a problem since the LLM (chapters 4-7) ensures that inputs  \n",
    "        # do not exceed `context_length` before reaching this forward method.\n",
    "\n",
    "        keys = self.W_key(x) # Shape: (b, num_tokens, d_out)\n",
    "        queries = self.W_query(x)\n",
    "        values = self.W_value(x)\n",
    "\n",
    "        # We implicitly split the matrix by adding a `num_heads` dimension\n",
    "        # Unroll last dim: (b, num_tokens, d_out) -> (b, num_tokens, num_heads, head_dim)\n",
    "        keys = keys.view(b, num_tokens, self.num_heads, self.head_dim) \n",
    "        values = values.view(b, num_tokens, self.num_heads, self.head_dim)\n",
    "        queries = queries.view(b, num_tokens, self.num_heads, self.head_dim)\n",
    "\n",
    "        # Transpose: (b, num_tokens, num_heads, head_dim) -> (b, num_heads, num_tokens, head_dim)\n",
    "        keys = keys.transpose(1, 2)\n",
    "        queries = queries.transpose(1, 2)\n",
    "        values = values.transpose(1, 2)\n",
    "\n",
    "        # Compute scaled dot-product attention (aka self-attention) with a causal mask\n",
    "        attn_scores = queries @ keys.transpose(2, 3)  # Dot product for each head\n",
    "\n",
    "        # Original mask truncated to the number of tokens and converted to boolean\n",
    "        mask_bool = self.mask.bool()[:num_tokens, :num_tokens]\n",
    "\n",
    "        # Use the mask to fill attention scores\n",
    "        attn_scores.masked_fill_(mask_bool, -torch.inf)\n",
    "        \n",
    "        attn_weights = torch.softmax(attn_scores / keys.shape[-1]**0.5, dim=-1)\n",
    "        attn_weights = self.dropout(attn_weights)\n",
    "\n",
    "        # Shape: (b, num_tokens, num_heads, head_dim)\n",
    "        context_vec = (attn_weights @ values).transpose(1, 2) \n",
    "        \n",
    "        # Combine heads, where self.d_out = self.num_heads * self.head_dim\n",
    "        context_vec = context_vec.contiguous().view(b, num_tokens, self.d_out)\n",
    "        context_vec = self.out_proj(context_vec) # optional projection\n",
    "\n",
    "        return context_vec\n"
   ]
  }
 ],
 "metadata": {
  "kernelspec": {
   "display_name": "Python 3",
   "language": "python",
   "name": "python3"
  },
  "language_info": {
   "codemirror_mode": {
    "name": "ipython",
    "version": 3
   },
   "file_extension": ".py",
   "mimetype": "text/x-python",
   "name": "python",
   "nbconvert_exporter": "python",
   "pygments_lexer": "ipython3",
   "version": "3.13.1"
  }
 },
 "nbformat": 4,
 "nbformat_minor": 5
}
