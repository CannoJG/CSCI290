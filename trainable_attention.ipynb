{
 "cells": [
  {
   "cell_type": "markdown",
   "id": "3880b57c",
   "metadata": {},
   "source": [
    "## Attention With Trainable Weights"
   ]
  },
  {
   "cell_type": "code",
   "execution_count": 1,
   "id": "e78633be",
   "metadata": {},
   "outputs": [],
   "source": [
    "import torch"
   ]
  },
  {
   "cell_type": "code",
   "execution_count": 2,
   "id": "eb5b0b49",
   "metadata": {},
   "outputs": [],
   "source": [
    "inputs = torch.nn.Embedding(4,8)"
   ]
  },
  {
   "cell_type": "code",
   "execution_count": 3,
   "id": "6c2fdbe2",
   "metadata": {},
   "outputs": [
    {
     "data": {
      "text/plain": [
       "tensor([[-1.4949, -0.0219,  0.2485, -0.0637, -1.1915, -0.7459,  0.5395,  0.1476],\n",
       "        [ 0.3478, -1.0369,  0.5293,  0.3848,  1.0521,  1.0733, -1.3499, -0.5940],\n",
       "        [ 0.0870, -1.2924, -2.5694, -0.5932, -0.5718, -0.7813, -0.6482,  0.9455],\n",
       "        [-1.2236, -1.0342, -0.4716, -0.5929, -1.4903,  0.9641,  0.4968,  2.9186]])"
      ]
     },
     "execution_count": 3,
     "metadata": {},
     "output_type": "execute_result"
    }
   ],
   "source": [
    "inputs = inputs.weight.data\n",
    "inputs"
   ]
  },
  {
   "cell_type": "code",
   "execution_count": 4,
   "id": "fb047287",
   "metadata": {},
   "outputs": [],
   "source": [
    "# Set dimensions\n",
    "d_in = 8\n",
    "d_out = 6\n",
    "# Create Weight Matricies query, key, value with random entries\n",
    "W_q = torch.nn.Parameter(torch.rand(d_in, d_out), requires_grad=False)\n",
    "W_k = torch.nn.Parameter(torch.rand(d_in, d_out), requires_grad=False)\n",
    "W_v = torch.nn.Parameter(torch.rand(d_in, d_out), requires_grad=False)"
   ]
  },
  {
   "cell_type": "code",
   "execution_count": 5,
   "id": "cbbaa6f5",
   "metadata": {},
   "outputs": [
    {
     "data": {
      "text/plain": [
       "tensor([-1.9723, -3.9607, -3.7837, -0.6660, -2.7144, -1.9260])"
      ]
     },
     "execution_count": 5,
     "metadata": {},
     "output_type": "execute_result"
    }
   ],
   "source": [
    "#choose an input vector (we're using 2) and transform it into our query vector using using W_q\n",
    "query = inputs[2] @ W_q\n",
    "query\n"
   ]
  },
  {
   "cell_type": "code",
   "execution_count": 6,
   "id": "37c209fa",
   "metadata": {},
   "outputs": [
    {
     "name": "stdout",
     "output_type": "stream",
     "text": [
      "tensor([[-2.6288, -1.2798, -1.2445, -1.5749, -1.2617, -0.9750],\n",
      "        [ 1.5251, -0.1952, -0.3732,  0.5101, -0.5340, -0.6139],\n",
      "        [-2.4367, -2.9807, -4.0509, -2.6120, -2.5843, -2.1185],\n",
      "        [-0.4189,  0.6339, -0.4167, -0.0466, -1.4462,  0.3206]])\n",
      "tensor([[-0.5259, -1.3863, -1.9953, -1.5142, -1.3107, -1.9609],\n",
      "        [-0.2136,  0.2361, -0.2488, -0.4069,  0.7552, -0.0896],\n",
      "        [-1.9484, -3.7887, -2.3165, -1.4110, -1.6432, -1.5987],\n",
      "        [ 0.3877, -0.1307, -2.5233,  0.8071, -0.5758, -1.9153]])\n"
     ]
    }
   ],
   "source": [
    "#Calculate keys and values matrices\n",
    "keys = inputs @ W_k\n",
    "values = inputs @ W_v\n",
    "print(keys)\n",
    "print(values)"
   ]
  },
  {
   "cell_type": "code",
   "execution_count": 7,
   "id": "ff2cbbaa",
   "metadata": {},
   "outputs": [
    {
     "data": {
      "text/plain": [
       "tensor([21.3140,  1.4697, 44.7730,  3.2313])"
      ]
     },
     "execution_count": 7,
     "metadata": {},
     "output_type": "execute_result"
    }
   ],
   "source": [
    "attention_scores = query @ keys.T\n",
    "attention_scores"
   ]
  },
  {
   "cell_type": "code",
   "execution_count": 8,
   "id": "1e3eb9bc",
   "metadata": {},
   "outputs": [
    {
     "data": {
      "text/plain": [
       "tensor([6.9292e-05, 2.1003e-08, 9.9993e-01, 4.3115e-08])"
      ]
     },
     "execution_count": 8,
     "metadata": {},
     "output_type": "execute_result"
    }
   ],
   "source": [
    "#normalize the scores to get the weights\n",
    "# denominator is just because that's what the researchers figured out worked best for training \n",
    "attention_weights = torch.softmax(attention_scores / keys.shape[-1]**0.5, dim= -1)\n",
    "attention_weights"
   ]
  },
  {
   "cell_type": "code",
   "execution_count": 9,
   "id": "b59bf510",
   "metadata": {},
   "outputs": [
    {
     "data": {
      "text/plain": [
       "tensor(1.)"
      ]
     },
     "execution_count": 9,
     "metadata": {},
     "output_type": "execute_result"
    }
   ],
   "source": [
    "#Make sure you did it right\n",
    "attention_weights.sum()"
   ]
  },
  {
   "cell_type": "code",
   "execution_count": 10,
   "id": "013b4dd5",
   "metadata": {},
   "outputs": [
    {
     "data": {
      "text/plain": [
       "tensor([-1.9483, -3.7885, -2.3165, -1.4110, -1.6431, -1.5988])"
      ]
     },
     "execution_count": 10,
     "metadata": {},
     "output_type": "execute_result"
    }
   ],
   "source": [
    "# make the context vector\n",
    "context_vector = attention_weights @ values\n",
    "context_vector"
   ]
  },
  {
   "cell_type": "markdown",
   "id": "851252b0",
   "metadata": {},
   "source": [
    "## Making the Simple Attention Class Using Parameter "
   ]
  },
  {
   "cell_type": "code",
   "execution_count": 11,
   "id": "18e31084",
   "metadata": {},
   "outputs": [],
   "source": [
    "import torch.nn as nn"
   ]
  },
  {
   "cell_type": "code",
   "execution_count": 12,
   "id": "5e74bc98",
   "metadata": {},
   "outputs": [],
   "source": [
    "#Create a simple attention class v1\n",
    "class SimpleAttention(nn.Module):\n",
    "    #Constructor, initialize those matrix dimensions\n",
    "    def __init__(self, d_in, d_out):\n",
    "        super().__init__()\n",
    "        #Create weight matrices\n",
    "        self.W_q = nn.Parameter(torch.rand(d_in, d_out), requires_grad=False)\n",
    "        self.W_k = nn.Parameter(torch.rand(d_in, d_out), requires_grad=False)\n",
    "        self.W_v = nn.Parameter(torch.rand(d_in, d_out), requires_grad=False)\n",
    "\n",
    "    #   x = embedding vectors (inputs)\n",
    "    def forward(self,x):\n",
    "        #Make the queries, keys and values\n",
    "        queries = x @ self.W_q\n",
    "        keys = x @ self.W_k\n",
    "        values = x @ self.W_v\n",
    "        #Compute scores, then normalize into weights\n",
    "        scores = queries @ keys.T\n",
    "        weights = torch.softmax(scores / keys.shape[-1]**0.5, dim= -1)\n",
    "        #Compute context vector using weights and values\n",
    "        context = weights @ values\n",
    "        return context\n"
   ]
  },
  {
   "cell_type": "code",
   "execution_count": 13,
   "id": "8f7212fe",
   "metadata": {},
   "outputs": [],
   "source": [
    "#Using the class example\n",
    "#instatiate an instance\n",
    "simple = SimpleAttention(d_in = 8, d_out = 6)\n"
   ]
  },
  {
   "cell_type": "code",
   "execution_count": 14,
   "id": "3314d6bf",
   "metadata": {},
   "outputs": [
    {
     "data": {
      "text/plain": [
       "Parameter containing:\n",
       "tensor([[0.4454, 0.6886, 0.3427, 0.4631, 0.9360, 0.8681],\n",
       "        [0.0611, 0.6497, 0.2175, 0.5279, 0.8336, 0.2066],\n",
       "        [0.2820, 0.4408, 0.9402, 0.3710, 0.4399, 0.9453],\n",
       "        [0.3997, 0.1564, 0.7702, 0.1675, 0.5019, 0.8055],\n",
       "        [0.7183, 0.2357, 0.1873, 0.8530, 0.2531, 0.7312],\n",
       "        [0.4589, 0.5474, 0.2109, 0.6925, 0.1446, 0.4996],\n",
       "        [0.2881, 0.0170, 0.1121, 0.7964, 0.3911, 0.4384],\n",
       "        [0.0045, 0.3141, 0.2574, 0.3820, 0.7746, 0.6186]])"
      ]
     },
     "execution_count": 14,
     "metadata": {},
     "output_type": "execute_result"
    }
   ],
   "source": [
    "#It has attributes!\n",
    "simple.W_k"
   ]
  },
  {
   "cell_type": "code",
   "execution_count": 15,
   "id": "2bddbb82",
   "metadata": {},
   "outputs": [
    {
     "data": {
      "text/plain": [
       "tensor([[-2.5240, -2.4606, -1.4712, -0.8811, -1.9217, -1.3459],\n",
       "        [ 0.5158,  1.1164,  0.3386,  0.2991, -0.1793,  0.2796],\n",
       "        [-2.5311, -2.4689, -1.4806, -0.8782, -1.9316, -1.3404],\n",
       "        [-2.1427, -1.9348, -0.9703, -0.8859, -1.4233, -1.4814]])"
      ]
     },
     "execution_count": 15,
     "metadata": {},
     "output_type": "execute_result"
    }
   ],
   "source": [
    "#Class returns the context vector\n",
    "context_vectors = simple(inputs)\n",
    "context_vectors"
   ]
  },
  {
   "cell_type": "markdown",
   "id": "8c9fcedc",
   "metadata": {},
   "source": [
    "## Making the Simple Attention Class Again using nn.Linear"
   ]
  },
  {
   "cell_type": "code",
   "execution_count": 24,
   "id": "849378f0",
   "metadata": {},
   "outputs": [],
   "source": [
    "#Create a simple attention class v2\n",
    "#Using nn.Linear to be more efficient\n",
    "\n",
    "class SimpleAttention(nn.Module):\n",
    "    #Constructor, initialize those matrix dimensions\n",
    "    def __init__(self, d_in, d_out):\n",
    "        super().__init__()\n",
    "        #Create weight matrices\n",
    "        self.W_q = nn.Linear(d_in, d_out, bias=False)\n",
    "        self.W_k = nn.Linear(d_in, d_out, bias=False)\n",
    "        self.W_v = nn.Linear(d_in, d_out, bias=False)\n",
    "\n",
    "    #   x = embedding vectors (inputs)\n",
    "    def forward(self,x):\n",
    "        #Make the queries, keys and values\n",
    "        #Still just muktiplying the matrices\n",
    "        queries = self.W_q(x)\n",
    "        keys = self.W_k(x)\n",
    "        values = self.W_v (x)\n",
    "        #Compute scores, then normalize into weights\n",
    "        scores = queries @ keys.T\n",
    "        weights = torch.softmax(scores / keys.shape[-1]**0.5, dim= -1)\n",
    "        #Compute context vector using weights and values\n",
    "        context = weights @ values\n",
    "        return context\n",
    "    \n"
   ]
  },
  {
   "cell_type": "code",
   "execution_count": 17,
   "id": "66b88466",
   "metadata": {},
   "outputs": [],
   "source": [
    "simple = SimpleAttention(d_in = 8, d_out = 4)"
   ]
  },
  {
   "cell_type": "code",
   "execution_count": 18,
   "id": "dc53ab56",
   "metadata": {},
   "outputs": [
    {
     "data": {
      "text/plain": [
       "tensor([[ 0.0688, -0.1599, -0.1387,  0.4715],\n",
       "        [ 0.3319, -0.1109,  0.1228,  0.6896],\n",
       "        [ 0.3608, -0.1032,  0.1626,  0.7137],\n",
       "        [ 0.1311, -0.1515, -0.0888,  0.5293]], grad_fn=<MmBackward0>)"
      ]
     },
     "execution_count": 18,
     "metadata": {},
     "output_type": "execute_result"
    }
   ],
   "source": [
    "context_vectors = simple(inputs)\n",
    "context_vectors"
   ]
  },
  {
   "cell_type": "code",
   "execution_count": 19,
   "id": "fa90eed7",
   "metadata": {},
   "outputs": [],
   "source": [
    "# the problem here is that each context vector uses information from ALL of the embedding vectors\n",
    "#In practice, we should only use information about preceeding vectors\n",
    "# To do so, implement causal attention AKA masked attention"
   ]
  },
  {
   "cell_type": "markdown",
   "id": "cbf49ae0",
   "metadata": {},
   "source": [
    "### Simple Masked Attention (1.0)"
   ]
  },
  {
   "cell_type": "code",
   "execution_count": null,
   "id": "7a84f031",
   "metadata": {},
   "outputs": [
    {
     "data": {
      "text/plain": [
       "tensor([[ 0.0688, -0.1599, -0.1387,  0.4715],\n",
       "        [ 0.3319, -0.1109,  0.1228,  0.6896],\n",
       "        [ 0.3608, -0.1032,  0.1626,  0.7137],\n",
       "        [ 0.1311, -0.1515, -0.0888,  0.5293]], grad_fn=<MmBackward0>)"
      ]
     },
     "execution_count": 23,
     "metadata": {},
     "output_type": "execute_result"
    }
   ],
   "source": [
    "#Hack to get some weights\n",
    "#weights = simple(inputs)\n",
    "weights"
   ]
  },
  {
   "cell_type": "code",
   "execution_count": null,
   "id": "4c1c06c4",
   "metadata": {},
   "outputs": [
    {
     "data": {
      "text/plain": [
       "tensor([-0.8540, -0.3801, -0.6706, -0.7008], grad_fn=<SumBackward1>)"
      ]
     },
     "execution_count": 27,
     "metadata": {},
     "output_type": "execute_result"
    }
   ],
   "source": [
    "#Note that these are already normalized\n",
    "weights.sum(dim=-1)"
   ]
  },
  {
   "cell_type": "code",
   "execution_count": null,
   "id": "c0fa77ae",
   "metadata": {},
   "outputs": [
    {
     "data": {
      "text/plain": [
       "tensor([[1., 0., 0., 0.],\n",
       "        [1., 1., 0., 0.],\n",
       "        [1., 1., 1., 0.],\n",
       "        [1., 1., 1., 1.]])"
      ]
     },
     "execution_count": 28,
     "metadata": {},
     "output_type": "execute_result"
    }
   ],
   "source": [
    "#tril returns the lower triangular parts of the matrix (and the diagonal), turns the rest to zero\n",
    "simple_mask = torch.tril(torch.ones(weights.shape[0], weights.shape[0]))\n",
    "simple_mask"
   ]
  },
  {
   "cell_type": "code",
   "execution_count": null,
   "id": "43678b4b",
   "metadata": {},
   "outputs": [
    {
     "data": {
      "text/plain": [
       "tensor([[-0.2313, -0.0000, -0.0000,  0.0000],\n",
       "        [-0.0081, -0.1016, -0.0000, -0.0000],\n",
       "        [-0.1679, -0.3332, -0.2500,  0.0000],\n",
       "        [-0.1755, -0.3499, -0.2763,  0.1009]], grad_fn=<MulBackward0>)"
      ]
     },
     "execution_count": 29,
     "metadata": {},
     "output_type": "execute_result"
    }
   ],
   "source": [
    "# * is a cell by cell product\n",
    "masked_weights = weights*simple_mask\n",
    "masked_weights"
   ]
  },
  {
   "cell_type": "code",
   "execution_count": null,
   "id": "efbd431a",
   "metadata": {},
   "outputs": [
    {
     "data": {
      "text/plain": [
       "tensor([-0.2313, -0.1098, -0.7512, -0.7008], grad_fn=<SumBackward1>)"
      ]
     },
     "execution_count": 30,
     "metadata": {},
     "output_type": "execute_result"
    }
   ],
   "source": [
    "#no longer normalized...\n",
    "masked_weights.sum(dim=-1)"
   ]
  },
  {
   "cell_type": "code",
   "execution_count": null,
   "id": "f16722fd",
   "metadata": {},
   "outputs": [
    {
     "data": {
      "text/plain": [
       "tensor([[-0.2313],\n",
       "        [-0.1098],\n",
       "        [-0.7512],\n",
       "        [-0.7008]], grad_fn=<SumBackward1>)"
      ]
     },
     "execution_count": 31,
     "metadata": {},
     "output_type": "execute_result"
    }
   ],
   "source": [
    "#Need to normalize masked weights\n",
    "row_sums = masked_weights.sum(dim=-1, keepdim=True)\n",
    "row_sums"
   ]
  },
  {
   "cell_type": "code",
   "execution_count": null,
   "id": "db15db85",
   "metadata": {},
   "outputs": [
    {
     "data": {
      "text/plain": [
       "tensor([1., 1., 1., 1.], grad_fn=<SumBackward1>)"
      ]
     },
     "execution_count": 32,
     "metadata": {},
     "output_type": "execute_result"
    }
   ],
   "source": [
    "#Dividing by row sums normalizes\n",
    "masked_weights = masked_weights / row_sums\n",
    "masked_weights.sum(dim=-1)"
   ]
  },
  {
   "cell_type": "markdown",
   "id": "6180b3bf",
   "metadata": {},
   "source": [
    "### More Efficient Masking Method (1.1)"
   ]
  },
  {
   "cell_type": "code",
   "execution_count": 21,
   "id": "1a44b47c",
   "metadata": {},
   "outputs": [
    {
     "ename": "NameError",
     "evalue": "name 'weights' is not defined",
     "output_type": "error",
     "traceback": [
      "\u001b[31m---------------------------------------------------------------------------\u001b[39m",
      "\u001b[31mNameError\u001b[39m                                 Traceback (most recent call last)",
      "\u001b[36mCell\u001b[39m\u001b[36m \u001b[39m\u001b[32mIn[21]\u001b[39m\u001b[32m, line 3\u001b[39m\n\u001b[32m      1\u001b[39m \u001b[38;5;66;03m# Masking method 2\u001b[39;00m\n\u001b[32m      2\u001b[39m \u001b[38;5;66;03m# triu() returns the upper triangular part of the matrix, puts zeros on the diagonal\u001b[39;00m\n\u001b[32m----> \u001b[39m\u001b[32m3\u001b[39m mask = torch.triu(torch.ones(\u001b[43mweights\u001b[49m.shape[\u001b[32m0\u001b[39m], weights.shape[\u001b[32m0\u001b[39m]), diagonal=\u001b[32m1\u001b[39m)\n\u001b[32m      4\u001b[39m mask\n",
      "\u001b[31mNameError\u001b[39m: name 'weights' is not defined"
     ]
    }
   ],
   "source": [
    "# Masking method 2\n",
    "# triu() returns the upper triangular part of the matrix, puts zeros on the diagonal\n",
    "mask = torch.triu(torch.ones(weights.shape[0], weights.shape[0]), diagonal=1)\n",
    "mask"
   ]
  },
  {
   "cell_type": "code",
   "execution_count": null,
   "id": "0925012a",
   "metadata": {},
   "outputs": [
    {
     "data": {
      "text/plain": [
       "tensor([[False,  True,  True,  True],\n",
       "        [False, False,  True,  True],\n",
       "        [False, False, False,  True],\n",
       "        [False, False, False, False]])"
      ]
     },
     "execution_count": 34,
     "metadata": {},
     "output_type": "execute_result"
    }
   ],
   "source": [
    "mask.bool()"
   ]
  },
  {
   "cell_type": "code",
   "execution_count": null,
   "id": "035acb32",
   "metadata": {},
   "outputs": [
    {
     "data": {
      "text/plain": [
       "tensor([[-0.2313, -0.4622, -0.3702,  0.2098],\n",
       "        [-0.0081, -0.1016, -0.1492, -0.1211],\n",
       "        [-0.1679, -0.3332, -0.2500,  0.0806],\n",
       "        [-0.1755, -0.3499, -0.2763,  0.1009]], grad_fn=<MmBackward0>)"
      ]
     },
     "execution_count": 35,
     "metadata": {},
     "output_type": "execute_result"
    }
   ],
   "source": [
    "weights"
   ]
  },
  {
   "cell_type": "code",
   "execution_count": null,
   "id": "fb57a8eb",
   "metadata": {},
   "outputs": [
    {
     "data": {
      "text/plain": [
       "tensor([[-0.2313,    -inf,    -inf,    -inf],\n",
       "        [-0.0081, -0.1016,    -inf,    -inf],\n",
       "        [-0.1679, -0.3332, -0.2500,    -inf],\n",
       "        [-0.1755, -0.3499, -0.2763,  0.1009]], grad_fn=<MaskedFillBackward0>)"
      ]
     },
     "execution_count": 36,
     "metadata": {},
     "output_type": "execute_result"
    }
   ],
   "source": [
    "#Need a matrix of true/false to fill in, fills the true spots with the given value (-inf)\n",
    "weights = weights.masked_fill(mask.bool(), -torch.inf, )\n",
    "weights"
   ]
  },
  {
   "cell_type": "code",
   "execution_count": null,
   "id": "68c54035",
   "metadata": {},
   "outputs": [
    {
     "data": {
      "text/plain": [
       "tensor([[1.0000, 0.0000, 0.0000, 0.0000],\n",
       "        [0.5234, 0.4766, 0.0000, 0.0000],\n",
       "        [0.3612, 0.3061, 0.3327, 0.0000],\n",
       "        [0.2462, 0.2068, 0.2226, 0.3245]], grad_fn=<SoftmaxBackward0>)"
      ]
     },
     "execution_count": 37,
     "metadata": {},
     "output_type": "execute_result"
    }
   ],
   "source": [
    "masked_weights = torch.softmax(weights, dim=-1)\n",
    "masked_weights"
   ]
  },
  {
   "cell_type": "markdown",
   "id": "8834b832",
   "metadata": {},
   "source": [
    "### Dropout Explanation"
   ]
  },
  {
   "cell_type": "code",
   "execution_count": null,
   "id": "0489bbab",
   "metadata": {},
   "outputs": [],
   "source": [
    "## Dropout helps us avoid overfitting during training \n",
    "# (don't want to overfit to training set bc then model cannot generalize)\n",
    "# Randomly and uniformly ignoring certain data points\n",
    "# we must set a dropout rate\n",
    "dropout = nn.Dropout(0.5)"
   ]
  },
  {
   "cell_type": "code",
   "execution_count": null,
   "id": "b9cdd322",
   "metadata": {},
   "outputs": [
    {
     "data": {
      "text/plain": [
       "tensor([[0.0000, 0.0000, 0.0000, 0.0000],\n",
       "        [1.0467, 0.9533, 0.0000, 0.0000],\n",
       "        [0.0000, 0.0000, 0.0000, 0.0000],\n",
       "        [0.0000, 0.4135, 0.0000, 0.6490]], grad_fn=<MulBackward0>)"
      ]
     },
     "execution_count": 39,
     "metadata": {},
     "output_type": "execute_result"
    }
   ],
   "source": [
    "# It removes around half of the data points ...\n",
    "dropout(masked_weights)"
   ]
  },
  {
   "cell_type": "markdown",
   "id": "65b13733",
   "metadata": {},
   "source": [
    "## Causal Attenion Class"
   ]
  },
  {
   "cell_type": "code",
   "execution_count": null,
   "id": "7e668c92",
   "metadata": {},
   "outputs": [],
   "source": [
    "# we need to be able to give our LLM batches of input\n",
    "# For example:\n",
    "# Concatenates two tensors\n",
    "batches = torch.stack((inputs, inputs), dim=0)"
   ]
  },
  {
   "cell_type": "code",
   "execution_count": null,
   "id": "42b59aab",
   "metadata": {},
   "outputs": [
    {
     "data": {
      "text/plain": [
       "tensor([[[ 0.3476,  1.0008,  1.4503,  0.3622,  0.7486, -0.0103, -0.4972,\n",
       "          -2.9958],\n",
       "         [-0.4068, -0.5580, -0.1595, -0.7773, -0.5482, -0.2031,  0.2543,\n",
       "           1.1040],\n",
       "         [-0.8071,  0.7434,  0.9972, -0.2365,  0.6343,  0.2737, -0.2480,\n",
       "           2.2735],\n",
       "         [ 0.8415, -1.1536,  1.2855,  0.5882,  0.3148, -0.2748, -1.1443,\n",
       "           2.0168]],\n",
       "\n",
       "        [[ 0.3476,  1.0008,  1.4503,  0.3622,  0.7486, -0.0103, -0.4972,\n",
       "          -2.9958],\n",
       "         [-0.4068, -0.5580, -0.1595, -0.7773, -0.5482, -0.2031,  0.2543,\n",
       "           1.1040],\n",
       "         [-0.8071,  0.7434,  0.9972, -0.2365,  0.6343,  0.2737, -0.2480,\n",
       "           2.2735],\n",
       "         [ 0.8415, -1.1536,  1.2855,  0.5882,  0.3148, -0.2748, -1.1443,\n",
       "           2.0168]]])"
      ]
     },
     "execution_count": 41,
     "metadata": {},
     "output_type": "execute_result"
    }
   ],
   "source": [
    "batches"
   ]
  },
  {
   "cell_type": "code",
   "execution_count": null,
   "id": "02db0023",
   "metadata": {},
   "outputs": [],
   "source": [
    "#this class needs to handle batches of input\n",
    "class CausalAttention(nn.Module):\n",
    "    def __init__(self, d_in, d_out, context_length, dropout, qkv_bias=False):\n",
    "        super().__init__()\n",
    "        self.d_out = d_out\n",
    "        #Create weight matrices\n",
    "        self.W_q = nn.Linear(d_in, d_out, bias=False)\n",
    "        self.W_k = nn.Linear(d_in, d_out, bias=False)\n",
    "        self.W_v = nn.Linear(d_in, d_out, bias=False)\n",
    "        # include dropout\n",
    "        self.dropout = nn.Dropout(dropout)\n",
    "        #Use the following to manage memory efficiently:\n",
    "        self.register_buffer(\n",
    "            'mask', \n",
    "            torch.triu(torch.ones(context_length, context_length), diagonal=1)\n",
    "            )\n",
    "\n",
    "    #   x = embedding vectors (inputs)\n",
    "    def forward(self,x):\n",
    "        b, num_tokens, d_in = x.shape\n",
    "        #Make the queries, keys and values\n",
    "        #Still just muktiplying the matrices\n",
    "        queries = self.W_q(x)\n",
    "        keys = self.W_k(x)\n",
    "        values = self.W_v (x)\n",
    "        #Compute scores, then normalize into weights (doing dot products of queries and keys)\n",
    "        scores = queries @ keys.transpose(1,2)\n",
    "        #masking process: turns into trues/falses then converts some into -inf which is normalized to 0 in next step\n",
    "        scores.masked_fill_(self.mask.bool()[:num_tokens, :num_tokens], -torch.inf)\n",
    "        #Normalize, -inf turns into zeros\n",
    "        weights = torch.softmax(scores / keys.shape[-1]**0.5, dim= -1)\n",
    "        weights = self.dropout(weights)\n",
    "        #Compute context vector using weights and values\n",
    "        context = weights @ values\n",
    "        return context"
   ]
  },
  {
   "cell_type": "code",
   "execution_count": null,
   "id": "7a915b37",
   "metadata": {},
   "outputs": [],
   "source": [
    "#Instantiate a causal attention mechanism\n",
    "causal = CausalAttention(d_in=8, d_out=4, context_length= 4, dropout=0)"
   ]
  },
  {
   "cell_type": "code",
   "execution_count": null,
   "id": "747b63e4",
   "metadata": {},
   "outputs": [
    {
     "data": {
      "text/plain": [
       "tensor([[[ 0.1315, -0.0068, -0.5639, -1.1360],\n",
       "         [ 0.0835, -0.0535, -0.2836, -0.3171],\n",
       "         [-0.0576, -0.1803, -0.1704, -0.1978],\n",
       "         [-0.1245, -0.3059,  0.0398,  0.0690]],\n",
       "\n",
       "        [[ 0.1315, -0.0068, -0.5639, -1.1360],\n",
       "         [ 0.0835, -0.0535, -0.2836, -0.3171],\n",
       "         [-0.0576, -0.1803, -0.1704, -0.1978],\n",
       "         [-0.1245, -0.3059,  0.0398,  0.0690]]], grad_fn=<UnsafeViewBackward0>)"
      ]
     },
     "execution_count": 44,
     "metadata": {},
     "output_type": "execute_result"
    }
   ],
   "source": [
    "causal(batches)"
   ]
  },
  {
   "cell_type": "markdown",
   "id": "360252c5",
   "metadata": {},
   "source": [
    "### an example of how to transpose batches correctly"
   ]
  },
  {
   "cell_type": "code",
   "execution_count": null,
   "id": "50be6192",
   "metadata": {},
   "outputs": [],
   "source": [
    "W_q = nn.Linear(d_in, d_out, bias=False)\n",
    "W_k = nn.Linear(d_in, d_out, bias=False)\n",
    "W_v = nn.Linear(d_in, d_out, bias=False)"
   ]
  },
  {
   "cell_type": "code",
   "execution_count": null,
   "id": "d91ad457",
   "metadata": {},
   "outputs": [
    {
     "data": {
      "text/plain": [
       "tensor([[[ 0.0670,  0.2508, -0.4446, -0.4527, -0.3071,  1.5719],\n",
       "         [ 0.0319, -0.0357,  0.3191,  0.1176,  0.1593, -0.5529],\n",
       "         [-0.7918, -0.4235,  0.8298,  0.1500,  0.4593,  0.1080],\n",
       "         [-0.9608, -0.2707,  0.7450, -0.3383,  0.9127, -0.4438]],\n",
       "\n",
       "        [[ 0.0670,  0.2508, -0.4446, -0.4527, -0.3071,  1.5719],\n",
       "         [ 0.0319, -0.0357,  0.3191,  0.1176,  0.1593, -0.5529],\n",
       "         [-0.7918, -0.4235,  0.8298,  0.1500,  0.4593,  0.1080],\n",
       "         [-0.9608, -0.2707,  0.7450, -0.3383,  0.9127, -0.4438]]],\n",
       "       grad_fn=<UnsafeViewBackward0>)"
      ]
     },
     "execution_count": 46,
     "metadata": {},
     "output_type": "execute_result"
    }
   ],
   "source": [
    "queries = W_q(batches)\n",
    "queries"
   ]
  },
  {
   "cell_type": "code",
   "execution_count": null,
   "id": "8999fa2d",
   "metadata": {},
   "outputs": [
    {
     "data": {
      "text/plain": [
       "tensor([[[-0.4463, -0.8833, -0.9793,  0.5838, -0.1625,  1.1621],\n",
       "         [ 0.0057,  0.2712,  0.3750, -0.0250,  0.2763, -0.4203],\n",
       "         [ 0.2456, -0.4015,  0.7905, -0.4507,  0.7702, -0.4926],\n",
       "         [ 0.3099, -0.4570,  0.4964, -0.6015,  0.0530, -0.3242]],\n",
       "\n",
       "        [[-0.4463, -0.8833, -0.9793,  0.5838, -0.1625,  1.1621],\n",
       "         [ 0.0057,  0.2712,  0.3750, -0.0250,  0.2763, -0.4203],\n",
       "         [ 0.2456, -0.4015,  0.7905, -0.4507,  0.7702, -0.4926],\n",
       "         [ 0.3099, -0.4570,  0.4964, -0.6015,  0.0530, -0.3242]]],\n",
       "       grad_fn=<UnsafeViewBackward0>)"
      ]
     },
     "execution_count": 47,
     "metadata": {},
     "output_type": "execute_result"
    }
   ],
   "source": [
    "keys = W_k(batches)\n",
    "keys"
   ]
  },
  {
   "cell_type": "code",
   "execution_count": null,
   "id": "0b71b6e3",
   "metadata": {},
   "outputs": [
    {
     "data": {
      "text/plain": [
       "tensor([[[-0.4463,  0.0057,  0.2456,  0.3099],\n",
       "         [-0.8833,  0.2712, -0.4015, -0.4570],\n",
       "         [-0.9793,  0.3750,  0.7905,  0.4964],\n",
       "         [ 0.5838, -0.0250, -0.4507, -0.6015],\n",
       "         [-0.1625,  0.2763,  0.7702,  0.0530],\n",
       "         [ 1.1621, -0.4203, -0.4926, -0.3242]],\n",
       "\n",
       "        [[-0.4463,  0.0057,  0.2456,  0.3099],\n",
       "         [-0.8833,  0.2712, -0.4015, -0.4570],\n",
       "         [-0.9793,  0.3750,  0.7905,  0.4964],\n",
       "         [ 0.5838, -0.0250, -0.4507, -0.6015],\n",
       "         [-0.1625,  0.2763,  0.7702,  0.0530],\n",
       "         [ 1.1621, -0.4203, -0.4926, -0.3242]]], grad_fn=<TransposeBackward0>)"
      ]
     },
     "execution_count": 48,
     "metadata": {},
     "output_type": "execute_result"
    }
   ],
   "source": [
    "#This transposes without mixing up the batches\n",
    "keys.transpose(1,2)"
   ]
  },
  {
   "cell_type": "markdown",
   "id": "225971c5",
   "metadata": {},
   "source": [
    "##  Multi-Head Attention 1.0 (not efficient)"
   ]
  },
  {
   "cell_type": "code",
   "execution_count": null,
   "id": "d780bb76",
   "metadata": {},
   "outputs": [],
   "source": [
    "# Different attention heads (above is one attention head) pay attention to different things\n",
    "# A bunch of causal attention instances together\n",
    "\n",
    "class MultiHeadAttentionWrapper(nn.Module):\n",
    "\n",
    "    def __init__(self, d_in, d_out, context_length, dropout, num_heads, qkv_bias=False):\n",
    "        super().__init__()\n",
    "        self.heads = nn.ModuleList(\n",
    "            [CausalAttention(d_in, d_out, context_length, dropout, qkv_bias) \n",
    "             for _ in range(num_heads)]\n",
    "        )\n",
    "\n",
    "    def forward(self, x):\n",
    "        return torch.cat([head(x) for head in self.heads], dim=-1)\n"
   ]
  },
  {
   "cell_type": "code",
   "execution_count": null,
   "id": "1bfb43ad",
   "metadata": {},
   "outputs": [],
   "source": [
    "mha = MultiHeadAttention(d_in=8, d_out= 4, context_length= 4, dropout= 0, num_heads=3)"
   ]
  },
  {
   "cell_type": "code",
   "execution_count": null,
   "id": "2ce031b8",
   "metadata": {},
   "outputs": [
    {
     "data": {
      "text/plain": [
       "tensor([[[-0.2118, -0.1884, -0.3523, -0.1649,  0.2711,  0.0540, -0.1980,\n",
       "           0.5261, -0.2650,  0.0665,  0.7665, -0.0167,  0.4012, -0.2532,\n",
       "          -0.0161, -0.0168, -0.3253, -0.2619],\n",
       "         [-0.1033,  0.0851, -0.1470, -0.0452,  0.2015,  0.0220, -0.0505,\n",
       "           0.2666, -0.2875,  0.1883,  0.2228,  0.1200, -0.0183, -0.2629,\n",
       "           0.1170, -0.1338, -0.3425, -0.1860],\n",
       "         [-0.1038, -0.0539, -0.1180,  0.0188,  0.2275, -0.0454, -0.0199,\n",
       "           0.1025, -0.0832,  0.2892, -0.1231,  0.4481, -0.3181,  0.0932,\n",
       "           0.0616, -0.0186, -0.2017, -0.3157],\n",
       "         [-0.0654,  0.0051, -0.1084,  0.0742,  0.0912, -0.0942,  0.0107,\n",
       "           0.1322, -0.0120,  0.1973, -0.1906,  0.4651, -0.5089,  0.2139,\n",
       "           0.1281, -0.0158, -0.1028, -0.3456]],\n",
       "\n",
       "        [[-0.2118, -0.1884, -0.3523, -0.1649,  0.2711,  0.0540, -0.1980,\n",
       "           0.5261, -0.2650,  0.0665,  0.7665, -0.0167,  0.4012, -0.2532,\n",
       "          -0.0161, -0.0168, -0.3253, -0.2619],\n",
       "         [-0.1033,  0.0851, -0.1470, -0.0452,  0.2015,  0.0220, -0.0505,\n",
       "           0.2666, -0.2875,  0.1883,  0.2228,  0.1200, -0.0183, -0.2629,\n",
       "           0.1170, -0.1338, -0.3425, -0.1860],\n",
       "         [-0.1038, -0.0539, -0.1180,  0.0188,  0.2275, -0.0454, -0.0199,\n",
       "           0.1025, -0.0832,  0.2892, -0.1231,  0.4481, -0.3181,  0.0932,\n",
       "           0.0616, -0.0186, -0.2017, -0.3157],\n",
       "         [-0.0654,  0.0051, -0.1084,  0.0742,  0.0912, -0.0942,  0.0107,\n",
       "           0.1322, -0.0120,  0.1973, -0.1906,  0.4651, -0.5089,  0.2139,\n",
       "           0.1281, -0.0158, -0.1028, -0.3456]]], grad_fn=<ViewBackward0>)"
      ]
     },
     "execution_count": 78,
     "metadata": {},
     "output_type": "execute_result"
    }
   ],
   "source": [
    "mha_out = mha(batches)\n",
    "mha_out"
   ]
  },
  {
   "cell_type": "markdown",
   "id": "199a474a",
   "metadata": {},
   "source": [
    "## Real Multi-Head Attention Mechanism"
   ]
  },
  {
   "cell_type": "code",
   "execution_count": null,
   "id": "6c570e26",
   "metadata": {},
   "outputs": [],
   "source": [
    "# Much more efficient, only one matrix multiplicaiton step (all multiplication for all attention heads once)\n",
    "\n",
    "class MultiHeadAttention(nn.Module):\n",
    "    def __init__(self, d_in, d_out, context_length, dropout, num_heads, qkv_bias=False):\n",
    "        super().__init__()\n",
    "        assert (d_out % num_heads == 0), \\\n",
    "            \"d_out must be divisible by num_heads\"\n",
    "\n",
    "        self.d_out = d_out\n",
    "        self.num_heads = num_heads\n",
    "        self.head_dim = d_out // num_heads # Reduce the projection dim to match desired output dim\n",
    "\n",
    "        self.W_query = nn.Linear(d_in, d_out, bias=qkv_bias)\n",
    "        self.W_key = nn.Linear(d_in, d_out, bias=qkv_bias)\n",
    "        self.W_value = nn.Linear(d_in, d_out, bias=qkv_bias)\n",
    "        self.out_proj = nn.Linear(d_out, d_out)  # Linear layer to combine head outputs\n",
    "        self.dropout = nn.Dropout(dropout)\n",
    "        self.register_buffer(\n",
    "            \"mask\",\n",
    "            torch.triu(torch.ones(context_length, context_length),\n",
    "                       diagonal=1)\n",
    "        )\n",
    "\n",
    "    def forward(self, x):\n",
    "        b, num_tokens, d_in = x.shape\n",
    "        # As in `CausalAttention`, for inputs where `num_tokens` exceeds `context_length`, \n",
    "        # this will result in errors in the mask creation further below. \n",
    "        # In practice, this is not a problem since the LLM (chapters 4-7) ensures that inputs  \n",
    "        # do not exceed `context_length` before reaching this forward method.\n",
    "\n",
    "        keys = self.W_key(x) # Shape: (b, num_tokens, d_out)\n",
    "        queries = self.W_query(x)\n",
    "        values = self.W_value(x)\n",
    "\n",
    "        # We implicitly split the matrix by adding a `num_heads` dimension\n",
    "        # Unroll last dim: (b, num_tokens, d_out) -> (b, num_tokens, num_heads, head_dim)\n",
    "        keys = keys.view(b, num_tokens, self.num_heads, self.head_dim) \n",
    "        values = values.view(b, num_tokens, self.num_heads, self.head_dim)\n",
    "        queries = queries.view(b, num_tokens, self.num_heads, self.head_dim)\n",
    "\n",
    "        # Transpose: (b, num_tokens, num_heads, head_dim) -> (b, num_heads, num_tokens, head_dim)\n",
    "        keys = keys.transpose(1, 2)\n",
    "        queries = queries.transpose(1, 2)\n",
    "        values = values.transpose(1, 2)\n",
    "\n",
    "        # Compute scaled dot-product attention (aka self-attention) with a causal mask\n",
    "        attn_scores = queries @ keys.transpose(2, 3)  # Dot product for each head\n",
    "\n",
    "        # Original mask truncated to the number of tokens and converted to boolean\n",
    "        mask_bool = self.mask.bool()[:num_tokens, :num_tokens]\n",
    "\n",
    "        # Use the mask to fill attention scores\n",
    "        attn_scores.masked_fill_(mask_bool, -torch.inf)\n",
    "        \n",
    "        attn_weights = torch.softmax(attn_scores / keys.shape[-1]**0.5, dim=-1)\n",
    "        attn_weights = self.dropout(attn_weights)\n",
    "\n",
    "        # Shape: (b, num_tokens, num_heads, head_dim)\n",
    "        context_vec = (attn_weights @ values).transpose(1, 2) \n",
    "        \n",
    "        # Combine heads, where self.d_out = self.num_heads * self.head_dim\n",
    "        context_vec = context_vec.contiguous().view(b, num_tokens, self.d_out)\n",
    "        context_vec = self.out_proj(context_vec) # optional projection\n",
    "\n",
    "        return context_vec\n"
   ]
  },
  {
   "cell_type": "code",
   "execution_count": null,
   "id": "de6b0fe1",
   "metadata": {},
   "outputs": [
    {
     "data": {
      "text/plain": [
       "torch.Size([2, 4, 8])"
      ]
     },
     "execution_count": 71,
     "metadata": {},
     "output_type": "execute_result"
    }
   ],
   "source": [
    "batches.shape"
   ]
  },
  {
   "cell_type": "code",
   "execution_count": null,
   "id": "472aa8be",
   "metadata": {},
   "outputs": [
    {
     "data": {
      "text/plain": [
       "tensor([[[ 0.3476,  1.0008,  1.4503,  0.3622,  0.7486, -0.0103, -0.4972,\n",
       "          -2.9958],\n",
       "         [-0.4068, -0.5580, -0.1595, -0.7773, -0.5482, -0.2031,  0.2543,\n",
       "           1.1040],\n",
       "         [-0.8071,  0.7434,  0.9972, -0.2365,  0.6343,  0.2737, -0.2480,\n",
       "           2.2735],\n",
       "         [ 0.8415, -1.1536,  1.2855,  0.5882,  0.3148, -0.2748, -1.1443,\n",
       "           2.0168]],\n",
       "\n",
       "        [[ 0.3476,  1.0008,  1.4503,  0.3622,  0.7486, -0.0103, -0.4972,\n",
       "          -2.9958],\n",
       "         [-0.4068, -0.5580, -0.1595, -0.7773, -0.5482, -0.2031,  0.2543,\n",
       "           1.1040],\n",
       "         [-0.8071,  0.7434,  0.9972, -0.2365,  0.6343,  0.2737, -0.2480,\n",
       "           2.2735],\n",
       "         [ 0.8415, -1.1536,  1.2855,  0.5882,  0.3148, -0.2748, -1.1443,\n",
       "           2.0168]]])"
      ]
     },
     "execution_count": 72,
     "metadata": {},
     "output_type": "execute_result"
    }
   ],
   "source": [
    "batches"
   ]
  },
  {
   "cell_type": "code",
   "execution_count": null,
   "id": "6bb0391a",
   "metadata": {},
   "outputs": [
    {
     "data": {
      "text/plain": [
       "tensor([[[[ 0.3476,  1.0008,  1.4503,  0.3622],\n",
       "          [ 0.7486, -0.0103, -0.4972, -2.9958]],\n",
       "\n",
       "         [[-0.4068, -0.5580, -0.1595, -0.7773],\n",
       "          [-0.5482, -0.2031,  0.2543,  1.1040]],\n",
       "\n",
       "         [[-0.8071,  0.7434,  0.9972, -0.2365],\n",
       "          [ 0.6343,  0.2737, -0.2480,  2.2735]],\n",
       "\n",
       "         [[ 0.8415, -1.1536,  1.2855,  0.5882],\n",
       "          [ 0.3148, -0.2748, -1.1443,  2.0168]]],\n",
       "\n",
       "\n",
       "        [[[ 0.3476,  1.0008,  1.4503,  0.3622],\n",
       "          [ 0.7486, -0.0103, -0.4972, -2.9958]],\n",
       "\n",
       "         [[-0.4068, -0.5580, -0.1595, -0.7773],\n",
       "          [-0.5482, -0.2031,  0.2543,  1.1040]],\n",
       "\n",
       "         [[-0.8071,  0.7434,  0.9972, -0.2365],\n",
       "          [ 0.6343,  0.2737, -0.2480,  2.2735]],\n",
       "\n",
       "         [[ 0.8415, -1.1536,  1.2855,  0.5882],\n",
       "          [ 0.3148, -0.2748, -1.1443,  2.0168]]]])"
      ]
     },
     "execution_count": 73,
     "metadata": {},
     "output_type": "execute_result"
    }
   ],
   "source": [
    "#View reshapes a tensor last two dimensions should multiply to be the last dimension of OG\n",
    "batches.view(2,4,2,4)"
   ]
  },
  {
   "cell_type": "code",
   "execution_count": null,
   "id": "d48f1efc",
   "metadata": {},
   "outputs": [],
   "source": [
    "mha = MultiHeadAttention(d_in=8, d_out= 6, context_length= 4, dropout= 0, num_heads= 3)"
   ]
  },
  {
   "cell_type": "code",
   "execution_count": null,
   "id": "a8c8831a",
   "metadata": {},
   "outputs": [
    {
     "data": {
      "text/plain": [
       "tensor([[[-0.2118, -0.1884, -0.3523, -0.1649,  0.2711,  0.0540, -0.1980,\n",
       "           0.5261, -0.2650,  0.0665,  0.7665, -0.0167,  0.4012, -0.2532,\n",
       "          -0.0161, -0.0168, -0.3253, -0.2619],\n",
       "         [-0.1033,  0.0851, -0.1470, -0.0452,  0.2015,  0.0220, -0.0505,\n",
       "           0.2666, -0.2875,  0.1883,  0.2228,  0.1200, -0.0183, -0.2629,\n",
       "           0.1170, -0.1338, -0.3425, -0.1860],\n",
       "         [-0.1038, -0.0539, -0.1180,  0.0188,  0.2275, -0.0454, -0.0199,\n",
       "           0.1025, -0.0832,  0.2892, -0.1231,  0.4481, -0.3181,  0.0932,\n",
       "           0.0616, -0.0186, -0.2017, -0.3157],\n",
       "         [-0.0654,  0.0051, -0.1084,  0.0742,  0.0912, -0.0942,  0.0107,\n",
       "           0.1322, -0.0120,  0.1973, -0.1906,  0.4651, -0.5089,  0.2139,\n",
       "           0.1281, -0.0158, -0.1028, -0.3456]],\n",
       "\n",
       "        [[-0.2118, -0.1884, -0.3523, -0.1649,  0.2711,  0.0540, -0.1980,\n",
       "           0.5261, -0.2650,  0.0665,  0.7665, -0.0167,  0.4012, -0.2532,\n",
       "          -0.0161, -0.0168, -0.3253, -0.2619],\n",
       "         [-0.1033,  0.0851, -0.1470, -0.0452,  0.2015,  0.0220, -0.0505,\n",
       "           0.2666, -0.2875,  0.1883,  0.2228,  0.1200, -0.0183, -0.2629,\n",
       "           0.1170, -0.1338, -0.3425, -0.1860],\n",
       "         [-0.1038, -0.0539, -0.1180,  0.0188,  0.2275, -0.0454, -0.0199,\n",
       "           0.1025, -0.0832,  0.2892, -0.1231,  0.4481, -0.3181,  0.0932,\n",
       "           0.0616, -0.0186, -0.2017, -0.3157],\n",
       "         [-0.0654,  0.0051, -0.1084,  0.0742,  0.0912, -0.0942,  0.0107,\n",
       "           0.1322, -0.0120,  0.1973, -0.1906,  0.4651, -0.5089,  0.2139,\n",
       "           0.1281, -0.0158, -0.1028, -0.3456]]], grad_fn=<ViewBackward0>)"
      ]
     },
     "execution_count": 76,
     "metadata": {},
     "output_type": "execute_result"
    }
   ],
   "source": [
    "mha_out = mha(batches)\n",
    "mha_out"
   ]
  }
 ],
 "metadata": {
  "kernelspec": {
   "display_name": "Python 3",
   "language": "python",
   "name": "python3"
  },
  "language_info": {
   "codemirror_mode": {
    "name": "ipython",
    "version": 3
   },
   "file_extension": ".py",
   "mimetype": "text/x-python",
   "name": "python",
   "nbconvert_exporter": "python",
   "pygments_lexer": "ipython3",
   "version": "3.13.1"
  }
 },
 "nbformat": 4,
 "nbformat_minor": 5
}
