{
 "cells": [
  {
   "cell_type": "markdown",
   "id": "3880b57c",
   "metadata": {},
   "source": [
    "## Attention With Trainable Weights"
   ]
  },
  {
   "cell_type": "code",
   "execution_count": 2,
   "id": "e78633be",
   "metadata": {},
   "outputs": [],
   "source": [
    "import torch"
   ]
  },
  {
   "cell_type": "code",
   "execution_count": 3,
   "id": "eb5b0b49",
   "metadata": {},
   "outputs": [],
   "source": [
    "inputs = torch.nn.Embedding(4,8)"
   ]
  },
  {
   "cell_type": "code",
   "execution_count": 4,
   "id": "6c2fdbe2",
   "metadata": {},
   "outputs": [
    {
     "data": {
      "text/plain": [
       "tensor([[ 0.0239, -1.7226,  0.7044,  0.4385,  0.4857,  0.1602,  1.4788,  0.3629],\n",
       "        [ 1.2462,  0.1250,  0.3095,  0.2417,  0.2231,  0.7651,  0.7462, -1.3258],\n",
       "        [-1.0885,  0.6456,  0.3154, -0.0432,  0.0079, -0.0806,  0.5046,  1.6984],\n",
       "        [-2.6347,  0.2324,  0.0873, -1.0514, -0.3753,  1.2293, -0.2159,  0.1539]])"
      ]
     },
     "execution_count": 4,
     "metadata": {},
     "output_type": "execute_result"
    }
   ],
   "source": [
    "inputs = inputs.weight.data\n",
    "inputs"
   ]
  },
  {
   "cell_type": "code",
   "execution_count": 5,
   "id": "fb047287",
   "metadata": {},
   "outputs": [],
   "source": [
    "# Set dimensions\n",
    "d_in = 8\n",
    "d_out = 6\n",
    "# Create Weight Matricies query, key, value with random entries\n",
    "W_q = torch.nn.Parameter(torch.rand(d_in, d_out), requires_grad=False)\n",
    "W_k = torch.nn.Parameter(torch.rand(d_in, d_out), requires_grad=False)\n",
    "W_v = torch.nn.Parameter(torch.rand(d_in, d_out), requires_grad=False)"
   ]
  },
  {
   "cell_type": "code",
   "execution_count": 6,
   "id": "cbbaa6f5",
   "metadata": {},
   "outputs": [
    {
     "data": {
      "text/plain": [
       "tensor([ 0.6138,  1.2582,  0.9669,  1.5001,  0.7241, -0.1785])"
      ]
     },
     "execution_count": 6,
     "metadata": {},
     "output_type": "execute_result"
    }
   ],
   "source": [
    "#choose an input vector (we're using 2) and transform it into our query vector using using W_q\n",
    "query = inputs[2] @ W_q\n",
    "query\n"
   ]
  },
  {
   "cell_type": "code",
   "execution_count": 7,
   "id": "37c209fa",
   "metadata": {},
   "outputs": [
    {
     "name": "stdout",
     "output_type": "stream",
     "text": [
      "tensor([[ 1.4578,  1.0081,  1.3433,  1.8586,  1.5021,  1.6440],\n",
      "        [ 2.1286,  1.1845,  1.6787,  1.3754,  0.4569,  0.6616],\n",
      "        [ 0.6965,  2.1634,  0.3031,  1.0812,  1.4640,  0.9794],\n",
      "        [-3.0087, -1.3744, -2.3723, -0.4954, -0.6695, -2.3872]])\n",
      "tensor([[ 2.1312,  0.9543,  0.4384,  1.1125,  0.6249,  0.6792],\n",
      "        [ 1.3873,  0.9746,  1.7408,  1.3421,  1.8992, -0.1012],\n",
      "        [ 1.0119,  1.7650,  0.8197,  0.4706,  0.0826,  1.2183],\n",
      "        [-0.4323, -0.5147, -0.0686, -1.1670, -2.1212, -1.1722]])\n"
     ]
    }
   ],
   "source": [
    "#Calculate keys and values matrices\n",
    "keys = inputs @ W_k\n",
    "values = inputs @ W_v\n",
    "print(keys)\n",
    "print(values)"
   ]
  },
  {
   "cell_type": "code",
   "execution_count": 8,
   "id": "ff2cbbaa",
   "metadata": {},
   "outputs": [
    {
     "data": {
      "text/plain": [
       "tensor([ 7.0442,  6.6958,  5.9496, -6.6715])"
      ]
     },
     "execution_count": 8,
     "metadata": {},
     "output_type": "execute_result"
    }
   ],
   "source": [
    "attention_scores = query @ keys.T\n",
    "attention_scores"
   ]
  },
  {
   "cell_type": "code",
   "execution_count": 9,
   "id": "1e3eb9bc",
   "metadata": {},
   "outputs": [
    {
     "data": {
      "text/plain": [
       "tensor([0.3983, 0.3455, 0.2548, 0.0015])"
      ]
     },
     "execution_count": 9,
     "metadata": {},
     "output_type": "execute_result"
    }
   ],
   "source": [
    "#normalize the scores to get the weights\n",
    "# denominator is just because that's what the researchers figured out worked best for training \n",
    "attention_weights = torch.softmax(attention_scores / keys.shape[-1]**0.5, dim= -1)\n",
    "attention_weights"
   ]
  },
  {
   "cell_type": "code",
   "execution_count": 10,
   "id": "b59bf510",
   "metadata": {},
   "outputs": [
    {
     "data": {
      "text/plain": [
       "tensor(1.0000)"
      ]
     },
     "execution_count": 10,
     "metadata": {},
     "output_type": "execute_result"
    }
   ],
   "source": [
    "#Make sure you did it right\n",
    "attention_weights.sum()"
   ]
  },
  {
   "cell_type": "code",
   "execution_count": 11,
   "id": "013b4dd5",
   "metadata": {},
   "outputs": [
    {
     "data": {
      "text/plain": [
       "tensor([1.5853, 1.1657, 0.9847, 1.0249, 0.9229, 0.5442])"
      ]
     },
     "execution_count": 11,
     "metadata": {},
     "output_type": "execute_result"
    }
   ],
   "source": [
    "# make the context vector\n",
    "context_vector = attention_weights @ values\n",
    "context_vector"
   ]
  },
  {
   "cell_type": "markdown",
   "id": "851252b0",
   "metadata": {},
   "source": [
    "## Making the Simple Attention Class Using Parameter "
   ]
  },
  {
   "cell_type": "code",
   "execution_count": 12,
   "id": "18e31084",
   "metadata": {},
   "outputs": [],
   "source": [
    "import torch.nn as nn"
   ]
  },
  {
   "cell_type": "code",
   "execution_count": 13,
   "id": "5e74bc98",
   "metadata": {},
   "outputs": [],
   "source": [
    "#Create a simple attention class v1\n",
    "class SimpleAttention(nn.Module):\n",
    "    #Constructor, initialize those matrix dimensions\n",
    "    def __init__(self, d_in, d_out):\n",
    "        super().__init__()\n",
    "        #Create weight matrices\n",
    "        self.W_q = nn.Parameter(torch.rand(d_in, d_out), requires_grad=False)\n",
    "        self.W_k = nn.Parameter(torch.rand(d_in, d_out), requires_grad=False)\n",
    "        self.W_v = nn.Parameter(torch.rand(d_in, d_out), requires_grad=False)\n",
    "\n",
    "    #   x = embedding vectors (inputs)\n",
    "    def forward(self,x):\n",
    "        #Make the queries, keys and values\n",
    "        queries = x @ self.W_q\n",
    "        keys = x @ self.W_k\n",
    "        values = x @ self.W_v\n",
    "        #Compute scores, then normalize into weights\n",
    "        scores = queries @ keys.T\n",
    "        weights = torch.softmax(scores / keys.shape[-1]**0.5, dim= -1)\n",
    "        #Compute context vector using weights and values\n",
    "        context = weights @ values\n",
    "        return context\n"
   ]
  },
  {
   "cell_type": "code",
   "execution_count": 14,
   "id": "8f7212fe",
   "metadata": {},
   "outputs": [],
   "source": [
    "#Using the class example\n",
    "#instatiate an instance\n",
    "simple = SimpleAttention(d_in = 8, d_out = 6)\n"
   ]
  },
  {
   "cell_type": "code",
   "execution_count": 15,
   "id": "3314d6bf",
   "metadata": {},
   "outputs": [
    {
     "data": {
      "text/plain": [
       "Parameter containing:\n",
       "tensor([[0.5559, 0.0741, 0.6156, 0.2810, 0.7015, 0.6712],\n",
       "        [0.7562, 0.4573, 0.4618, 0.2484, 0.4273, 0.4339],\n",
       "        [0.7648, 0.4864, 0.6730, 0.1632, 0.9166, 0.0370],\n",
       "        [0.7251, 0.4688, 0.3398, 0.2526, 0.0536, 0.2267],\n",
       "        [0.0152, 0.5302, 0.5565, 0.7878, 0.8187, 0.4568],\n",
       "        [0.3125, 0.1330, 0.2019, 0.5791, 0.4915, 0.9064],\n",
       "        [0.3664, 0.3168, 0.8228, 0.7732, 0.4664, 0.4628],\n",
       "        [0.8123, 0.8187, 0.6959, 0.5389, 0.5679, 0.6873]])"
      ]
     },
     "execution_count": 15,
     "metadata": {},
     "output_type": "execute_result"
    }
   ],
   "source": [
    "#It has attributes!\n",
    "simple.W_k"
   ]
  },
  {
   "cell_type": "code",
   "execution_count": 16,
   "id": "2bddbb82",
   "metadata": {},
   "outputs": [
    {
     "data": {
      "text/plain": [
       "tensor([[ 0.8045,  1.3429,  0.3836,  1.1769,  1.4100,  1.0680],\n",
       "        [ 0.7073,  1.4433,  0.2528,  1.2199,  1.4084,  1.0402],\n",
       "        [ 0.6566,  1.4735,  0.1903,  1.2191,  1.3733,  0.9962],\n",
       "        [-0.8812, -2.4792, -0.0976, -1.3198,  0.2601, -1.2102]])"
      ]
     },
     "execution_count": 16,
     "metadata": {},
     "output_type": "execute_result"
    }
   ],
   "source": [
    "#Class returns the context vector\n",
    "context_vectors = simple(inputs)\n",
    "context_vectors"
   ]
  },
  {
   "cell_type": "markdown",
   "id": "8c9fcedc",
   "metadata": {},
   "source": [
    "## Making the Simple Attention Class Again using nn.Linear"
   ]
  },
  {
   "cell_type": "code",
   "execution_count": 30,
   "id": "849378f0",
   "metadata": {},
   "outputs": [],
   "source": [
    "#Create a simple attention class v2\n",
    "#Using nn.Linear to be more efficient\n",
    "\n",
    "class SimpleAttention(nn.Module):\n",
    "    #Constructor, initialize those matrix dimensions\n",
    "    def __init__(self, d_in, d_out):\n",
    "        super().__init__()\n",
    "        #Create weight matrices\n",
    "        self.W_q = nn.Linear(d_in, d_out, bias=False)\n",
    "        self.W_k = nn.Linear(d_in, d_out, bias=False)\n",
    "        self.W_v = nn.Linear(d_in, d_out, bias=False)\n",
    "\n",
    "    #   x = embedding vectors (inputs)\n",
    "    def forward(self,x):\n",
    "        #Make the queries, keys and values\n",
    "        #Still just muktiplying the matrices\n",
    "        queries = self.W_q(x)\n",
    "        keys = self.W_k(x)\n",
    "        values = self.W_v (x)\n",
    "        #Compute scores, then normalize into weights\n",
    "        scores = queries @ keys.T\n",
    "        weights = torch.softmax(scores / keys.shape[-1]**0.5, dim= -1)\n",
    "        #Compute context vector using weights and values\n",
    "        context = weights @ values\n",
    "        return context\n"
   ]
  },
  {
   "cell_type": "code",
   "execution_count": 31,
   "id": "66b88466",
   "metadata": {},
   "outputs": [],
   "source": [
    "simple = SimpleAttention(d_in = 8, d_out = 6)"
   ]
  },
  {
   "cell_type": "code",
   "execution_count": 32,
   "id": "dc53ab56",
   "metadata": {},
   "outputs": [
    {
     "data": {
      "text/plain": [
       "tensor([[ 0.3095,  0.2706, -0.0924, -0.0816,  0.5705,  0.0940],\n",
       "        [ 0.2962,  0.2670, -0.1222, -0.1218,  0.5529,  0.1088],\n",
       "        [ 0.3377,  0.2674, -0.0573, -0.0208,  0.5803,  0.0515],\n",
       "        [ 0.3687,  0.3480, -0.0360, -0.0423,  0.6836,  0.0205]],\n",
       "       grad_fn=<MmBackward0>)"
      ]
     },
     "execution_count": 32,
     "metadata": {},
     "output_type": "execute_result"
    }
   ],
   "source": [
    "context_vectors = simple(inputs)\n",
    "context_vectors"
   ]
  },
  {
   "cell_type": "code",
   "execution_count": 28,
   "id": "fa90eed7",
   "metadata": {},
   "outputs": [],
   "source": [
    "# the problem here is that each context vector uses information from ALL of the embedding vectors\n",
    "#In practice, we should only use information about preceeding vectors\n",
    "# To do so, implement causal attention AKA masked attention"
   ]
  },
  {
   "cell_type": "markdown",
   "id": "cbf49ae0",
   "metadata": {},
   "source": [
    "### Simple Masked Attention (1.0)"
   ]
  },
  {
   "cell_type": "code",
   "execution_count": null,
   "id": "7a84f031",
   "metadata": {},
   "outputs": [
    {
     "data": {
      "text/plain": [
       "tensor([[0.2237, 0.2290, 0.2012, 0.3461],\n",
       "        [0.2439, 0.3024, 0.1850, 0.2687],\n",
       "        [0.1952, 0.1441, 0.3208, 0.3399],\n",
       "        [0.2289, 0.2066, 0.3235, 0.2410]], grad_fn=<SoftmaxBackward0>)"
      ]
     },
     "execution_count": 29,
     "metadata": {},
     "output_type": "execute_result"
    }
   ],
   "source": [
    "#Hack to get some weights\n",
    "#weights = simple(inputs)\n",
    "weights"
   ]
  },
  {
   "cell_type": "code",
   "execution_count": 51,
   "id": "4c1c06c4",
   "metadata": {},
   "outputs": [
    {
     "data": {
      "text/plain": [
       "tensor([1.0000, 1.0000, 1.0000, 1.0000], grad_fn=<SumBackward1>)"
      ]
     },
     "execution_count": 51,
     "metadata": {},
     "output_type": "execute_result"
    }
   ],
   "source": [
    "#Note that these are already normalized\n",
    "weights.sum(dim=-1)"
   ]
  },
  {
   "cell_type": "code",
   "execution_count": null,
   "id": "c0fa77ae",
   "metadata": {},
   "outputs": [
    {
     "data": {
      "text/plain": [
       "tensor([[1., 0., 0., 0.],\n",
       "        [1., 1., 0., 0.],\n",
       "        [1., 1., 1., 0.],\n",
       "        [1., 1., 1., 1.]])"
      ]
     },
     "execution_count": 52,
     "metadata": {},
     "output_type": "execute_result"
    }
   ],
   "source": [
    "#tril returns the lower triangular parts of the matrix (and the diagonal), turns the rest to zero\n",
    "simple_mask = torch.tril(torch.ones(weights.shape[0], weights.shape[0]))\n",
    "simple_mask"
   ]
  },
  {
   "cell_type": "code",
   "execution_count": 53,
   "id": "43678b4b",
   "metadata": {},
   "outputs": [
    {
     "data": {
      "text/plain": [
       "tensor([[0.2237, 0.0000, 0.0000, 0.0000],\n",
       "        [0.2439, 0.3024, 0.0000, 0.0000],\n",
       "        [0.1952, 0.1441, 0.3208, 0.0000],\n",
       "        [0.2289, 0.2066, 0.3235, 0.2410]], grad_fn=<MulBackward0>)"
      ]
     },
     "execution_count": 53,
     "metadata": {},
     "output_type": "execute_result"
    }
   ],
   "source": [
    "# * is a cell by cell product\n",
    "masked_weights = weights*simple_mask\n",
    "masked_weights"
   ]
  },
  {
   "cell_type": "code",
   "execution_count": 54,
   "id": "efbd431a",
   "metadata": {},
   "outputs": [
    {
     "data": {
      "text/plain": [
       "tensor([0.2237, 0.5463, 0.6601, 1.0000], grad_fn=<SumBackward1>)"
      ]
     },
     "execution_count": 54,
     "metadata": {},
     "output_type": "execute_result"
    }
   ],
   "source": [
    "#no longer normalized...\n",
    "masked_weights.sum(dim=-1)"
   ]
  },
  {
   "cell_type": "code",
   "execution_count": 55,
   "id": "f16722fd",
   "metadata": {},
   "outputs": [
    {
     "data": {
      "text/plain": [
       "tensor([[0.2237],\n",
       "        [0.5463],\n",
       "        [0.6601],\n",
       "        [1.0000]], grad_fn=<SumBackward1>)"
      ]
     },
     "execution_count": 55,
     "metadata": {},
     "output_type": "execute_result"
    }
   ],
   "source": [
    "#Need to normalize masked weights\n",
    "row_sums = masked_weights.sum(dim=-1, keepdim=True)\n",
    "row_sums"
   ]
  },
  {
   "cell_type": "code",
   "execution_count": null,
   "id": "db15db85",
   "metadata": {},
   "outputs": [
    {
     "data": {
      "text/plain": [
       "tensor([1.0000, 1.0000, 1.0000, 1.0000], grad_fn=<SumBackward1>)"
      ]
     },
     "execution_count": 56,
     "metadata": {},
     "output_type": "execute_result"
    }
   ],
   "source": [
    "#Dividing by row sums normalizes\n",
    "masked_weights = masked_weights / row_sums\n",
    "masked_weights.sum(dim=-1)"
   ]
  },
  {
   "cell_type": "markdown",
   "id": "6180b3bf",
   "metadata": {},
   "source": [
    "### More Efficient Masking Method (1.1)"
   ]
  },
  {
   "cell_type": "code",
   "execution_count": 61,
   "id": "1a44b47c",
   "metadata": {},
   "outputs": [
    {
     "data": {
      "text/plain": [
       "tensor([[0., 1., 1., 1.],\n",
       "        [0., 0., 1., 1.],\n",
       "        [0., 0., 0., 1.],\n",
       "        [0., 0., 0., 0.]])"
      ]
     },
     "execution_count": 61,
     "metadata": {},
     "output_type": "execute_result"
    }
   ],
   "source": [
    "# Masking method 2\n",
    "# triu() returns the upper triangular part of the matrix, puts zeros on the diagonal\n",
    "mask = torch.triu(torch.ones(weights.shape[0], weights.shape[0]), diagonal=1)\n",
    "mask"
   ]
  },
  {
   "cell_type": "code",
   "execution_count": 62,
   "id": "0925012a",
   "metadata": {},
   "outputs": [
    {
     "data": {
      "text/plain": [
       "tensor([[False,  True,  True,  True],\n",
       "        [False, False,  True,  True],\n",
       "        [False, False, False,  True],\n",
       "        [False, False, False, False]])"
      ]
     },
     "execution_count": 62,
     "metadata": {},
     "output_type": "execute_result"
    }
   ],
   "source": [
    "mask.bool()"
   ]
  },
  {
   "cell_type": "code",
   "execution_count": 63,
   "id": "035acb32",
   "metadata": {},
   "outputs": [
    {
     "data": {
      "text/plain": [
       "tensor([[0.2237, 0.2290, 0.2012, 0.3461],\n",
       "        [0.2439, 0.3024, 0.1850, 0.2687],\n",
       "        [0.1952, 0.1441, 0.3208, 0.3399],\n",
       "        [0.2289, 0.2066, 0.3235, 0.2410]], grad_fn=<SoftmaxBackward0>)"
      ]
     },
     "execution_count": 63,
     "metadata": {},
     "output_type": "execute_result"
    }
   ],
   "source": [
    "weights"
   ]
  },
  {
   "cell_type": "code",
   "execution_count": null,
   "id": "fb57a8eb",
   "metadata": {},
   "outputs": [
    {
     "data": {
      "text/plain": [
       "tensor([[0.2237,   -inf,   -inf,   -inf],\n",
       "        [0.2439, 0.3024,   -inf,   -inf],\n",
       "        [0.1952, 0.1441, 0.3208,   -inf],\n",
       "        [0.2289, 0.2066, 0.3235, 0.2410]], grad_fn=<MaskedFillBackward0>)"
      ]
     },
     "execution_count": 65,
     "metadata": {},
     "output_type": "execute_result"
    }
   ],
   "source": [
    "#Need a matrix of true/false to fill in, fills the true spots with the given value (-inf)\n",
    "weights = weights.masked_fill(mask.bool(), -torch.inf, )\n",
    "weights"
   ]
  },
  {
   "cell_type": "code",
   "execution_count": 67,
   "id": "68c54035",
   "metadata": {},
   "outputs": [
    {
     "data": {
      "text/plain": [
       "tensor([[1.0000, 0.0000, 0.0000, 0.0000],\n",
       "        [0.4854, 0.5146, 0.0000, 0.0000],\n",
       "        [0.3242, 0.3081, 0.3677, 0.0000],\n",
       "        [0.2445, 0.2391, 0.2688, 0.2475]], grad_fn=<SoftmaxBackward0>)"
      ]
     },
     "execution_count": 67,
     "metadata": {},
     "output_type": "execute_result"
    }
   ],
   "source": [
    "masked_weights = torch.softmax(weights, dim=-1)\n",
    "masked_weights"
   ]
  },
  {
   "cell_type": "markdown",
   "id": "8834b832",
   "metadata": {},
   "source": [
    "### Dropout Explanation"
   ]
  },
  {
   "cell_type": "code",
   "execution_count": null,
   "id": "0489bbab",
   "metadata": {},
   "outputs": [],
   "source": [
    "## Dropout helps us avoid overfitting during training\n",
    "# Randomly and uniformly ignoring certain data points\n",
    "# we must set a dropout rate\n",
    "dropout = nn.Dropout(0.5)"
   ]
  },
  {
   "cell_type": "code",
   "execution_count": null,
   "id": "b9cdd322",
   "metadata": {},
   "outputs": [
    {
     "data": {
      "text/plain": [
       "tensor([[0.0000, 0.0000, 0.0000, 0.0000],\n",
       "        [0.0000, 1.0292, 0.0000, 0.0000],\n",
       "        [0.6485, 0.0000, 0.0000, 0.0000],\n",
       "        [0.0000, 0.4783, 0.0000, 0.0000]], grad_fn=<MulBackward0>)"
      ]
     },
     "execution_count": 75,
     "metadata": {},
     "output_type": "execute_result"
    }
   ],
   "source": [
    "# It removes around half of the data points ...\n",
    "dropout(masked_weights)"
   ]
  },
  {
   "cell_type": "markdown",
   "id": "65b13733",
   "metadata": {},
   "source": [
    "## Causal Attenion Class"
   ]
  },
  {
   "cell_type": "code",
   "execution_count": 69,
   "id": "7e668c92",
   "metadata": {},
   "outputs": [],
   "source": [
    "# we need to be able to give our LLM batches of input\n",
    "# For example:\n",
    "# Concatenates two tensors\n",
    "batches = torch.stack((inputs, inputs), dim=0)"
   ]
  },
  {
   "cell_type": "code",
   "execution_count": 70,
   "id": "42b59aab",
   "metadata": {},
   "outputs": [
    {
     "data": {
      "text/plain": [
       "tensor([[[ 0.0239, -1.7226,  0.7044,  0.4385,  0.4857,  0.1602,  1.4788,\n",
       "           0.3629],\n",
       "         [ 1.2462,  0.1250,  0.3095,  0.2417,  0.2231,  0.7651,  0.7462,\n",
       "          -1.3258],\n",
       "         [-1.0885,  0.6456,  0.3154, -0.0432,  0.0079, -0.0806,  0.5046,\n",
       "           1.6984],\n",
       "         [-2.6347,  0.2324,  0.0873, -1.0514, -0.3753,  1.2293, -0.2159,\n",
       "           0.1539]],\n",
       "\n",
       "        [[ 0.0239, -1.7226,  0.7044,  0.4385,  0.4857,  0.1602,  1.4788,\n",
       "           0.3629],\n",
       "         [ 1.2462,  0.1250,  0.3095,  0.2417,  0.2231,  0.7651,  0.7462,\n",
       "          -1.3258],\n",
       "         [-1.0885,  0.6456,  0.3154, -0.0432,  0.0079, -0.0806,  0.5046,\n",
       "           1.6984],\n",
       "         [-2.6347,  0.2324,  0.0873, -1.0514, -0.3753,  1.2293, -0.2159,\n",
       "           0.1539]]])"
      ]
     },
     "execution_count": 70,
     "metadata": {},
     "output_type": "execute_result"
    }
   ],
   "source": [
    "batches"
   ]
  },
  {
   "cell_type": "code",
   "execution_count": null,
   "id": "02db0023",
   "metadata": {},
   "outputs": [],
   "source": [
    "#this class needs to handle batches of input\n",
    "class CausalAttention(nn.module):\n",
    "    def __init__(self, d_in, d_out, context_length, dropout, qkv_bias=False):\n",
    "        super().__init__()\n",
    "        #Create weight matrices\n",
    "        self.W_q = nn.Linear(d_in, d_out, bias=False)\n",
    "        self.W_k = nn.Linear(d_in, d_out, bias=False)\n",
    "        self.W_v = nn.Linear(d_in, d_out, bias=False)\n",
    "        self.dropout = Dropout(dropout)\n",
    "\n",
    "    #   x = embedding vectors (inputs)\n",
    "    def forward(self,x):\n",
    "        #Make the queries, keys and values\n",
    "        #Still just muktiplying the matrices\n",
    "        queries = self.W_q(x)\n",
    "        keys = self.W_k(x)\n",
    "        values = self.W_v (x)\n",
    "        #Compute scores, then normalize into weights\n",
    "        scores = queries @ keys.T\n",
    "        weights = torch.softmax(scores / keys.shape[-1]**0.5, dim= -1)\n",
    "        #Compute context vector using weights and values\n",
    "        context = weights @ values\n",
    "        return context"
   ]
  }
 ],
 "metadata": {
  "kernelspec": {
   "display_name": "Python 3",
   "language": "python",
   "name": "python3"
  },
  "language_info": {
   "codemirror_mode": {
    "name": "ipython",
    "version": 3
   },
   "file_extension": ".py",
   "mimetype": "text/x-python",
   "name": "python",
   "nbconvert_exporter": "python",
   "pygments_lexer": "ipython3",
   "version": "3.13.1"
  }
 },
 "nbformat": 4,
 "nbformat_minor": 5
}
